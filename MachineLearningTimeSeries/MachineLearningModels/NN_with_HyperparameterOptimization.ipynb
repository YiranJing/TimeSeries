{
 "cells": [
  {
   "cell_type": "markdown",
   "metadata": {},
   "source": [
    "### Title: NN_with_HyperparameterOptimization\n",
    "Author: Rhys Kilian\n",
    "\n",
    "Date: 31-10-2018\n",
    "\n",
    "This is one of many model files which were created in the hyperparameter optimisation process."
   ]
  },
  {
   "cell_type": "code",
   "execution_count": 1,
   "metadata": {},
   "outputs": [
    {
     "name": "stderr",
     "output_type": "stream",
     "text": [
      "/home/rhys/anaconda3/lib/python3.6/site-packages/h5py/__init__.py:36: FutureWarning: Conversion of the second argument of issubdtype from `float` to `np.floating` is deprecated. In future, it will be treated as `np.float64 == np.dtype(float).type`.\n",
      "  from ._conv import register_converters as _register_converters\n",
      "Using TensorFlow backend.\n"
     ]
    }
   ],
   "source": [
    "from numpy.random import seed\n",
    "seed(1)\n",
    "from tensorflow import set_random_seed\n",
    "set_random_seed(2)\n",
    "\n",
    "import pandas as pd\n",
    "pd.options.display.max_columns = 999\n",
    "\n",
    "from sklearn.model_selection import train_test_split\n",
    "from sklearn.preprocessing import StandardScaler\n",
    "from sklearn.preprocessing import MinMaxScaler\n",
    "from sklearn.preprocessing import MaxAbsScaler\n",
    "from sklearn.preprocessing import RobustScaler\n",
    "from sklearn.metrics import mean_squared_error\n",
    "\n",
    "import matplotlib.pyplot as plt\n",
    "\n",
    "# Import models from scikit learn module\n",
    "from sklearn.linear_model import Ridge, RidgeCV, ElasticNet, LassoCV, LassoLarsCV\n",
    "from sklearn.model_selection import cross_val_score\n",
    "from sklearn.metrics import mean_absolute_error\n",
    "from sklearn.model_selection import GridSearchCV\n",
    "from sklearn.model_selection import RandomizedSearchCV\n",
    "from keras.wrappers.scikit_learn import KerasRegressor\n",
    "\n",
    "import warnings\n",
    "warnings.filterwarnings('ignore')\n",
    "\n",
    "from keras.models import Sequential\n",
    "from keras.layers import Dense\n",
    "from keras import models\n",
    "from keras import layers\n",
    "from keras.layers import Dropout\n",
    "from keras.constraints import maxnorm\n",
    "\n",
    "import numpy as np"
   ]
  },
  {
   "cell_type": "markdown",
   "metadata": {},
   "source": [
    "# 1. Data Preparation"
   ]
  },
  {
   "cell_type": "code",
   "execution_count": null,
   "metadata": {},
   "outputs": [],
   "source": [
    "# Read in the data\n",
    "df_train = pd.read_csv('../../../0. Data/data_demand_cleaned_ML181026_train.csv', sep='\\t')\n",
    "df_train['period'] = pd.to_datetime(df_train['period'], format='%d/%m/%Y %H:%M')\n",
    "df_train.sort_values(by='period', ascending=True, inplace=True)\n",
    "df_train.tail()"
   ]
  },
  {
   "cell_type": "code",
   "execution_count": 3,
   "metadata": {},
   "outputs": [
    {
     "data": {
      "text/html": [
       "<div>\n",
       "<style scoped>\n",
       "    .dataframe tbody tr th:only-of-type {\n",
       "        vertical-align: middle;\n",
       "    }\n",
       "\n",
       "    .dataframe tbody tr th {\n",
       "        vertical-align: top;\n",
       "    }\n",
       "\n",
       "    .dataframe thead th {\n",
       "        text-align: right;\n",
       "    }\n",
       "</style>\n",
       "<table border=\"1\" class=\"dataframe\">\n",
       "  <thead>\n",
       "    <tr style=\"text-align: right;\">\n",
       "      <th></th>\n",
       "      <th>period</th>\n",
       "      <th>demand</th>\n",
       "      <th>air_temp</th>\n",
       "      <th>price</th>\n",
       "      <th>lag_1</th>\n",
       "      <th>lag_2</th>\n",
       "      <th>lag_3</th>\n",
       "      <th>lag_4</th>\n",
       "      <th>lag_5</th>\n",
       "      <th>lag_6</th>\n",
       "      <th>lag_7</th>\n",
       "      <th>lag_45</th>\n",
       "      <th>lag_46</th>\n",
       "      <th>lag_47</th>\n",
       "      <th>lag_48</th>\n",
       "      <th>lag_49</th>\n",
       "      <th>lag_50</th>\n",
       "      <th>lag_51</th>\n",
       "      <th>lag_334</th>\n",
       "      <th>lag_335</th>\n",
       "      <th>lag_336</th>\n",
       "      <th>lag_337</th>\n",
       "      <th>lag_338</th>\n",
       "      <th>lag_1006</th>\n",
       "      <th>lag_1007</th>\n",
       "      <th>lag_1008</th>\n",
       "      <th>lag_1009</th>\n",
       "      <th>lag_1010</th>\n",
       "      <th>lag_1679</th>\n",
       "      <th>lag_1680</th>\n",
       "      <th>lag_1681</th>\n",
       "      <th>lag_287</th>\n",
       "      <th>lag_288</th>\n",
       "      <th>lag_289</th>\n",
       "      <th>lag_672</th>\n",
       "      <th>lag_671</th>\n",
       "      <th>lag_673</th>\n",
       "      <th>dummy_Balckout</th>\n",
       "      <th>dummy_HeatWaves</th>\n",
       "      <th>dummy_Winter</th>\n",
       "      <th>dummy_Spring</th>\n",
       "      <th>dummy_Summer</th>\n",
       "    </tr>\n",
       "  </thead>\n",
       "  <tbody>\n",
       "    <tr>\n",
       "      <th>0</th>\n",
       "      <td>2017-03-01 00:00:00</td>\n",
       "      <td>1852.77</td>\n",
       "      <td>34.00</td>\n",
       "      <td>46.93</td>\n",
       "      <td>1692.17</td>\n",
       "      <td>1743.35</td>\n",
       "      <td>1850.72</td>\n",
       "      <td>1975.58</td>\n",
       "      <td>2098.78</td>\n",
       "      <td>2209.24</td>\n",
       "      <td>2291.59</td>\n",
       "      <td>1400.48</td>\n",
       "      <td>1465.08</td>\n",
       "      <td>1493.41</td>\n",
       "      <td>1599.68</td>\n",
       "      <td>1429.60</td>\n",
       "      <td>1480.51</td>\n",
       "      <td>1540.91</td>\n",
       "      <td>1205.58</td>\n",
       "      <td>1261.73</td>\n",
       "      <td>1344.08</td>\n",
       "      <td>1175.69</td>\n",
       "      <td>1192.87</td>\n",
       "      <td>1362.40</td>\n",
       "      <td>1388.73</td>\n",
       "      <td>1491.46</td>\n",
       "      <td>1348.77</td>\n",
       "      <td>1355.61</td>\n",
       "      <td>1311.26</td>\n",
       "      <td>1418.21</td>\n",
       "      <td>1244.27</td>\n",
       "      <td>1201.42</td>\n",
       "      <td>1275.00</td>\n",
       "      <td>1100.42</td>\n",
       "      <td>1509.93</td>\n",
       "      <td>1401.17</td>\n",
       "      <td>1335.70</td>\n",
       "      <td>0</td>\n",
       "      <td>0</td>\n",
       "      <td>0</td>\n",
       "      <td>0</td>\n",
       "      <td>0</td>\n",
       "    </tr>\n",
       "    <tr>\n",
       "      <th>1</th>\n",
       "      <td>2017-03-01 00:30:00</td>\n",
       "      <td>1698.09</td>\n",
       "      <td>33.80</td>\n",
       "      <td>70.58</td>\n",
       "      <td>1852.77</td>\n",
       "      <td>1692.17</td>\n",
       "      <td>1743.35</td>\n",
       "      <td>1850.72</td>\n",
       "      <td>1975.58</td>\n",
       "      <td>2098.78</td>\n",
       "      <td>2209.24</td>\n",
       "      <td>1356.33</td>\n",
       "      <td>1400.48</td>\n",
       "      <td>1465.08</td>\n",
       "      <td>1493.41</td>\n",
       "      <td>1599.68</td>\n",
       "      <td>1429.60</td>\n",
       "      <td>1480.51</td>\n",
       "      <td>1133.37</td>\n",
       "      <td>1205.58</td>\n",
       "      <td>1261.73</td>\n",
       "      <td>1344.08</td>\n",
       "      <td>1175.69</td>\n",
       "      <td>1294.11</td>\n",
       "      <td>1362.40</td>\n",
       "      <td>1388.73</td>\n",
       "      <td>1491.46</td>\n",
       "      <td>1348.77</td>\n",
       "      <td>1243.51</td>\n",
       "      <td>1311.26</td>\n",
       "      <td>1418.21</td>\n",
       "      <td>1142.83</td>\n",
       "      <td>1201.42</td>\n",
       "      <td>1275.00</td>\n",
       "      <td>1401.17</td>\n",
       "      <td>1339.87</td>\n",
       "      <td>1509.93</td>\n",
       "      <td>0</td>\n",
       "      <td>0</td>\n",
       "      <td>0</td>\n",
       "      <td>0</td>\n",
       "      <td>0</td>\n",
       "    </tr>\n",
       "    <tr>\n",
       "      <th>2</th>\n",
       "      <td>2017-03-01 01:00:00</td>\n",
       "      <td>1629.32</td>\n",
       "      <td>33.60</td>\n",
       "      <td>119.52</td>\n",
       "      <td>1698.09</td>\n",
       "      <td>1852.77</td>\n",
       "      <td>1692.17</td>\n",
       "      <td>1743.35</td>\n",
       "      <td>1850.72</td>\n",
       "      <td>1975.58</td>\n",
       "      <td>2098.78</td>\n",
       "      <td>1357.86</td>\n",
       "      <td>1356.33</td>\n",
       "      <td>1400.48</td>\n",
       "      <td>1465.08</td>\n",
       "      <td>1493.41</td>\n",
       "      <td>1599.68</td>\n",
       "      <td>1429.60</td>\n",
       "      <td>1090.07</td>\n",
       "      <td>1133.37</td>\n",
       "      <td>1205.58</td>\n",
       "      <td>1261.73</td>\n",
       "      <td>1344.08</td>\n",
       "      <td>1250.07</td>\n",
       "      <td>1294.11</td>\n",
       "      <td>1362.40</td>\n",
       "      <td>1388.73</td>\n",
       "      <td>1491.46</td>\n",
       "      <td>1186.26</td>\n",
       "      <td>1243.51</td>\n",
       "      <td>1311.26</td>\n",
       "      <td>1063.67</td>\n",
       "      <td>1142.83</td>\n",
       "      <td>1201.42</td>\n",
       "      <td>1339.87</td>\n",
       "      <td>1276.82</td>\n",
       "      <td>1401.17</td>\n",
       "      <td>0</td>\n",
       "      <td>0</td>\n",
       "      <td>0</td>\n",
       "      <td>0</td>\n",
       "      <td>0</td>\n",
       "    </tr>\n",
       "    <tr>\n",
       "      <th>3</th>\n",
       "      <td>2017-03-01 01:30:00</td>\n",
       "      <td>1546.72</td>\n",
       "      <td>32.25</td>\n",
       "      <td>105.58</td>\n",
       "      <td>1629.32</td>\n",
       "      <td>1698.09</td>\n",
       "      <td>1852.77</td>\n",
       "      <td>1692.17</td>\n",
       "      <td>1743.35</td>\n",
       "      <td>1850.72</td>\n",
       "      <td>1975.58</td>\n",
       "      <td>1345.53</td>\n",
       "      <td>1357.86</td>\n",
       "      <td>1356.33</td>\n",
       "      <td>1400.48</td>\n",
       "      <td>1465.08</td>\n",
       "      <td>1493.41</td>\n",
       "      <td>1599.68</td>\n",
       "      <td>1070.76</td>\n",
       "      <td>1090.07</td>\n",
       "      <td>1133.37</td>\n",
       "      <td>1205.58</td>\n",
       "      <td>1261.73</td>\n",
       "      <td>1216.36</td>\n",
       "      <td>1250.07</td>\n",
       "      <td>1294.11</td>\n",
       "      <td>1362.40</td>\n",
       "      <td>1388.73</td>\n",
       "      <td>1147.69</td>\n",
       "      <td>1186.26</td>\n",
       "      <td>1243.51</td>\n",
       "      <td>1004.65</td>\n",
       "      <td>1063.67</td>\n",
       "      <td>1142.83</td>\n",
       "      <td>1276.82</td>\n",
       "      <td>1231.36</td>\n",
       "      <td>1339.87</td>\n",
       "      <td>0</td>\n",
       "      <td>0</td>\n",
       "      <td>0</td>\n",
       "      <td>0</td>\n",
       "      <td>0</td>\n",
       "    </tr>\n",
       "    <tr>\n",
       "      <th>4</th>\n",
       "      <td>2017-03-01 02:00:00</td>\n",
       "      <td>1511.15</td>\n",
       "      <td>30.90</td>\n",
       "      <td>139.16</td>\n",
       "      <td>1546.72</td>\n",
       "      <td>1629.32</td>\n",
       "      <td>1698.09</td>\n",
       "      <td>1852.77</td>\n",
       "      <td>1692.17</td>\n",
       "      <td>1743.35</td>\n",
       "      <td>1850.72</td>\n",
       "      <td>1320.15</td>\n",
       "      <td>1345.53</td>\n",
       "      <td>1357.86</td>\n",
       "      <td>1356.33</td>\n",
       "      <td>1400.48</td>\n",
       "      <td>1465.08</td>\n",
       "      <td>1493.41</td>\n",
       "      <td>1060.36</td>\n",
       "      <td>1070.76</td>\n",
       "      <td>1090.07</td>\n",
       "      <td>1133.37</td>\n",
       "      <td>1205.58</td>\n",
       "      <td>1226.75</td>\n",
       "      <td>1216.36</td>\n",
       "      <td>1250.07</td>\n",
       "      <td>1294.11</td>\n",
       "      <td>1362.40</td>\n",
       "      <td>1137.57</td>\n",
       "      <td>1147.69</td>\n",
       "      <td>1186.26</td>\n",
       "      <td>1008.12</td>\n",
       "      <td>1004.65</td>\n",
       "      <td>1063.67</td>\n",
       "      <td>1231.36</td>\n",
       "      <td>1186.95</td>\n",
       "      <td>1276.82</td>\n",
       "      <td>0</td>\n",
       "      <td>0</td>\n",
       "      <td>0</td>\n",
       "      <td>0</td>\n",
       "      <td>0</td>\n",
       "    </tr>\n",
       "  </tbody>\n",
       "</table>\n",
       "</div>"
      ],
      "text/plain": [
       "               period   demand  air_temp   price    lag_1    lag_2    lag_3  \\\n",
       "0 2017-03-01 00:00:00  1852.77     34.00   46.93  1692.17  1743.35  1850.72   \n",
       "1 2017-03-01 00:30:00  1698.09     33.80   70.58  1852.77  1692.17  1743.35   \n",
       "2 2017-03-01 01:00:00  1629.32     33.60  119.52  1698.09  1852.77  1692.17   \n",
       "3 2017-03-01 01:30:00  1546.72     32.25  105.58  1629.32  1698.09  1852.77   \n",
       "4 2017-03-01 02:00:00  1511.15     30.90  139.16  1546.72  1629.32  1698.09   \n",
       "\n",
       "     lag_4    lag_5    lag_6    lag_7   lag_45   lag_46   lag_47   lag_48  \\\n",
       "0  1975.58  2098.78  2209.24  2291.59  1400.48  1465.08  1493.41  1599.68   \n",
       "1  1850.72  1975.58  2098.78  2209.24  1356.33  1400.48  1465.08  1493.41   \n",
       "2  1743.35  1850.72  1975.58  2098.78  1357.86  1356.33  1400.48  1465.08   \n",
       "3  1692.17  1743.35  1850.72  1975.58  1345.53  1357.86  1356.33  1400.48   \n",
       "4  1852.77  1692.17  1743.35  1850.72  1320.15  1345.53  1357.86  1356.33   \n",
       "\n",
       "    lag_49   lag_50   lag_51  lag_334  lag_335  lag_336  lag_337  lag_338  \\\n",
       "0  1429.60  1480.51  1540.91  1205.58  1261.73  1344.08  1175.69  1192.87   \n",
       "1  1599.68  1429.60  1480.51  1133.37  1205.58  1261.73  1344.08  1175.69   \n",
       "2  1493.41  1599.68  1429.60  1090.07  1133.37  1205.58  1261.73  1344.08   \n",
       "3  1465.08  1493.41  1599.68  1070.76  1090.07  1133.37  1205.58  1261.73   \n",
       "4  1400.48  1465.08  1493.41  1060.36  1070.76  1090.07  1133.37  1205.58   \n",
       "\n",
       "   lag_1006  lag_1007  lag_1008  lag_1009  lag_1010  lag_1679  lag_1680  \\\n",
       "0   1362.40   1388.73   1491.46   1348.77   1355.61   1311.26   1418.21   \n",
       "1   1294.11   1362.40   1388.73   1491.46   1348.77   1243.51   1311.26   \n",
       "2   1250.07   1294.11   1362.40   1388.73   1491.46   1186.26   1243.51   \n",
       "3   1216.36   1250.07   1294.11   1362.40   1388.73   1147.69   1186.26   \n",
       "4   1226.75   1216.36   1250.07   1294.11   1362.40   1137.57   1147.69   \n",
       "\n",
       "   lag_1681  lag_287  lag_288  lag_289  lag_672  lag_671  lag_673  \\\n",
       "0   1244.27  1201.42  1275.00  1100.42  1509.93  1401.17  1335.70   \n",
       "1   1418.21  1142.83  1201.42  1275.00  1401.17  1339.87  1509.93   \n",
       "2   1311.26  1063.67  1142.83  1201.42  1339.87  1276.82  1401.17   \n",
       "3   1243.51  1004.65  1063.67  1142.83  1276.82  1231.36  1339.87   \n",
       "4   1186.26  1008.12  1004.65  1063.67  1231.36  1186.95  1276.82   \n",
       "\n",
       "   dummy_Balckout  dummy_HeatWaves  dummy_Winter  dummy_Spring  dummy_Summer  \n",
       "0               0                0             0             0             0  \n",
       "1               0                0             0             0             0  \n",
       "2               0                0             0             0             0  \n",
       "3               0                0             0             0             0  \n",
       "4               0                0             0             0             0  "
      ]
     },
     "execution_count": 3,
     "metadata": {},
     "output_type": "execute_result"
    }
   ],
   "source": [
    "# Read in the data\n",
    "df_test = pd.read_csv('../../../0. Data/data_demand_cleaned_ML181026_test.csv', sep='\\t')\n",
    "df_test['period'] = pd.to_datetime(df_test['period'], format='%d/%m/%Y %H:%M')\n",
    "df_test.sort_values(by='period', ascending=True, inplace=True)\n",
    "df_test.head()"
   ]
  },
  {
   "cell_type": "markdown",
   "metadata": {},
   "source": [
    "We now have to remove the 1681 rows which contain NaN values. Otherwise, we will get errors when trying to create our models."
   ]
  },
  {
   "cell_type": "code",
   "execution_count": 4,
   "metadata": {},
   "outputs": [],
   "source": [
    "# Remove NaN values\n",
    "df_train.dropna(axis=0, inplace=True)\n",
    "df_train.reset_index(drop=True,inplace=True)\n",
    "df_test.dropna(axis=0, inplace=True)\n",
    "df_test.reset_index(drop=True,inplace=True)"
   ]
  },
  {
   "cell_type": "markdown",
   "metadata": {},
   "source": [
    "## 1.1 Train/Validation/Test Split"
   ]
  },
  {
   "cell_type": "markdown",
   "metadata": {},
   "source": [
    "If we want a test set of approximately 20% then we need the last two months of data which are March 2017 and April 2017. This gives us a test set of approximately 18.5%. We do the same for the validation set which is January 2017 and February 2017. "
   ]
  },
  {
   "cell_type": "code",
   "execution_count": 5,
   "metadata": {},
   "outputs": [],
   "source": [
    "# # Create training and test sets\n",
    "# split_point = 12910\n",
    "# df_train_validate = df.iloc[0:split_point,:]\n",
    "# df_test = df.iloc[split_point:,:]"
   ]
  },
  {
   "cell_type": "code",
   "execution_count": 6,
   "metadata": {},
   "outputs": [],
   "source": [
    "# # Create training and validation sets\n",
    "# split_point = 10078\n",
    "# df_train = df_train_validate.iloc[0:split_point,:]\n",
    "# df_validate = df_train_validate.iloc[split_point:,:]"
   ]
  },
  {
   "cell_type": "code",
   "execution_count": 7,
   "metadata": {},
   "outputs": [],
   "source": [
    "# Shuffle \n",
    "from sklearn.utils import shuffle\n",
    "df_train = shuffle(df_train)\n",
    "#df_validate = shuffle(df_validate)\n",
    "df_test = shuffle(df_test)"
   ]
  },
  {
   "cell_type": "markdown",
   "metadata": {},
   "source": [
    "## 1.2 Convert Data"
   ]
  },
  {
   "cell_type": "code",
   "execution_count": 8,
   "metadata": {},
   "outputs": [
    {
     "name": "stdout",
     "output_type": "stream",
     "text": [
      "Dimensions of y: (12910, 1)\n",
      "Dimensions of X: (12910, 40)\n"
     ]
    }
   ],
   "source": [
    "# Convert the data\n",
    "X_train = df_train[[\"air_temp\", \"price\", \"lag_1\", \"lag_2\", \"lag_3\", \"lag_4\", \"lag_5\", \"lag_6\", \"lag_7\", \"lag_45\", \"lag_46\", \"lag_47\", \"lag_48\", \"lag_49\", \"lag_50\", \"lag_51\", \"lag_334\", \"lag_335\", \"lag_336\", \"lag_337\", \"lag_338\", \"lag_1006\", \"lag_1007\", \"lag_1008\", \"lag_1009\", \"lag_1010\", \"lag_1679\", \"lag_1680\", \"lag_1681\", \"lag_287\", \"lag_288\", \"lag_289\", \"lag_672\",\"lag_671\", \"lag_673\", \"dummy_Balckout\", \"dummy_HeatWaves\", \"dummy_Winter\", \"dummy_Spring\", \"dummy_Summer\"]]\n",
    "y_train = df_train[['demand']]\n",
    "\n",
    "# Print the dimensions of X and y \n",
    "print(\"Dimensions of y: {}\".format(y_train.shape))\n",
    "print(\"Dimensions of X: {}\".format(X_train.shape))"
   ]
  },
  {
   "cell_type": "code",
   "execution_count": 9,
   "metadata": {},
   "outputs": [],
   "source": [
    "# # Convert the data\n",
    "# X_validate = df_validate[[\"air_temp\", \"price\", \"lag_1\", \"lag_2\", \"lag_3\", \"lag_4\", \"lag_5\", \"lag_6\", \"lag_7\", \"lag_45\", \"lag_46\", \"lag_47\", \"lag_48\", \"lag_49\", \"lag_50\", \"lag_51\", \"lag_334\", \"lag_335\", \"lag_336\", \"lag_337\", \"lag_338\", \"lag_1006\", \"lag_1007\", \"lag_1008\", \"lag_1009\", \"lag_1010\", \"lag_1679\", \"lag_1680\", \"lag_1681\", \"lag_287\", \"lag_288\", \"lag_289\", \"dummy_Balckout\", \"dummy_HeatWaves\", \"dummy_Winter\", \"dummy_Spring\", \"dummy_Summer\"]]\n",
    "# y_validate = df_validate[['demand']]\n",
    "\n",
    "# # Print the dimensions of X and y \n",
    "# print(\"Dimensions of y: {}\".format(y_validate.shape))\n",
    "# print(\"Dimensions of X: {}\".format(X_validate.shape))"
   ]
  },
  {
   "cell_type": "code",
   "execution_count": 10,
   "metadata": {},
   "outputs": [
    {
     "name": "stdout",
     "output_type": "stream",
     "text": [
      "Dimensions of y: (2909, 1)\n",
      "Dimensions of X: (2909, 40)\n"
     ]
    }
   ],
   "source": [
    "# Convert the data\n",
    "X_test = df_test[[\"air_temp\", \"price\", \"lag_1\", \"lag_2\", \"lag_3\", \"lag_4\", \"lag_5\", \"lag_6\", \"lag_7\", \"lag_45\", \"lag_46\", \"lag_47\", \"lag_48\", \"lag_49\", \"lag_50\", \"lag_51\", \"lag_334\", \"lag_335\", \"lag_336\", \"lag_337\", \"lag_338\", \"lag_1006\", \"lag_1007\", \"lag_1008\", \"lag_1009\", \"lag_1010\", \"lag_1679\", \"lag_1680\", \"lag_1681\", \"lag_287\", \"lag_288\", \"lag_289\", \"lag_672\",\"lag_671\", \"lag_673\", \"dummy_Balckout\", \"dummy_HeatWaves\", \"dummy_Winter\", \"dummy_Spring\", \"dummy_Summer\"]]\n",
    "y_test = df_test[['demand']]\n",
    "\n",
    "# Print the dimensions of X and y \n",
    "print(\"Dimensions of y: {}\".format(y_test.shape))\n",
    "print(\"Dimensions of X: {}\".format(X_test.shape))"
   ]
  },
  {
   "cell_type": "markdown",
   "metadata": {},
   "source": [
    "## 1.3 Data Transformation\n",
    "Making sure we only transform the numerical features and not the two dummy variables."
   ]
  },
  {
   "cell_type": "code",
   "execution_count": 11,
   "metadata": {},
   "outputs": [],
   "source": [
    "# We now create a list of numerical variables which will later be transformed\n",
    "categorical = ['dummy_Balckout', 'dummy_HeatWaves', 'dummy_Winter', 'dummy_Spring', 'dummy_Summer']\n",
    "exclude = categorical\n",
    "numerical=[x for x in list(X_train.columns) if x not in exclude]"
   ]
  },
  {
   "cell_type": "code",
   "execution_count": 12,
   "metadata": {},
   "outputs": [],
   "source": [
    "# Create numerical and categorical subsets of the data\n",
    "X_train_numerical=X_train[numerical]\n",
    "#X_validate_numerical=X_validate[numerical]\n",
    "X_test_numerical=X_test[numerical]\n",
    "\n",
    "X_train_categorical=X_train[categorical]\n",
    "#X_validate_categorical=X_validate[categorical]\n",
    "X_test_categorical=X_test[categorical]"
   ]
  },
  {
   "cell_type": "code",
   "execution_count": 13,
   "metadata": {},
   "outputs": [],
   "source": [
    "# Use StandardScaler to transform numerical data\n",
    "sc = StandardScaler().fit(X_train_numerical)\n",
    "X_train_numerical_sc = sc.transform(X_train_numerical)\n",
    "#X_validate_numerical_sc = sc.transform(X_validate_numerical)\n",
    "X_test_numerical_sc = sc.transform(X_test_numerical)\n",
    "\n",
    "# Add others here later"
   ]
  },
  {
   "cell_type": "code",
   "execution_count": 14,
   "metadata": {},
   "outputs": [],
   "source": [
    "# Get the index from the previous numerical df\n",
    "train_index = X_train_numerical.index\n",
    "#validate_index = X_validate_numerical.index\n",
    "test_index = X_test_numerical.index\n",
    "\n",
    "# Create dataframe\n",
    "X_train_numerical_sc = pd.DataFrame(X_train_numerical_sc, columns=numerical, index=train_index)\n",
    "#X_validate_numerical_sc = pd.DataFrame(X_validate_numerical_sc, columns=numerical, index=validate_index)\n",
    "X_test_numerical_sc = pd.DataFrame(X_test_numerical_sc, columns=numerical, index=test_index)\n",
    "\n",
    "# Combine the data again to form the complete data set\n",
    "X_train = pd.concat([X_train_numerical_sc, X_train_categorical], axis=1)\n",
    "#X_validate = pd.concat([X_validate_numerical_sc, X_validate_categorical], axis=1)\n",
    "X_test = pd.concat([X_test_numerical_sc, X_test_categorical], axis=1)"
   ]
  },
  {
   "cell_type": "code",
   "execution_count": 15,
   "metadata": {},
   "outputs": [],
   "source": [
    "# Convert to arrays for modelling\n",
    "X_train = X_train.values\n",
    "#X_validate = X_validate.values\n",
    "X_test = X_test.values\n",
    "\n",
    "y_train = y_train.values\n",
    "#y_validate = y_validate.values\n",
    "y_test = y_test.values"
   ]
  },
  {
   "cell_type": "markdown",
   "metadata": {},
   "source": [
    "# 2. Modelling"
   ]
  },
  {
   "cell_type": "markdown",
   "metadata": {},
   "source": [
    "## 2.1 Functions for Scores"
   ]
  },
  {
   "cell_type": "code",
   "execution_count": 16,
   "metadata": {},
   "outputs": [],
   "source": [
    "def rmse_cv_train(model):\n",
    "    rmse= np.sqrt(-cross_val_score(model, X_train, y_train, scoring=\"neg_mean_squared_error\", cv = 5))\n",
    "    return(rmse)\n",
    "\n",
    "def rmse_cv_test(model):\n",
    "    rmse= np.sqrt(-cross_val_score(model, X_test, y_test, scoring=\"neg_mean_squared_error\", cv = 5))\n",
    "    return(rmse)\n",
    "\n",
    "def mae_cv_train(model):\n",
    "    mae= -cross_val_score(model, X_train, y_train, scoring=\"neg_mean_absolute_error\", cv = 5)\n",
    "    return(mae)\n",
    "\n",
    "def mae_cv_test(model):\n",
    "    mae= -cross_val_score(model, X_test, y_test, scoring=\"neg_mean_absolute_error\", cv = 5)\n",
    "    return(mae)"
   ]
  },
  {
   "cell_type": "markdown",
   "metadata": {},
   "source": [
    "## 2.2 Create Function That Constructs A Neural Network"
   ]
  },
  {
   "cell_type": "markdown",
   "metadata": {},
   "source": [
    "https://chrisalbon.com/deep_learning/keras/tuning_neural_network_hyperparameters/\n",
    "\n",
    "https://chrisalbon.com/machine_learning/model_selection/hyperparameter_tuning_using_random_search/"
   ]
  },
  {
   "cell_type": "code",
   "execution_count": 17,
   "metadata": {},
   "outputs": [],
   "source": [
    "# Find the size of the input\n",
    "n_input = X_train.shape[1]\n",
    "\n",
    "# Create function returning a compiled network\n",
    "def create_network(optimizer='adam', layer1_units=15, layer2_units=15, layer3_units=15, init_mode='uniform', activation='relu', dropout_rate=0.0, weight_constraint=0):\n",
    "    \n",
    "    # Start neural network\n",
    "    network = models.Sequential()\n",
    "\n",
    "    # Add fully connected layer with a ReLU activation function\n",
    "    network.add(layers.Dense(units=layer1_units, activation=activation, kernel_initializer=init_mode, kernel_constraint=maxnorm(weight_constraint), input_shape=(n_input,)))\n",
    "    \n",
    "    # Dropout\n",
    "    network.add(Dropout(dropout_rate))\n",
    "    \n",
    "    # Add fully connected layer with a ReLU activation function\n",
    "    network.add(layers.Dense(units=layer2_units, activation=activation, kernel_initializer=init_mode, kernel_constraint=maxnorm(weight_constraint)))\n",
    "    \n",
    "    # Dropout\n",
    "    network.add(Dropout(dropout_rate))\n",
    "    \n",
    "    # Add fully connected layer with a ReLU activation function\n",
    "    network.add(layers.Dense(units=layer3_units, activation=activation, kernel_initializer=init_mode, kernel_constraint=maxnorm(weight_constraint)))\n",
    "    \n",
    "    # Dropout\n",
    "    network.add(Dropout(dropout_rate))\n",
    "\n",
    "    # Add fully connected layer with a sigmoid activation function\n",
    "    network.add(layers.Dense(units=1, activation='linear', kernel_initializer=init_mode))\n",
    "\n",
    "    # Compile neural network\n",
    "    network.compile(loss='mean_squared_error', \n",
    "                    optimizer=optimizer, # Optimizer\n",
    "                    metrics=['mean_absolute_error','mean_absolute_percentage_error']) # Accuracy performance metric\n",
    "    \n",
    "    # Return compiled network\n",
    "    return network"
   ]
  },
  {
   "cell_type": "markdown",
   "metadata": {},
   "source": [
    "## 2.3 Wrap Function In KerasClassifier"
   ]
  },
  {
   "cell_type": "code",
   "execution_count": 18,
   "metadata": {},
   "outputs": [],
   "source": [
    "# Wrap Keras model so it can be used by scikit-learn\n",
    "neural_network = KerasRegressor(build_fn=create_network, verbose=0)"
   ]
  },
  {
   "cell_type": "markdown",
   "metadata": {},
   "source": [
    "## 2.4 Create Hyperparameter Search Space"
   ]
  },
  {
   "cell_type": "code",
   "execution_count": 19,
   "metadata": {},
   "outputs": [],
   "source": [
    "# Create hyperparameter space\n",
    "epochs = [500, 600, 700, 800, 900, 1200, 1600]\n",
    "batches = [5, 10, 25, 50, 100, 200]\n",
    "optimizers = ['Adam', 'Nadam']\n",
    "init_mode = ['normal', 'glorot_normal', 'he_normal']\n",
    "layer1_units = [10,15, 20, 25, 30, 35, 40, 50]\n",
    "layer2_units = [5,10, 15, 20, 25, 30, 35, 40, 50]\n",
    "layer3_units = [5,10, 15, 20, 25, 30, 35, 40, 50]\n",
    "activation = ['relu']\n",
    "weight_constraint = [1, 2, 3, 4]\n",
    "dropout_rate = [0.2, 0.3, 0.4]\n",
    "\n",
    "# Create hyperparameter options\n",
    "hyperparameters = dict(optimizer=optimizers, epochs=epochs, batch_size=batches, init_mode=init_mode, layer1_units=layer1_units, layer2_units=layer2_units,layer3_units=layer3_units, activation=activation, dropout_rate=dropout_rate, weight_constraint=weight_constraint)"
   ]
  },
  {
   "cell_type": "markdown",
   "metadata": {},
   "source": [
    "## 2.5 Conduct Grid Search"
   ]
  },
  {
   "cell_type": "code",
   "execution_count": 20,
   "metadata": {},
   "outputs": [],
   "source": [
    "# Create grid search\n",
    "#grid = GridSearchCV(estimator=neural_network, param_grid=hyperparameters)\n",
    "\n",
    "# Randomised grid search\n",
    "grid = RandomizedSearchCV(neural_network, hyperparameters, random_state=1, n_iter=50, cv=3, verbose=0, n_jobs=-1)\n",
    "\n",
    "# Fit grid search\n",
    "grid_result = grid.fit(X_train, y_train)"
   ]
  },
  {
   "cell_type": "markdown",
   "metadata": {},
   "source": [
    "## 2.6 Find Best Model’s Hyperparameters"
   ]
  },
  {
   "cell_type": "code",
   "execution_count": 21,
   "metadata": {},
   "outputs": [
    {
     "data": {
      "text/plain": [
       "{'activation': 'relu',\n",
       " 'batch_size': 50,\n",
       " 'dropout_rate': 0.2,\n",
       " 'epochs': 1200,\n",
       " 'init_mode': 'he_normal',\n",
       " 'layer1_units': 25,\n",
       " 'layer2_units': 35,\n",
       " 'layer3_units': 35,\n",
       " 'optimizer': 'Nadam',\n",
       " 'weight_constraint': 3}"
      ]
     },
     "execution_count": 21,
     "metadata": {},
     "output_type": "execute_result"
    }
   ],
   "source": [
    "# View hyperparameters of best neural network\n",
    "grid_result.best_params_"
   ]
  },
  {
   "cell_type": "markdown",
   "metadata": {},
   "source": [
    "## 2.7 Display the Top 5 Models"
   ]
  },
  {
   "cell_type": "code",
   "execution_count": null,
   "metadata": {},
   "outputs": [],
   "source": [
    "df_cv_results = pd.DataFrame(grid_result.cv_results_)\n",
    "df_cv_results.sort_values(by=['rank_test_score']).head(75)"
   ]
  },
  {
   "cell_type": "markdown",
   "metadata": {},
   "source": [
    "# 3. Model Validation\n",
    "I will take the 3 best models and fit them manually. Then I will run them on the validation data to get their scores. Repeat the stuff from below"
   ]
  },
  {
   "cell_type": "markdown",
   "metadata": {},
   "source": [
    "## 3.1 Model 1"
   ]
  },
  {
   "cell_type": "code",
   "execution_count": null,
   "metadata": {},
   "outputs": [],
   "source": [
    "# Find the size of the input\n",
    "n_input = X_train.shape[1]\n",
    "\n",
    "# Define the model\n",
    "model1 = Sequential()\n",
    "model1.add(Dense(25, input_dim=n_input, activation='relu', kernel_initializer='he_normal', kernel_constraint=maxnorm(3)))\n",
    "model1.add(Dropout(0.2))\n",
    "model1.add(Dense(35, activation='relu', kernel_initializer='he_normal', kernel_constraint=maxnorm(3)))\n",
    "model1.add(Dropout(0.2))\n",
    "model1.add(Dense(35, activation='relu', kernel_initializer='he_normal', kernel_constraint=maxnorm(3)))\n",
    "model1.add(Dropout(0.2))\n",
    "model1.add(Dense(1, activation='linear', kernel_initializer='he_normal')) \n",
    "\n",
    "# Compile the model\n",
    "model1.compile(loss='mean_squared_error', optimizer='nadam', metrics=['mean_absolute_error','mean_absolute_percentage_error'])\n",
    "\n",
    "# Fit the model\n",
    "validation_data = (X_test, y_test)\n",
    "history1 = model1.fit(X_train, y_train, epochs=1200, batch_size=50, validation_data=validation_data)\n",
    "\n",
    "# Calculate the scores\n",
    "scores1 = model1.evaluate(X_test, y_test)"
   ]
  },
  {
   "cell_type": "code",
   "execution_count": 24,
   "metadata": {},
   "outputs": [
    {
     "data": {
      "image/png": "[encoded data removed]",
      "text/plain": [
       "<Figure size 432x288 with 1 Axes>"
      ]
     },
     "metadata": {},
     "output_type": "display_data"
    }
   ],
   "source": [
    "# summarize history for loss\n",
    "plt.plot(history1.history['mean_absolute_percentage_error'])\n",
    "plt.plot(history1.history['val_mean_absolute_percentage_error'])\n",
    "#plt.ylim(0, 10)\n",
    "plt.title('MAPE vs Epoch')\n",
    "plt.ylabel('MAPE')\n",
    "plt.xlabel('epoch')\n",
    "plt.legend(['train', 'validate'], loc='upper right')\n",
    "plt.show()"
   ]
  },
  {
   "cell_type": "code",
   "execution_count": 25,
   "metadata": {},
   "outputs": [
    {
     "name": "stdout",
     "output_type": "stream",
     "text": [
      "\n",
      "mean_absolute_percentage_error: 7.79%\n"
     ]
    }
   ],
   "source": [
    "print(\"\\n%s: %.2f%%\" % (model1.metrics_names[2], scores1[2]))"
   ]
  },
  {
   "cell_type": "code",
   "execution_count": 26,
   "metadata": {},
   "outputs": [
    {
     "name": "stdout",
     "output_type": "stream",
     "text": [
      "\n",
      "mean_absolute_error: 102.33(MW)\n"
     ]
    }
   ],
   "source": [
    "print(\"\\n%s: %.2f(MW)\" % (model1.metrics_names[1], scores1[1])) "
   ]
  },
  {
   "cell_type": "markdown",
   "metadata": {},
   "source": [
    "## 3.2 Model 2"
   ]
  },
  {
   "cell_type": "code",
   "execution_count": null,
   "metadata": {},
   "outputs": [],
   "source": [
    "# Find the size of the input\n",
    "n_input = X_train.shape[1]\n",
    "\n",
    "# Define the model\n",
    "model2 = Sequential()\n",
    "model2.add(Dense(25, input_dim=n_input, activation='relu', kernel_initializer='he_normal'))\n",
    "model2.add(Dropout(0))\n",
    "model2.add(Dense(25, activation='relu', kernel_initializer='he_normal'))\n",
    "model2.add(Dropout(0))\n",
    "model2.add(Dense(1, activation='linear', kernel_initializer='he_normal')) \n",
    "\n",
    "# Compile the model\n",
    "model2.compile(loss='mean_squared_error', optimizer='adam', metrics=['mean_absolute_error','mean_absolute_percentage_error'])\n",
    "\n",
    "# Fit the model\n",
    "validation_data = (X_validate, y_validate)\n",
    "history2 = model2.fit(X_train, y_train, epochs=700, batch_size=5, validation_data=validation_data)\n",
    "\n",
    "# Calculate the scores\n",
    "scores2 = model2.evaluate(X_validate, y_validate)"
   ]
  },
  {
   "cell_type": "code",
   "execution_count": null,
   "metadata": {},
   "outputs": [],
   "source": [
    "# summarize history for loss\n",
    "plt.plot(history2.history['mean_absolute_percentage_error'])\n",
    "plt.plot(history2.history['val_mean_absolute_percentage_error'])\n",
    "#plt.ylim(0, 10)\n",
    "plt.title('MAPE vs Epoch')\n",
    "plt.ylabel('MAPE')\n",
    "plt.xlabel('epoch')\n",
    "plt.legend(['train', 'validate'], loc='upper right')\n",
    "plt.show()"
   ]
  },
  {
   "cell_type": "code",
   "execution_count": null,
   "metadata": {},
   "outputs": [],
   "source": [
    "print(\"\\n%s: %.2f%%\" % (model2.metrics_names[2], scores2[2]))\n",
    "print(\"\\n%s: %.2f(MW)\" % (model2.metrics_names[1], scores2[1])) "
   ]
  },
  {
   "cell_type": "markdown",
   "metadata": {},
   "source": [
    "## 3.3. Model 3"
   ]
  },
  {
   "cell_type": "code",
   "execution_count": null,
   "metadata": {},
   "outputs": [],
   "source": [
    "# Find the size of the input\n",
    "n_input = X_train.shape[1]\n",
    "\n",
    "# Define the model\n",
    "model3 = Sequential()\n",
    "model3.add(Dense(30, input_dim=n_input, activation='relu', kernel_initializer='glorot_normal'))\n",
    "model3.add(Dropout(0))\n",
    "model3.add(Dense(35, activation='relu', kernel_initializer='glorot_normal'))\n",
    "model3.add(Dropout(0))\n",
    "model3.add(Dense(1, activation='linear', kernel_initializer='glorot_normal')) \n",
    "\n",
    "# Compile the model\n",
    "model3.compile(loss='mean_squared_error', optimizer='nadam', metrics=['mean_absolute_error','mean_absolute_percentage_error'])\n",
    "\n",
    "# Fit the model\n",
    "validation_data = (X_validate, y_validate)\n",
    "history3 = model3.fit(X_train, y_train, epochs=300, batch_size=25, validation_data=validation_data)\n",
    "\n",
    "# Calculate the scores\n",
    "scores3 = model3.evaluate(X_validate, y_validate)"
   ]
  },
  {
   "cell_type": "code",
   "execution_count": null,
   "metadata": {},
   "outputs": [],
   "source": [
    "# summarize history for loss\n",
    "plt.plot(history3.history['mean_absolute_percentage_error'])\n",
    "plt.plot(history3.history['val_mean_absolute_percentage_error'])\n",
    "#plt.ylim(0, 10)\n",
    "plt.title('MAPE vs Epoch')\n",
    "plt.ylabel('MAPE')\n",
    "plt.xlabel('epoch')\n",
    "plt.legend(['train', 'validate'], loc='upper right')\n",
    "plt.show()"
   ]
  },
  {
   "cell_type": "code",
   "execution_count": null,
   "metadata": {},
   "outputs": [],
   "source": [
    "print(\"\\n%s: %.2f%%\" % (model3.metrics_names[2], scores3[2]))\n",
    "print(\"\\n%s: %.2f(MW)\" % (model3.metrics_names[1], scores3[1])) "
   ]
  },
  {
   "cell_type": "code",
   "execution_count": null,
   "metadata": {},
   "outputs": [],
   "source": []
  }
 ],
 "metadata": {
  "kernelspec": {
   "display_name": "Python 3",
   "language": "python",
   "name": "python3"
  },
  "language_info": {
   "codemirror_mode": {
    "name": "ipython",
    "version": 3
   },
   "file_extension": ".py",
   "mimetype": "text/x-python",
   "name": "python",
   "nbconvert_exporter": "python",
   "pygments_lexer": "ipython3",
   "version": "3.7.1"
  }
 },
 "nbformat": 4,
 "nbformat_minor": 2
}

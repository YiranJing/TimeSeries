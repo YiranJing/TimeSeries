{
 "cells": [
  {
   "cell_type": "markdown",
   "metadata": {},
   "source": [
    "### Title: Model Combination and Encompassing\n",
    "\n",
    "Author: Yiran Jing\n",
    "\n",
    "Date: 31-10-2018\n",
    "\n",
    "##### Summary\n",
    "\n",
    "- Attempting to combine AR(336) and ridge model (second best and third best model)\n",
    "- Evaluating whether is combination of models useful with forecast encompassing.\n",
    "\n",
    "\n",
    "##### Result\n",
    "**Must mention the following points below, as we should try all reasonable/possible combination, but some of them didnot work well**\n",
    "- AR(336) and ridge combination seems to have improved our forecasts.\n",
    "- We tried combine NN with AR or ridge as well, but cannot get lower MAPE than signle NN. \n",
    "- We also tried combine NN, Ridge and AR three model together, but cannot imporve MAPE as well"
   ]
  },
  {
   "cell_type": "code",
   "execution_count": 282,
   "metadata": {},
   "outputs": [],
   "source": [
    "from collections import Counter\n",
    "import pandas as pd\n",
    "import csv\n",
    "import pprint\n",
    "import numpy as np\n",
    "import warnings\n",
    "warnings.filterwarnings('ignore')\n",
    "import datetime as dt\n",
    "from collections import defaultdict\n",
    "import matplotlib.dates as mdates\n",
    "import matplotlib.pyplot as plt\n",
    "import matplotlib as mpl\n",
    "from pandas import Series\n",
    "from matplotlib import pyplot\n",
    "import statsmodels.api as sm\n",
    "import seaborn as sns\n",
    "import datetime\n",
    "import glob, os\n",
    "from statsmodels.tsa.arima_model import ARIMA\n",
    "import forecast\n",
    "import warnings\n",
    "warnings.filterwarnings('ignore')\n",
    "\n",
    "# Plot settings\n",
    "sns.set_context('notebook') \n",
    "sns.set_style('ticks')\n",
    "red='#D62728'\n",
    "blue='#1F77B4'\n",
    "%matplotlib inline\n",
    "\n",
    "from sklearn.model_selection import cross_val_score\n",
    "from sklearn.metrics import mean_absolute_error"
   ]
  },
  {
   "cell_type": "markdown",
   "metadata": {},
   "source": [
    "### Introduction\n",
    "\n",
    "https://labs.eleks.com/2016/10/combined-different-methods-create-advanced-time-series-prediction.html\n",
    "\n",
    "Combining forecasts have been shown in the literature to greatly improve forecasts and also intuitively makes sense as well.\n",
    "\n",
    "Recall that if we had a 1-step ahead forecast from 2 different models, which we denote as $\\hat{y}_{t+1}^{(1)}$ and $\\hat{y}_{t+1}^{(2)}$. Furthermore, we can compute the forecast errors which we denote as $e_{t+1}^(1)$ and $e_{t+1}^(2)$. From this, letting $\\lambda$ be the weight parameter, we denote the combined forecast as \n",
    "\n",
    "$$\n",
    "\\hat{y}_{t+1}^{c} = (1-\\lambda)\\hat{y}_{t+1}^{(1)} + \\lambda \\hat{y}_{t+1}^{(2)}\n",
    "$$\n",
    "\n",
    "From this, the variance of the combined forecast error is \n",
    "\n",
    "$$\n",
    "Var(e_{t+1}^c) = (1 - \\lambda)^2\\sigma_1^2 + \\lambda^2\\sigma_2^2 + 2\\lambda(1-\\lambda)\\rho \\sigma_1\\sigma_2\n",
    "$$\n",
    "\n",
    "We can then optimise $\\lambda$ to minimise the variance, which gives us \n",
    "$$\n",
    "\\lambda^* = \\frac{\\sigma_1^2 - \\rho \\sigma_1 \\sigma_2}{\\sigma_1^2 + \\sigma_2^2 - 2\\rho \\sigma_1\\sigma_2}\n",
    "$$\n",
    "\n",
    "However, we need to use estimates so we have that\n",
    "\n",
    "$$\n",
    "\\hat{\\lambda^*} = \\frac{\\hat{\\sigma}_1^2 -  \\hat{\\sigma}_{12}}{\\hat{\\sigma}_1^2 + \\hat{\\sigma}_2^2 - 2\\hat{\\sigma}_{12}}.\n",
    "$$\n",
    "\n",
    "where we use $\\hat{\\sigma}$ as an estimator for $\\sigma$,to be the residuals in our estimated model."
   ]
  },
  {
   "cell_type": "code",
   "execution_count": 227,
   "metadata": {},
   "outputs": [],
   "source": [
    "data = pd.read_csv(\"../data/combine_model_result_10_29.csv\")\n",
    "del data['period.1']"
   ]
  },
  {
   "cell_type": "markdown",
   "metadata": {},
   "source": [
    "### AR(336)"
   ]
  },
  {
   "cell_type": "code",
   "execution_count": 69,
   "metadata": {},
   "outputs": [],
   "source": [
    "ar_res = data['demand'] - data['ar_336_fit']\n",
    "ar_res = ar_res[:12910]"
   ]
  },
  {
   "cell_type": "code",
   "execution_count": 289,
   "metadata": {},
   "outputs": [
    {
     "data": {
      "text/plain": [
       "3848.608502066189"
      ]
     },
     "execution_count": 289,
     "metadata": {},
     "output_type": "execute_result"
    }
   ],
   "source": [
    "ar_var = np.var(ar_res)\n",
    "ar_var"
   ]
  },
  {
   "cell_type": "markdown",
   "metadata": {},
   "source": [
    "### Ridge model"
   ]
  },
  {
   "cell_type": "code",
   "execution_count": 290,
   "metadata": {},
   "outputs": [
    {
     "data": {
      "text/plain": [
       "4963.336670554788"
      ]
     },
     "execution_count": 290,
     "metadata": {},
     "output_type": "execute_result"
    }
   ],
   "source": [
    "ridge_res = data['demand'] - data['ridge_fit']\n",
    "ridge_res = ridge_res[:12910]\n",
    "ridge_var = np.var(ridge_res)\n",
    "ridge_var"
   ]
  },
  {
   "cell_type": "markdown",
   "metadata": {},
   "source": [
    "### NN model"
   ]
  },
  {
   "cell_type": "code",
   "execution_count": 291,
   "metadata": {},
   "outputs": [
    {
     "data": {
      "text/plain": [
       "3611.1306860790373"
      ]
     },
     "execution_count": 291,
     "metadata": {},
     "output_type": "execute_result"
    }
   ],
   "source": [
    "nn_res = data['demand'] - data['nn_fit']\n",
    "nn_res = nn_res[:12910]\n",
    "nn_var = np.var(nn_res)\n",
    "nn_var"
   ]
  },
  {
   "cell_type": "markdown",
   "metadata": {},
   "source": [
    "### Combine NN and Ridge \n",
    "**didnot work well , can ignore it**\n",
    "\n",
    "As Variance of NN and AR are simiailar, and much lower tna. Ridge, so we combine AR and NN first to see result!"
   ]
  },
  {
   "cell_type": "code",
   "execution_count": 292,
   "metadata": {},
   "outputs": [
    {
     "name": "stdout",
     "output_type": "stream",
     "text": [
      "Variance of forecast for AR(336) is 3848.608502066189 and variance of nn is 3611.1306860790373\n"
     ]
    }
   ],
   "source": [
    "print(\"Variance of forecast for AR(336) is {} and variance of nn is {}\".format(ar_var, nn_var))"
   ]
  },
  {
   "cell_type": "code",
   "execution_count": 293,
   "metadata": {},
   "outputs": [
    {
     "name": "stdout",
     "output_type": "stream",
     "text": [
      "Covariance of residuals is -2978.011957322873\n"
     ]
    }
   ],
   "source": [
    "# Get the 1,2 entry to get the covariance from covariance matrix.\n",
    "cov = np.cov(ar_res, nn_res)[0][1]\n",
    "print(\"Covariance of residuals is {}\".format(cov))"
   ]
  },
  {
   "cell_type": "code",
   "execution_count": 294,
   "metadata": {},
   "outputs": [
    {
     "name": "stdout",
     "output_type": "stream",
     "text": [
      "Lambda to use is 0.49114929899374316\n"
     ]
    }
   ],
   "source": [
    "opt_lambda = (nn_var - cov)/(ar_var + nn_var - (2*cov))\n",
    "print(\"Lambda to use is {}\".format(opt_lambda))"
   ]
  },
  {
   "cell_type": "markdown",
   "metadata": {},
   "source": [
    "** Hence, we should assign 49% of forecast for NN whilst we assign 51% to AR(336) model **"
   ]
  },
  {
   "cell_type": "code",
   "execution_count": 295,
   "metadata": {},
   "outputs": [],
   "source": [
    "# Get new weighted forecast.\n",
    "combined_forecast = opt_lambda*data['ar_336_pred'][12910:] + (1 - opt_lambda)* data['nn_pred'][12910:]"
   ]
  },
  {
   "cell_type": "code",
   "execution_count": 296,
   "metadata": {},
   "outputs": [],
   "source": [
    "def mape_no_cv(y_pred, y):\n",
    "    mape = np.abs((y-y_pred))/np.abs(y) # Check this definition\n",
    "    return np.mean(mape)\n",
    "    \n",
    "def mae_no_cv(y_pred, y):\n",
    "    return mean_absolute_error(y, y_pred) # Check the order of the inputs here"
   ]
  },
  {
   "cell_type": "code",
   "execution_count": 297,
   "metadata": {},
   "outputs": [],
   "source": [
    "MAPE_combined = mape_no_cv(combined_forecast, data['demand'][12910:])\n",
    "MAE_combined = mae_no_cv(combined_forecast, data['demand'][12910:])"
   ]
  },
  {
   "cell_type": "code",
   "execution_count": 298,
   "metadata": {},
   "outputs": [
    {
     "data": {
      "text/plain": [
       "0.015413922866349334"
      ]
     },
     "execution_count": 298,
     "metadata": {},
     "output_type": "execute_result"
    }
   ],
   "source": [
    "MAPE_combined"
   ]
  },
  {
   "cell_type": "code",
   "execution_count": 299,
   "metadata": {},
   "outputs": [
    {
     "data": {
      "text/plain": [
       "19.900599783822358"
      ]
     },
     "execution_count": 299,
     "metadata": {},
     "output_type": "execute_result"
    }
   ],
   "source": [
    "MAE_combined"
   ]
  },
  {
   "cell_type": "markdown",
   "metadata": {},
   "source": [
    "### Combine AR and RIdge:\n",
    "**work well! write this combination in report!!! **\n"
   ]
  },
  {
   "cell_type": "code",
   "execution_count": 300,
   "metadata": {},
   "outputs": [
    {
     "name": "stdout",
     "output_type": "stream",
     "text": [
      "Variance of forecast for AR(336) is 3848.608502066189 and variance of ridge is 4963.336670554788\n",
      "Covariance of residuals is -2270.6642819502667\n",
      "Lambda to use is 0.45826011693897234\n"
     ]
    }
   ],
   "source": [
    "print(\"Variance of forecast for AR(336) is {} and variance of ridge is {}\".format(ar_var, ridge_var))\n",
    "\n",
    "# Get the 1,2 entry to get the covariance from covariance matrix.\n",
    "cov = np.cov(ar_res, ridge_res)[0][1]\n",
    "print(\"Covariance of residuals is {}\".format(cov))\n",
    "\n",
    "opt_lambda = (ar_var - cov)/(ar_var + ridge_var - (2*cov))\n",
    "print(\"Lambda to use is {}\".format(opt_lambda))\n",
    "\n",
    "# Get new weighted forecast.\n",
    "combined_forecast = opt_lambda*data['ar_336_pred'][12910:] + (1 - opt_lambda)* data['ridge_pred'][12910:]\n",
    "\n",
    "MAPE_combined = mape_no_cv(combined_forecast, data['demand'][12910:])\n",
    "MAE_combined = mae_no_cv(combined_forecast, data['demand'][12910:])"
   ]
  },
  {
   "cell_type": "code",
   "execution_count": 301,
   "metadata": {},
   "outputs": [
    {
     "data": {
      "text/plain": [
       "0.016086785518219297"
      ]
     },
     "execution_count": 301,
     "metadata": {},
     "output_type": "execute_result"
    }
   ],
   "source": [
    "MAPE_combined"
   ]
  },
  {
   "cell_type": "code",
   "execution_count": 302,
   "metadata": {},
   "outputs": [
    {
     "data": {
      "text/plain": [
       "20.7334753665034"
      ]
     },
     "execution_count": 302,
     "metadata": {},
     "output_type": "execute_result"
    }
   ],
   "source": [
    "MAE_combined"
   ]
  },
  {
   "cell_type": "markdown",
   "metadata": {},
   "source": [
    "**Very good MAPE improvement! compared with the single ridge or ar model! **"
   ]
  },
  {
   "cell_type": "markdown",
   "metadata": {},
   "source": [
    "### Run linear regression\n",
    "**not better resullt! **"
   ]
  },
  {
   "cell_type": "code",
   "execution_count": 229,
   "metadata": {},
   "outputs": [
    {
     "name": "stdout",
     "output_type": "stream",
     "text": [
      "                            OLS Regression Results                            \n",
      "==============================================================================\n",
      "Dep. Variable:                 demand   R-squared:                       0.997\n",
      "Model:                            OLS   Adj. R-squared:                  0.997\n",
      "Method:                 Least Squares   F-statistic:                 1.007e+06\n",
      "Date:                Mon, 29 Oct 2018   Prob (F-statistic):               0.00\n",
      "Time:                        01:22:01   Log-Likelihood:                -55149.\n",
      "No. Observations:               12910   AIC:                         1.103e+05\n",
      "Df Residuals:                   12905   BIC:                         1.103e+05\n",
      "Df Model:                           4                                         \n",
      "Covariance Type:            nonrobust                                         \n",
      "==============================================================================\n",
      "                 coef    std err          t      P>|t|      [0.025      0.975]\n",
      "------------------------------------------------------------------------------\n",
      "Intercept     18.8543      0.689     27.378      0.000      17.504      20.204\n",
      "ar_336_fit     0.3708      0.004     99.740      0.000       0.363       0.378\n",
      "nn_fit         0.4219      0.002    171.920      0.000       0.417       0.427\n",
      "ar_48_fit      0.1021      0.003     30.170      0.000       0.096       0.109\n",
      "ridge_fit      0.0913      0.002     37.295      0.000       0.087       0.096\n",
      "==============================================================================\n",
      "Omnibus:                     6227.564   Durbin-Watson:                   1.809\n",
      "Prob(Omnibus):                  0.000   Jarque-Bera (JB):          3274993.639\n",
      "Skew:                          -0.960   Prob(JB):                         0.00\n",
      "Kurtosis:                      81.004   Cond. No.                     1.23e+04\n",
      "==============================================================================\n",
      "\n",
      "Warnings:\n",
      "[1] Standard Errors assume that the covariance matrix of the errors is correctly specified.\n",
      "[2] The condition number is large, 1.23e+04. This might indicate that there are\n",
      "strong multicollinearity or other numerical problems.\n"
     ]
    }
   ],
   "source": [
    "import statsmodels.formula.api as smf\n",
    "formula = \"demand ~ ar_336_fit + nn_fit + ar_48_fit+ ridge_fit\"\n",
    "model_2 = smf.ols(formula = formula, data = data[:12910]).fit()\n",
    "print(model_2.summary())"
   ]
  },
  {
   "cell_type": "code",
   "execution_count": 230,
   "metadata": {},
   "outputs": [],
   "source": [
    "# Get new weighted forecast.\n",
    "combined_forecast = model_2.params['ar_336_fit']/sum(model_2.params[1:])*data['ar_336_pred'][12910:] + \\\n",
    "                    model_2.params['nn_fit']/sum(model_2.params[1:])* data['nn_pred'][12910:]+\\\n",
    "                    model_2.params['ridge_fit']/sum(model_2.params[1:])* data['ridge_pred'][12910:] +\\\n",
    "                    model_2.params['ar_48_fit']/sum(model_2.params[1:])*data['ar_48_pred'][12910:]"
   ]
  },
  {
   "cell_type": "code",
   "execution_count": 234,
   "metadata": {},
   "outputs": [
    {
     "name": "stdout",
     "output_type": "stream",
     "text": [
      "0.01563963666866373 20.20275923794491\n"
     ]
    }
   ],
   "source": [
    "MAPE_combined = mape_no_cv(combined_forecast, data['demand'][12910:])\n",
    "MAE_combined = mae_no_cv(combined_forecast, data['demand'][12910:])\n",
    "\n",
    "print(MAPE_combined,MAE_combined)"
   ]
  },
  {
   "cell_type": "markdown",
   "metadata": {},
   "source": [
    "### Model 1:\n",
    "demand ~ ar_336_fit + nn_fit + ridge_fit"
   ]
  },
  {
   "cell_type": "code",
   "execution_count": 238,
   "metadata": {},
   "outputs": [
    {
     "name": "stdout",
     "output_type": "stream",
     "text": [
      "                            OLS Regression Results                            \n",
      "==============================================================================\n",
      "Dep. Variable:                 demand   R-squared:                       0.997\n",
      "Model:                            OLS   Adj. R-squared:                  0.997\n",
      "Method:                 Least Squares   F-statistic:                 1.254e+06\n",
      "Date:                Mon, 29 Oct 2018   Prob (F-statistic):               0.00\n",
      "Time:                        01:24:39   Log-Likelihood:                -55589.\n",
      "No. Observations:               12910   AIC:                         1.112e+05\n",
      "Df Residuals:                   12906   BIC:                         1.112e+05\n",
      "Df Model:                           3                                         \n",
      "Covariance Type:            nonrobust                                         \n",
      "==============================================================================\n",
      "                 coef    std err          t      P>|t|      [0.025      0.975]\n",
      "------------------------------------------------------------------------------\n",
      "Intercept     16.1615      0.707     22.875      0.000      14.777      17.546\n",
      "ar_336_fit     0.4749      0.001    333.761      0.000       0.472       0.478\n",
      "nn_fit         0.4168      0.003    164.537      0.000       0.412       0.422\n",
      "ridge_fit      0.0965      0.003     38.165      0.000       0.092       0.101\n",
      "==============================================================================\n",
      "Omnibus:                     5414.162   Durbin-Watson:                   1.791\n",
      "Prob(Omnibus):                  0.000   Jarque-Bera (JB):          2796638.135\n",
      "Skew:                          -0.622   Prob(JB):                         0.00\n",
      "Kurtosis:                      75.093   Cond. No.                     1.06e+04\n",
      "==============================================================================\n",
      "\n",
      "Warnings:\n",
      "[1] Standard Errors assume that the covariance matrix of the errors is correctly specified.\n",
      "[2] The condition number is large, 1.06e+04. This might indicate that there are\n",
      "strong multicollinearity or other numerical problems.\n"
     ]
    }
   ],
   "source": [
    "import statsmodels.formula.api as smf\n",
    "formula = \"demand ~ ar_336_fit + nn_fit + ridge_fit\"\n",
    "model_3 = smf.ols(formula = formula, data = data[:12910]).fit()\n",
    "print(model_3.summary())"
   ]
  },
  {
   "cell_type": "code",
   "execution_count": 246,
   "metadata": {},
   "outputs": [],
   "source": [
    "# Get new weighted forecast.\n",
    "combined_forecast = model_3.params['ar_336_fit']/sum(model_3.params[1:])*data['ar_336_pred'][12910:] + \\\n",
    "                    model_3.params['nn_fit']/sum(model_3.params[1:])* data['nn_pred'][12910:]+\\\n",
    "                    model_3.params['ridge_fit']/sum(model_3.params[1:])* data['ridge_pred'][12910:] \n",
    "            "
   ]
  },
  {
   "cell_type": "code",
   "execution_count": 247,
   "metadata": {},
   "outputs": [
    {
     "name": "stdout",
     "output_type": "stream",
     "text": [
      "0.01539152327083829 19.831871071854202\n"
     ]
    }
   ],
   "source": [
    "MAPE_combined = mape_no_cv(combined_forecast, data['demand'][12910:])\n",
    "MAE_combined = mae_no_cv(combined_forecast, data['demand'][12910:])\n",
    "\n",
    "print(MAPE_combined,MAE_combined)"
   ]
  },
  {
   "cell_type": "markdown",
   "metadata": {},
   "source": [
    "### Model 2:\n",
    "demand ~ ar_336_fit + nn_fit"
   ]
  },
  {
   "cell_type": "code",
   "execution_count": 251,
   "metadata": {},
   "outputs": [
    {
     "name": "stdout",
     "output_type": "stream",
     "text": [
      "                            OLS Regression Results                            \n",
      "==============================================================================\n",
      "Dep. Variable:                 demand   R-squared:                       0.996\n",
      "Model:                            OLS   Adj. R-squared:                  0.996\n",
      "Method:                 Least Squares   F-statistic:                 1.690e+06\n",
      "Date:                Mon, 29 Oct 2018   Prob (F-statistic):               0.00\n",
      "Time:                        01:27:51   Log-Likelihood:                -56279.\n",
      "No. Observations:               12910   AIC:                         1.126e+05\n",
      "Df Residuals:                   12907   BIC:                         1.126e+05\n",
      "Df Model:                           2                                         \n",
      "Covariance Type:            nonrobust                                         \n",
      "==============================================================================\n",
      "                 coef    std err          t      P>|t|      [0.025      0.975]\n",
      "------------------------------------------------------------------------------\n",
      "Intercept     18.2574      0.743     24.572      0.000      16.801      19.714\n",
      "ar_336_fit     0.4905      0.001    340.991      0.000       0.488       0.493\n",
      "nn_fit         0.4961      0.002    324.631      0.000       0.493       0.499\n",
      "==============================================================================\n",
      "Omnibus:                     5570.524   Durbin-Watson:                   1.760\n",
      "Prob(Omnibus):                  0.000   Jarque-Bera (JB):          4254820.869\n",
      "Skew:                           0.586   Prob(JB):                         0.00\n",
      "Kurtosis:                      91.929   Cond. No.                     8.62e+03\n",
      "==============================================================================\n",
      "\n",
      "Warnings:\n",
      "[1] Standard Errors assume that the covariance matrix of the errors is correctly specified.\n",
      "[2] The condition number is large, 8.62e+03. This might indicate that there are\n",
      "strong multicollinearity or other numerical problems.\n"
     ]
    }
   ],
   "source": [
    "formula = \"demand ~ ar_336_fit + nn_fit\"\n",
    "model_4 = smf.ols(formula = formula, data = data[:12910]).fit()\n",
    "print(model_4.summary())"
   ]
  },
  {
   "cell_type": "code",
   "execution_count": 252,
   "metadata": {},
   "outputs": [],
   "source": [
    "# Get new weighted forecast.\n",
    "combined_forecast = model_4.params['ar_336_fit']/sum(model_4.params[1:])*data['ar_336_pred'][12910:] + \\\n",
    "                    model_4.params['nn_fit']/sum(model_4.params[1:])* data['nn_pred'][12910:]\n",
    "                   "
   ]
  },
  {
   "cell_type": "code",
   "execution_count": 253,
   "metadata": {},
   "outputs": [
    {
     "name": "stdout",
     "output_type": "stream",
     "text": [
      "0.015435862803681831 19.928370175265147\n"
     ]
    }
   ],
   "source": [
    "MAPE_combined = mape_no_cv(combined_forecast, data['demand'][12910:])\n",
    "MAE_combined = mae_no_cv(combined_forecast, data['demand'][12910:])\n",
    "\n",
    "print(MAPE_combined,MAE_combined)"
   ]
  },
  {
   "cell_type": "code",
   "execution_count": null,
   "metadata": {},
   "outputs": [],
   "source": []
  },
  {
   "cell_type": "code",
   "execution_count": null,
   "metadata": {},
   "outputs": [],
   "source": []
  },
  {
   "cell_type": "markdown",
   "metadata": {},
   "source": [
    "#### COMBINE DATASET"
   ]
  },
  {
   "cell_type": "code",
   "execution_count": 217,
   "metadata": {},
   "outputs": [],
   "source": [
    "ridge_res_train = pd.read_csv('../data/residuals_ridge_train_181028.csv')\n",
    "del ridge_res_train['train_index']\n",
    "ridge_res_test = pd.read_csv('../data/residuals_ridge_test_181028.csv')\n",
    "del ridge_res_test['test_index']\n",
    "\n",
    "ridge_res_test.Timestamp = pd.to_datetime(ridge_res_test.period,format='%Y-%m-%d %H:%M') \n",
    "ridge_res_test.index = ridge_res_test.Timestamp\n",
    "ridge_res_test = ridge_res_test.sort_index()\n",
    "\n",
    "ridge_res_train.Timestamp = pd.to_datetime(ridge_res_train.period,format='%Y-%m-%d %H:%M') \n",
    "ridge_res_train.index = ridge_res_train.Timestamp\n",
    "ridge_res_train = ridge_res_train.sort_index()"
   ]
  },
  {
   "cell_type": "code",
   "execution_count": 218,
   "metadata": {},
   "outputs": [],
   "source": [
    "nn_res_train = pd.read_csv('../data/residuals_nn_train_181028.csv')\n",
    "del nn_res_train['train_index']\n",
    "nn_res_test = pd.read_csv('../data/residuals_nn_test_181028.csv')\n",
    "del nn_res_test['test_index']\n",
    "\n",
    "nn_res_test.Timestamp = pd.to_datetime(nn_res_test.period,format='%Y-%m-%d %H:%M') \n",
    "nn_res_test.index = nn_res_test.Timestamp\n",
    "nn_res_test = nn_res_test.sort_index()\n",
    "\n",
    "nn_res_train.Timestamp = pd.to_datetime(nn_res_train.period,format='%Y-%m-%d %H:%M') \n",
    "nn_res_train.index = nn_res_train.Timestamp\n",
    "nn_res_train = nn_res_train.sort_index()"
   ]
  },
  {
   "cell_type": "code",
   "execution_count": 219,
   "metadata": {},
   "outputs": [],
   "source": [
    "nn_all = pd.concat([nn_res_train,nn_res_test])\n",
    "ridge_all = pd.concat([ridge_res_train,ridge_res_test])"
   ]
  },
  {
   "cell_type": "code",
   "execution_count": 220,
   "metadata": {},
   "outputs": [],
   "source": [
    "df = pd.read_csv('../data/shorter_clean_data_26_10_2018.csv',)\n",
    "data = df[1632:]\n",
    "data.Timestamp = pd.to_datetime(data.period,format='%Y-%m-%d %H:%M') \n",
    "data.index = data.Timestamp"
   ]
  },
  {
   "cell_type": "code",
   "execution_count": 221,
   "metadata": {},
   "outputs": [],
   "source": [
    "AR_336_fit = pd.read_csv(\"../data/AR336_train_data.csv\")\n",
    "AR_336_result  = pd.read_csv('../data/AR_336_test_data.csv',)"
   ]
  },
  {
   "cell_type": "code",
   "execution_count": 222,
   "metadata": {},
   "outputs": [],
   "source": [
    "AR_336_fitted = AR_336_fit['fit_AR_336'][1632:]\n",
    "AR_336_fitted.index = nn_res_train.index\n",
    "AR_336_fitted = AR_336_fitted+data['demand']"
   ]
  },
  {
   "cell_type": "code",
   "execution_count": 223,
   "metadata": {},
   "outputs": [],
   "source": [
    "AR_336_pred = AR_336_result['pred_AR_336']\n",
    "AR_336_pred.index = nn_res_test.index"
   ]
  },
  {
   "cell_type": "code",
   "execution_count": 224,
   "metadata": {},
   "outputs": [],
   "source": [
    "AR_48_result = pd.read_csv('../data/SAR_test_data.csv',)\n",
    "AR_48_fit = pd.read_csv(\"../data/SAR_train_data.csv\")\n",
    "\n",
    "AR_48_fitted = AR_48_fit['fit_AR_1'][1632:]\n",
    "AR_48_fitted.index = nn_res_train.index\n",
    "AR_48_fitted = AR_48_fitted+data['demand']\n",
    "\n",
    "AR_48_pred = AR_48_result['AR_41_R_select']\n",
    "AR_48_pred.index = nn_res_test.index"
   ]
  },
  {
   "cell_type": "code",
   "execution_count": null,
   "metadata": {},
   "outputs": [],
   "source": []
  },
  {
   "cell_type": "code",
   "execution_count": 225,
   "metadata": {},
   "outputs": [],
   "source": [
    "data['ar_336_fit'] = AR_336_fitted\n",
    "data['ar_336_pred'] = AR_336_pred\n",
    "\n",
    "data['ar_48_fit'] = AR_48_fitted\n",
    "data['ar_48_pred'] = AR_48_pred\n",
    "\n",
    "data['nn_fit'] = nn_res_train['predictions']\n",
    "data['nn_pred'] = nn_res_test['predictions']\n",
    "\n",
    "data['ridge_fit'] = ridge_res_train['predictions']\n",
    "data['ridge_pred'] = ridge_res_test['predictions']"
   ]
  },
  {
   "cell_type": "code",
   "execution_count": 226,
   "metadata": {},
   "outputs": [],
   "source": [
    "data.to_csv(\"../data/combine_model_result_10_29.csv\")"
   ]
  },
  {
   "cell_type": "code",
   "execution_count": null,
   "metadata": {},
   "outputs": [],
   "source": []
  }
 ],
 "metadata": {
  "kernelspec": {
   "display_name": "Python 3",
   "language": "python",
   "name": "python3"
  },
  "language_info": {
   "codemirror_mode": {
    "name": "ipython",
    "version": 3
   },
   "file_extension": ".py",
   "mimetype": "text/x-python",
   "name": "python",
   "nbconvert_exporter": "python",
   "pygments_lexer": "ipython3",
   "version": "3.7.1"
  }
 },
 "nbformat": 4,
 "nbformat_minor": 2
}

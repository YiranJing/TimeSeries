{
 "cells": [
  {
   "cell_type": "markdown",
   "metadata": {},
   "source": [
    "### Title: Linear Regression with Ridge and Lasso (BenchMark)\n",
    "\n",
    "Author: Rhys Kilian\n",
    "\n",
    "Date: 31-10-2018\n",
    "Linear models, including:\n",
    "\n",
    "* Linear regression\n",
    "* LASSO\n",
    "* Ridge\n",
    "* Elastic Net\n",
    "\n",
    "Comparison to the NN models from before."
   ]
  },
  {
   "cell_type": "code",
   "execution_count": 1,
   "metadata": {},
   "outputs": [],
   "source": [
    "from numpy.random import seed\n",
    "seed(1)\n",
    "\n",
    "import pandas as pd\n",
    "pd.options.display.max_columns = 999\n",
    "\n",
    "from sklearn.model_selection import train_test_split\n",
    "from sklearn.preprocessing import StandardScaler\n",
    "from sklearn.preprocessing import MinMaxScaler\n",
    "from sklearn.preprocessing import MaxAbsScaler\n",
    "from sklearn.preprocessing import RobustScaler\n",
    "from sklearn.metrics import mean_squared_error\n",
    "\n",
    "import matplotlib.pyplot as plt\n",
    "\n",
    "# Import models from scikit learn module\n",
    "from sklearn.linear_model import Ridge, RidgeCV, ElasticNet, LassoCV, LassoLarsCV, LinearRegression, ElasticNetCV\n",
    "from sklearn.model_selection import cross_val_score\n",
    "from sklearn.metrics import mean_absolute_error\n",
    "from sklearn.model_selection import GridSearchCV\n",
    "from sklearn.model_selection import RandomizedSearchCV\n",
    "\n",
    "import warnings\n",
    "warnings.filterwarnings('ignore')\n",
    "\n",
    "import numpy as np"
   ]
  },
  {
   "cell_type": "markdown",
   "metadata": {},
   "source": [
    "# 1. Data Preparation"
   ]
  },
  {
   "cell_type": "code",
   "execution_count": 2,
   "metadata": {},
   "outputs": [
    {
     "data": {
      "text/html": [
       "<div>\n",
       "<style scoped>\n",
       "    .dataframe tbody tr th:only-of-type {\n",
       "        vertical-align: middle;\n",
       "    }\n",
       "\n",
       "    .dataframe tbody tr th {\n",
       "        vertical-align: top;\n",
       "    }\n",
       "\n",
       "    .dataframe thead th {\n",
       "        text-align: right;\n",
       "    }\n",
       "</style>\n",
       "<table border=\"1\" class=\"dataframe\">\n",
       "  <thead>\n",
       "    <tr style=\"text-align: right;\">\n",
       "      <th></th>\n",
       "      <th>period</th>\n",
       "      <th>air_temp</th>\n",
       "      <th>price</th>\n",
       "      <th>demand</th>\n",
       "      <th>lag_1</th>\n",
       "      <th>lag_2</th>\n",
       "      <th>lag_3</th>\n",
       "      <th>lag_4</th>\n",
       "      <th>lag_5</th>\n",
       "      <th>lag_6</th>\n",
       "      <th>lag_7</th>\n",
       "      <th>lag_45</th>\n",
       "      <th>lag_46</th>\n",
       "      <th>lag_47</th>\n",
       "      <th>lag_48</th>\n",
       "      <th>lag_49</th>\n",
       "      <th>lag_50</th>\n",
       "      <th>lag_51</th>\n",
       "      <th>lag_334</th>\n",
       "      <th>lag_335</th>\n",
       "      <th>lag_336</th>\n",
       "      <th>lag_337</th>\n",
       "      <th>lag_338</th>\n",
       "      <th>lag_1006</th>\n",
       "      <th>lag_1007</th>\n",
       "      <th>lag_1008</th>\n",
       "      <th>lag_1009</th>\n",
       "      <th>lag_1010</th>\n",
       "      <th>lag_1679</th>\n",
       "      <th>lag_1680</th>\n",
       "      <th>lag_1681</th>\n",
       "      <th>lag_287</th>\n",
       "      <th>lag_288</th>\n",
       "      <th>lag_289</th>\n",
       "      <th>dummy_Balckout</th>\n",
       "      <th>dummy_HeatWaves</th>\n",
       "      <th>dummy_Winter</th>\n",
       "      <th>dummy_Spring</th>\n",
       "      <th>dummy_Summer</th>\n",
       "    </tr>\n",
       "  </thead>\n",
       "  <tbody>\n",
       "    <tr>\n",
       "      <th>0</th>\n",
       "      <td>2016-05-01 00:30:00</td>\n",
       "      <td>16.65</td>\n",
       "      <td>8.96</td>\n",
       "      <td>1243.54</td>\n",
       "      <td>NaN</td>\n",
       "      <td>NaN</td>\n",
       "      <td>NaN</td>\n",
       "      <td>NaN</td>\n",
       "      <td>NaN</td>\n",
       "      <td>NaN</td>\n",
       "      <td>NaN</td>\n",
       "      <td>NaN</td>\n",
       "      <td>NaN</td>\n",
       "      <td>NaN</td>\n",
       "      <td>NaN</td>\n",
       "      <td>NaN</td>\n",
       "      <td>NaN</td>\n",
       "      <td>NaN</td>\n",
       "      <td>NaN</td>\n",
       "      <td>NaN</td>\n",
       "      <td>NaN</td>\n",
       "      <td>NaN</td>\n",
       "      <td>NaN</td>\n",
       "      <td>NaN</td>\n",
       "      <td>NaN</td>\n",
       "      <td>NaN</td>\n",
       "      <td>NaN</td>\n",
       "      <td>NaN</td>\n",
       "      <td>NaN</td>\n",
       "      <td>NaN</td>\n",
       "      <td>NaN</td>\n",
       "      <td>NaN</td>\n",
       "      <td>NaN</td>\n",
       "      <td>NaN</td>\n",
       "      <td>0</td>\n",
       "      <td>0</td>\n",
       "      <td>0</td>\n",
       "      <td>0</td>\n",
       "      <td>0</td>\n",
       "    </tr>\n",
       "    <tr>\n",
       "      <th>1</th>\n",
       "      <td>2016-05-01 01:00:00</td>\n",
       "      <td>16.90</td>\n",
       "      <td>5.54</td>\n",
       "      <td>1167.92</td>\n",
       "      <td>1243.54</td>\n",
       "      <td>NaN</td>\n",
       "      <td>NaN</td>\n",
       "      <td>NaN</td>\n",
       "      <td>NaN</td>\n",
       "      <td>NaN</td>\n",
       "      <td>NaN</td>\n",
       "      <td>NaN</td>\n",
       "      <td>NaN</td>\n",
       "      <td>NaN</td>\n",
       "      <td>NaN</td>\n",
       "      <td>NaN</td>\n",
       "      <td>NaN</td>\n",
       "      <td>NaN</td>\n",
       "      <td>NaN</td>\n",
       "      <td>NaN</td>\n",
       "      <td>NaN</td>\n",
       "      <td>NaN</td>\n",
       "      <td>NaN</td>\n",
       "      <td>NaN</td>\n",
       "      <td>NaN</td>\n",
       "      <td>NaN</td>\n",
       "      <td>NaN</td>\n",
       "      <td>NaN</td>\n",
       "      <td>NaN</td>\n",
       "      <td>NaN</td>\n",
       "      <td>NaN</td>\n",
       "      <td>NaN</td>\n",
       "      <td>NaN</td>\n",
       "      <td>NaN</td>\n",
       "      <td>0</td>\n",
       "      <td>0</td>\n",
       "      <td>0</td>\n",
       "      <td>0</td>\n",
       "      <td>0</td>\n",
       "    </tr>\n",
       "    <tr>\n",
       "      <th>2</th>\n",
       "      <td>2016-05-01 01:30:00</td>\n",
       "      <td>17.00</td>\n",
       "      <td>-0.07</td>\n",
       "      <td>1098.86</td>\n",
       "      <td>1167.92</td>\n",
       "      <td>1243.54</td>\n",
       "      <td>NaN</td>\n",
       "      <td>NaN</td>\n",
       "      <td>NaN</td>\n",
       "      <td>NaN</td>\n",
       "      <td>NaN</td>\n",
       "      <td>NaN</td>\n",
       "      <td>NaN</td>\n",
       "      <td>NaN</td>\n",
       "      <td>NaN</td>\n",
       "      <td>NaN</td>\n",
       "      <td>NaN</td>\n",
       "      <td>NaN</td>\n",
       "      <td>NaN</td>\n",
       "      <td>NaN</td>\n",
       "      <td>NaN</td>\n",
       "      <td>NaN</td>\n",
       "      <td>NaN</td>\n",
       "      <td>NaN</td>\n",
       "      <td>NaN</td>\n",
       "      <td>NaN</td>\n",
       "      <td>NaN</td>\n",
       "      <td>NaN</td>\n",
       "      <td>NaN</td>\n",
       "      <td>NaN</td>\n",
       "      <td>NaN</td>\n",
       "      <td>NaN</td>\n",
       "      <td>NaN</td>\n",
       "      <td>NaN</td>\n",
       "      <td>0</td>\n",
       "      <td>0</td>\n",
       "      <td>0</td>\n",
       "      <td>0</td>\n",
       "      <td>0</td>\n",
       "    </tr>\n",
       "    <tr>\n",
       "      <th>3</th>\n",
       "      <td>2016-05-01 02:00:00</td>\n",
       "      <td>17.10</td>\n",
       "      <td>-13.21</td>\n",
       "      <td>1032.27</td>\n",
       "      <td>1098.86</td>\n",
       "      <td>1167.92</td>\n",
       "      <td>1243.54</td>\n",
       "      <td>NaN</td>\n",
       "      <td>NaN</td>\n",
       "      <td>NaN</td>\n",
       "      <td>NaN</td>\n",
       "      <td>NaN</td>\n",
       "      <td>NaN</td>\n",
       "      <td>NaN</td>\n",
       "      <td>NaN</td>\n",
       "      <td>NaN</td>\n",
       "      <td>NaN</td>\n",
       "      <td>NaN</td>\n",
       "      <td>NaN</td>\n",
       "      <td>NaN</td>\n",
       "      <td>NaN</td>\n",
       "      <td>NaN</td>\n",
       "      <td>NaN</td>\n",
       "      <td>NaN</td>\n",
       "      <td>NaN</td>\n",
       "      <td>NaN</td>\n",
       "      <td>NaN</td>\n",
       "      <td>NaN</td>\n",
       "      <td>NaN</td>\n",
       "      <td>NaN</td>\n",
       "      <td>NaN</td>\n",
       "      <td>NaN</td>\n",
       "      <td>NaN</td>\n",
       "      <td>NaN</td>\n",
       "      <td>0</td>\n",
       "      <td>0</td>\n",
       "      <td>0</td>\n",
       "      <td>0</td>\n",
       "      <td>0</td>\n",
       "    </tr>\n",
       "    <tr>\n",
       "      <th>4</th>\n",
       "      <td>2016-05-01 02:30:00</td>\n",
       "      <td>17.15</td>\n",
       "      <td>-33.19</td>\n",
       "      <td>963.98</td>\n",
       "      <td>1032.27</td>\n",
       "      <td>1098.86</td>\n",
       "      <td>1167.92</td>\n",
       "      <td>1243.54</td>\n",
       "      <td>NaN</td>\n",
       "      <td>NaN</td>\n",
       "      <td>NaN</td>\n",
       "      <td>NaN</td>\n",
       "      <td>NaN</td>\n",
       "      <td>NaN</td>\n",
       "      <td>NaN</td>\n",
       "      <td>NaN</td>\n",
       "      <td>NaN</td>\n",
       "      <td>NaN</td>\n",
       "      <td>NaN</td>\n",
       "      <td>NaN</td>\n",
       "      <td>NaN</td>\n",
       "      <td>NaN</td>\n",
       "      <td>NaN</td>\n",
       "      <td>NaN</td>\n",
       "      <td>NaN</td>\n",
       "      <td>NaN</td>\n",
       "      <td>NaN</td>\n",
       "      <td>NaN</td>\n",
       "      <td>NaN</td>\n",
       "      <td>NaN</td>\n",
       "      <td>NaN</td>\n",
       "      <td>NaN</td>\n",
       "      <td>NaN</td>\n",
       "      <td>NaN</td>\n",
       "      <td>0</td>\n",
       "      <td>0</td>\n",
       "      <td>0</td>\n",
       "      <td>0</td>\n",
       "      <td>0</td>\n",
       "    </tr>\n",
       "  </tbody>\n",
       "</table>\n",
       "</div>"
      ],
      "text/plain": [
       "               period  air_temp  price   demand    lag_1    lag_2    lag_3  \\\n",
       "0 2016-05-01 00:30:00     16.65   8.96  1243.54      NaN      NaN      NaN   \n",
       "1 2016-05-01 01:00:00     16.90   5.54  1167.92  1243.54      NaN      NaN   \n",
       "2 2016-05-01 01:30:00     17.00  -0.07  1098.86  1167.92  1243.54      NaN   \n",
       "3 2016-05-01 02:00:00     17.10 -13.21  1032.27  1098.86  1167.92  1243.54   \n",
       "4 2016-05-01 02:30:00     17.15 -33.19   963.98  1032.27  1098.86  1167.92   \n",
       "\n",
       "     lag_4  lag_5  lag_6  lag_7  lag_45  lag_46  lag_47  lag_48  lag_49  \\\n",
       "0      NaN    NaN    NaN    NaN     NaN     NaN     NaN     NaN     NaN   \n",
       "1      NaN    NaN    NaN    NaN     NaN     NaN     NaN     NaN     NaN   \n",
       "2      NaN    NaN    NaN    NaN     NaN     NaN     NaN     NaN     NaN   \n",
       "3      NaN    NaN    NaN    NaN     NaN     NaN     NaN     NaN     NaN   \n",
       "4  1243.54    NaN    NaN    NaN     NaN     NaN     NaN     NaN     NaN   \n",
       "\n",
       "   lag_50  lag_51  lag_334  lag_335  lag_336  lag_337  lag_338  lag_1006  \\\n",
       "0     NaN     NaN      NaN      NaN      NaN      NaN      NaN       NaN   \n",
       "1     NaN     NaN      NaN      NaN      NaN      NaN      NaN       NaN   \n",
       "2     NaN     NaN      NaN      NaN      NaN      NaN      NaN       NaN   \n",
       "3     NaN     NaN      NaN      NaN      NaN      NaN      NaN       NaN   \n",
       "4     NaN     NaN      NaN      NaN      NaN      NaN      NaN       NaN   \n",
       "\n",
       "   lag_1007  lag_1008  lag_1009  lag_1010  lag_1679  lag_1680  lag_1681  \\\n",
       "0       NaN       NaN       NaN       NaN       NaN       NaN       NaN   \n",
       "1       NaN       NaN       NaN       NaN       NaN       NaN       NaN   \n",
       "2       NaN       NaN       NaN       NaN       NaN       NaN       NaN   \n",
       "3       NaN       NaN       NaN       NaN       NaN       NaN       NaN   \n",
       "4       NaN       NaN       NaN       NaN       NaN       NaN       NaN   \n",
       "\n",
       "   lag_287  lag_288  lag_289  dummy_Balckout  dummy_HeatWaves  dummy_Winter  \\\n",
       "0      NaN      NaN      NaN               0                0             0   \n",
       "1      NaN      NaN      NaN               0                0             0   \n",
       "2      NaN      NaN      NaN               0                0             0   \n",
       "3      NaN      NaN      NaN               0                0             0   \n",
       "4      NaN      NaN      NaN               0                0             0   \n",
       "\n",
       "   dummy_Spring  dummy_Summer  \n",
       "0             0             0  \n",
       "1             0             0  \n",
       "2             0             0  \n",
       "3             0             0  \n",
       "4             0             0  "
      ]
     },
     "execution_count": 2,
     "metadata": {},
     "output_type": "execute_result"
    }
   ],
   "source": [
    "# Read in the data\n",
    "df = pd.read_csv('../../../0. Data/dataset_add_dummy_seasonal_181021.csv')\n",
    "df['period'] = pd.to_datetime(df['period'], format='%d/%m/%Y %H:%M')\n",
    "df.sort_values(by='period', ascending=True, inplace=True)\n",
    "df.head()"
   ]
  },
  {
   "cell_type": "markdown",
   "metadata": {},
   "source": [
    "We now have to remove the 1681 rows which contain NaN values. Otherwise, we will get errors when trying to create our models."
   ]
  },
  {
   "cell_type": "code",
   "execution_count": 3,
   "metadata": {},
   "outputs": [],
   "source": [
    "# Remove NaN values\n",
    "df.dropna(axis=0, inplace=True)\n",
    "df.reset_index(drop=True,inplace=True)"
   ]
  },
  {
   "cell_type": "markdown",
   "metadata": {},
   "source": [
    "## 1.1 Train/Validation/Test Split"
   ]
  },
  {
   "cell_type": "markdown",
   "metadata": {},
   "source": [
    "If we want a test set of approximately 20% then we need the last two months of data which are March 2017 and April 2017. This gives us a test set of approximately 18.5%. We do the same for the validation set which is January 2017 and February 2017. "
   ]
  },
  {
   "cell_type": "code",
   "execution_count": 4,
   "metadata": {},
   "outputs": [],
   "source": [
    "# Create training and test sets\n",
    "split_point = 12910\n",
    "df_train_validate = df.iloc[0:split_point,:]\n",
    "df_test = df.iloc[split_point:,:]"
   ]
  },
  {
   "cell_type": "code",
   "execution_count": 5,
   "metadata": {},
   "outputs": [],
   "source": [
    "# # Create training and validation sets\n",
    "# split_point = 10078\n",
    "# df_train = df_train_validate.iloc[0:split_point,:]\n",
    "# df_validate = df_train_validate.iloc[split_point:,:]"
   ]
  },
  {
   "cell_type": "code",
   "execution_count": 6,
   "metadata": {},
   "outputs": [],
   "source": [
    "# Shuffle \n",
    "from sklearn.utils import shuffle\n",
    "df_train_validate = shuffle(df_train_validate)\n",
    "#df_validate = shuffle(df_validate)\n",
    "df_test = shuffle(df_test)"
   ]
  },
  {
   "cell_type": "markdown",
   "metadata": {},
   "source": [
    "## 1.2 Convert Data"
   ]
  },
  {
   "cell_type": "code",
   "execution_count": 7,
   "metadata": {},
   "outputs": [
    {
     "name": "stdout",
     "output_type": "stream",
     "text": [
      "Dimensions of y: (12910, 1)\n",
      "Dimensions of X: (12910, 37)\n"
     ]
    }
   ],
   "source": [
    "# Convert the data\n",
    "X_train = df_train_validate[[\"air_temp\", \"price\", \"lag_1\", \"lag_2\", \"lag_3\", \"lag_4\", \"lag_5\", \"lag_6\", \"lag_7\", \"lag_45\", \"lag_46\", \"lag_47\", \"lag_48\", \"lag_49\", \"lag_50\", \"lag_51\", \"lag_334\", \"lag_335\", \"lag_336\", \"lag_337\", \"lag_338\", \"lag_1006\", \"lag_1007\", \"lag_1008\", \"lag_1009\", \"lag_1010\", \"lag_1679\", \"lag_1680\", \"lag_1681\", \"lag_287\", \"lag_288\", \"lag_289\", \"dummy_Balckout\", \"dummy_HeatWaves\", \"dummy_Winter\", \"dummy_Spring\", \"dummy_Summer\"]]\n",
    "y_train = df_train_validate[['demand']]\n",
    "\n",
    "# Print the dimensions of X and y \n",
    "print(\"Dimensions of y: {}\".format(y_train.shape))\n",
    "print(\"Dimensions of X: {}\".format(X_train.shape))"
   ]
  },
  {
   "cell_type": "code",
   "execution_count": 8,
   "metadata": {},
   "outputs": [],
   "source": [
    "# # Convert the data\n",
    "# X_validate = df_validate[[\"air_temp\", \"price\", \"lag_1\", \"lag_2\", \"lag_3\", \"lag_4\", \"lag_5\", \"lag_6\", \"lag_7\", \"lag_45\", \"lag_46\", \"lag_47\", \"lag_48\", \"lag_49\", \"lag_50\", \"lag_51\", \"lag_334\", \"lag_335\", \"lag_336\", \"lag_337\", \"lag_338\", \"lag_1006\", \"lag_1007\", \"lag_1008\", \"lag_1009\", \"lag_1010\", \"lag_1679\", \"lag_1680\", \"lag_1681\", \"lag_287\", \"lag_288\", \"lag_289\", \"dummy_Balckout\", \"dummy_HeatWaves\", \"dummy_Winter\", \"dummy_Spring\", \"dummy_Summer\"]]\n",
    "# y_validate = df_validate[['demand']]\n",
    "\n",
    "# # Print the dimensions of X and y \n",
    "# print(\"Dimensions of y: {}\".format(y_validate.shape))\n",
    "# print(\"Dimensions of X: {}\".format(X_validate.shape))"
   ]
  },
  {
   "cell_type": "code",
   "execution_count": 9,
   "metadata": {},
   "outputs": [
    {
     "name": "stdout",
     "output_type": "stream",
     "text": [
      "Dimensions of y: (2909, 1)\n",
      "Dimensions of X: (2909, 37)\n"
     ]
    }
   ],
   "source": [
    "# Convert the data\n",
    "X_test = df_test[[\"air_temp\", \"price\", \"lag_1\", \"lag_2\", \"lag_3\", \"lag_4\", \"lag_5\", \"lag_6\", \"lag_7\", \"lag_45\", \"lag_46\", \"lag_47\", \"lag_48\", \"lag_49\", \"lag_50\", \"lag_51\", \"lag_334\", \"lag_335\", \"lag_336\", \"lag_337\", \"lag_338\", \"lag_1006\", \"lag_1007\", \"lag_1008\", \"lag_1009\", \"lag_1010\", \"lag_1679\", \"lag_1680\", \"lag_1681\", \"lag_287\", \"lag_288\", \"lag_289\", \"dummy_Balckout\", \"dummy_HeatWaves\", \"dummy_Winter\", \"dummy_Spring\", \"dummy_Summer\"]]\n",
    "y_test = df_test[['demand']]\n",
    "\n",
    "#X_test = df_test[[\"air_temp\", \"price\", \"lag_1\", \"lag_2\", \"lag_3\", \"lag_4\", \"lag_5\", \"lag_6\", \"lag_7\", \"lag_45\", \"lag_46\", \"lag_47\", \"lag_48\", \"lag_49\", \"lag_50\", \"lag_51\", \"lag_334\", \"lag_335\", \"lag_336\", \"lag_337\", \"lag_338\", \"lag_1006\", \"lag_1007\", \"lag_1008\", \"lag_1009\", \"lag_1010\", \"lag_1679\", \"lag_1680\", \"lag_1681\", \"lag_287\", \"lag_288\", \"lag_289\"]]\n",
    "#y_test = df_test[['demand']]\n",
    "\n",
    "# Print the dimensions of X and y \n",
    "print(\"Dimensions of y: {}\".format(y_test.shape))\n",
    "print(\"Dimensions of X: {}\".format(X_test.shape))"
   ]
  },
  {
   "cell_type": "markdown",
   "metadata": {},
   "source": [
    "## 1.3 Data Transformation"
   ]
  },
  {
   "cell_type": "code",
   "execution_count": 10,
   "metadata": {},
   "outputs": [],
   "source": [
    "# We now create a list of numerical variables which will later be transformed\n",
    "categorical = ['dummy_Balckout', 'dummy_HeatWaves', 'dummy_Winter', 'dummy_Spring', 'dummy_Summer']\n",
    "exclude = categorical\n",
    "numerical=[x for x in list(X_train.columns) if x not in exclude]"
   ]
  },
  {
   "cell_type": "code",
   "execution_count": 11,
   "metadata": {},
   "outputs": [],
   "source": [
    "# Create numerical and categorical subsets of the data\n",
    "X_train_numerical=X_train[numerical]\n",
    "#X_validate_numerical=X_validate[numerical]\n",
    "X_test_numerical=X_test[numerical]\n",
    "\n",
    "X_train_categorical=X_train[categorical]\n",
    "#X_validate_categorical=X_validate[categorical]\n",
    "X_test_categorical=X_test[categorical]"
   ]
  },
  {
   "cell_type": "code",
   "execution_count": 12,
   "metadata": {},
   "outputs": [],
   "source": [
    "# Use StandardScaler to transform numerical data\n",
    "sc = StandardScaler().fit(X_train_numerical)\n",
    "X_train_numerical_sc = sc.transform(X_train_numerical)\n",
    "#X_validate_numerical_sc = sc.transform(X_validate_numerical)\n",
    "X_test_numerical_sc = sc.transform(X_test_numerical)\n",
    "\n",
    "# Add others here later"
   ]
  },
  {
   "cell_type": "code",
   "execution_count": 13,
   "metadata": {},
   "outputs": [],
   "source": [
    "# Get the index from the previous numerical df\n",
    "train_index = X_train_numerical.index\n",
    "#validate_index = X_validate_numerical.index\n",
    "test_index = X_test_numerical.index\n",
    "\n",
    "# Create dataframe\n",
    "X_train_numerical_sc = pd.DataFrame(X_train_numerical_sc, columns=numerical, index=train_index)\n",
    "#X_validate_numerical_sc = pd.DataFrame(X_validate_numerical_sc, columns=numerical, index=validate_index)\n",
    "X_test_numerical_sc = pd.DataFrame(X_test_numerical_sc, columns=numerical, index=test_index)\n",
    "\n",
    "# Combine the data again to form the complete data set\n",
    "X_train = pd.concat([X_train_numerical_sc, X_train_categorical], axis=1)\n",
    "#X_validate = pd.concat([X_validate_numerical_sc, X_validate_categorical], axis=1)\n",
    "X_test = pd.concat([X_test_numerical_sc, X_test_categorical], axis=1)"
   ]
  },
  {
   "cell_type": "code",
   "execution_count": 14,
   "metadata": {},
   "outputs": [],
   "source": [
    "# Convert to arrays for modelling\n",
    "X_train = X_train.values\n",
    "#X_validate = X_validate.values\n",
    "X_test = X_test.values\n",
    "\n",
    "y_train = y_train.values\n",
    "#y_validate = y_validate.values\n",
    "y_test = y_test.values"
   ]
  },
  {
   "cell_type": "markdown",
   "metadata": {},
   "source": [
    "# 2. Modelling"
   ]
  },
  {
   "cell_type": "code",
   "execution_count": 15,
   "metadata": {},
   "outputs": [],
   "source": [
    "def rmse_cv_train(model):\n",
    "    rmse= np.sqrt(-cross_val_score(model, X_train, y_train, scoring=\"neg_mean_squared_error\", cv = 5))\n",
    "    return(rmse)\n",
    "\n",
    "def rmse_cv_test(model):\n",
    "    rmse= np.sqrt(-cross_val_score(model, X_test, y_test, scoring=\"neg_mean_squared_error\", cv = 5))\n",
    "    return(rmse)\n",
    "\n",
    "def mae_cv_train(model):\n",
    "    mae= -cross_val_score(model, X_train, y_train, scoring=\"neg_mean_absolute_error\", cv = 5)\n",
    "    return(mae)\n",
    "\n",
    "def mae_cv_test(model):\n",
    "    mae= -cross_val_score(model, X_test, y_test, scoring=\"neg_mean_absolute_error\", cv = 5)\n",
    "    return(mae)\n",
    "\n",
    "def mape_no_cv(model, X, y):\n",
    "    y_pred = model.predict(X)\n",
    "    mape = np.abs((y-y_pred))/np.abs(y) # Check this definition\n",
    "    return np.mean(mape)\n",
    "    \n",
    "def mae_no_cv(model, X, y):\n",
    "    y_pred = model.predict(X)\n",
    "    return mean_absolute_error(y, y_pred) # Check the order of the inputs here"
   ]
  },
  {
   "cell_type": "markdown",
   "metadata": {},
   "source": [
    "## 2.1 Linear Regression"
   ]
  },
  {
   "cell_type": "code",
   "execution_count": 16,
   "metadata": {},
   "outputs": [
    {
     "data": {
      "text/plain": [
       "LinearRegression(copy_X=True, fit_intercept=True, n_jobs=1, normalize=False)"
      ]
     },
     "execution_count": 16,
     "metadata": {},
     "output_type": "execute_result"
    }
   ],
   "source": [
    "# Fit the linear regression\n",
    "linear = LinearRegression()\n",
    "linear.fit(X_train, y_train)"
   ]
  },
  {
   "cell_type": "code",
   "execution_count": 17,
   "metadata": {},
   "outputs": [],
   "source": [
    "# # Find the validation score\n",
    "# print(\"Linear Regression MAPE on Validation set :\", mape_no_cv(linear, X_validate, y_validate))\n",
    "# print(\"Linear Regression MAE on Validation set :\", mae_no_cv(linear, X_validate, y_validate))"
   ]
  },
  {
   "cell_type": "markdown",
   "metadata": {},
   "source": [
    "## 2.2 LASSO"
   ]
  },
  {
   "cell_type": "code",
   "execution_count": 18,
   "metadata": {},
   "outputs": [
    {
     "name": "stdout",
     "output_type": "stream",
     "text": [
      "Best alpha : 0.3026300223751462\n"
     ]
    }
   ],
   "source": [
    "# Find from default hyperparameters \n",
    "lasso = LassoCV(cv=10)\n",
    "lasso.fit(X_train, y_train)\n",
    "alpha = lasso.alpha_\n",
    "print(\"Best alpha :\", alpha)"
   ]
  },
  {
   "cell_type": "code",
   "execution_count": 19,
   "metadata": {},
   "outputs": [
    {
     "name": "stdout",
     "output_type": "stream",
     "text": [
      "Try again for more precision with alphas centered around 0.3026300223751462\n",
      "Best alpha : 0.1815780134250877\n"
     ]
    }
   ],
   "source": [
    "# Find from more refined list\n",
    "print(\"Try again for more precision with alphas centered around \" + str(alpha))\n",
    "lasso = LassoCV(alphas = [alpha * .6, alpha * .65, alpha * .7, alpha * .75, alpha * .8, \n",
    "                          alpha * .85, alpha * .9, alpha * .95, alpha, alpha * 1.05, \n",
    "                          alpha * 1.1, alpha * 1.15, alpha * 1.25, alpha * 1.3, alpha * 1.35, \n",
    "                          alpha * 1.4], \n",
    "                max_iter = 50000, cv = 5)\n",
    "lasso.fit(X_train, y_train)\n",
    "alpha = lasso.alpha_\n",
    "print(\"Best alpha :\", alpha)"
   ]
  },
  {
   "cell_type": "code",
   "execution_count": 20,
   "metadata": {},
   "outputs": [],
   "source": [
    "# # Find the validation score\n",
    "# print(\"Lasso MAPE on Validation set :\", mape_no_cv(lasso, X_validate, y_validate))\n",
    "# print(\"Lasso MAE on Validation set :\", mae_no_cv(lasso, X_validate, y_validate))"
   ]
  },
  {
   "cell_type": "code",
   "execution_count": 37,
   "metadata": {},
   "outputs": [
    {
     "name": "stdout",
     "output_type": "stream",
     "text": [
      "Lasso picked 26 features and eliminated the other 11 features\n"
     ]
    },
    {
     "data": {
      "image/png": "[encoded data removed]",
      "text/plain": [
       "<Figure size 1008x432 with 1 Axes>"
      ]
     },
     "metadata": {},
     "output_type": "display_data"
    }
   ],
   "source": [
    "# Plot important coefficients\n",
    "fig, ax = plt.subplots(figsize=(14,6))\n",
    "coefs = pd.Series(lasso.coef_, index = df_train_validate.columns[[1,2,4,5,6,7,8,9,10,11,12,13,14,15,16,17,18,19,20,21,22,23,24,25,26,27,27,29,30,31,32,33,34,35,36, 37, 38]]) # Check this\n",
    "print(\"Lasso picked \" + str(sum(coefs != 0)) + \" features and eliminated the other \" +  \\\n",
    "      str(sum(coefs == 0)) + \" features\")\n",
    "imp_coefs = pd.concat([coefs.sort_values().head(10),\n",
    "                     coefs.sort_values().tail(10)])\n",
    "imp_coefs.plot(kind = \"barh\")\n",
    "plt.title(\"Coefficients in the Lasso Model\")\n",
    "plt.show()\n",
    "fig.savefig('lasso_co.png', bbox_inches='tight')"
   ]
  },
  {
   "cell_type": "code",
   "execution_count": 22,
   "metadata": {},
   "outputs": [
    {
     "data": {
      "text/plain": [
       "(37,)"
      ]
     },
     "execution_count": 22,
     "metadata": {},
     "output_type": "execute_result"
    }
   ],
   "source": [
    "lasso.coef_.shape"
   ]
  },
  {
   "cell_type": "markdown",
   "metadata": {},
   "source": [
    "## 2.3 Ridge"
   ]
  },
  {
   "cell_type": "code",
   "execution_count": 23,
   "metadata": {},
   "outputs": [
    {
     "name": "stdout",
     "output_type": "stream",
     "text": [
      "Best alpha : 1.0\n"
     ]
    }
   ],
   "source": [
    "# Find from default hyperparameters \n",
    "ridge = RidgeCV(cv=5)\n",
    "ridge.fit(X_train, y_train)\n",
    "alpha = ridge.alpha_\n",
    "print(\"Best alpha :\", alpha)"
   ]
  },
  {
   "cell_type": "code",
   "execution_count": 24,
   "metadata": {},
   "outputs": [
    {
     "name": "stdout",
     "output_type": "stream",
     "text": [
      "Try again for more precision with alphas centered around 1.0\n",
      "Best alpha : 1.15\n"
     ]
    }
   ],
   "source": [
    "# Find from more refined list\n",
    "print(\"Try again for more precision with alphas centered around \" + str(alpha))\n",
    "ridge = RidgeCV(alphas = [alpha * .6, alpha * .65, alpha * .7, alpha * .75, alpha * .8, \n",
    "                          alpha * .85, alpha * .9, alpha * .95, alpha, alpha * 1.05, \n",
    "                          alpha * 1.1, alpha * 1.15, alpha * 1.25, alpha * 1.3, alpha * 1.35, \n",
    "                          alpha * 1.4], cv = 5)\n",
    "ridge.fit(X_train, y_train)\n",
    "alpha = ridge.alpha_\n",
    "print(\"Best alpha :\", alpha)"
   ]
  },
  {
   "cell_type": "code",
   "execution_count": 25,
   "metadata": {},
   "outputs": [],
   "source": [
    "# # Find the validation score\n",
    "# print(\"Ridge MAPE on Validation set :\", mape_no_cv(ridge, X_validate, y_validate))\n",
    "# print(\"Rige MAE on Validation set :\", mae_no_cv(ridge, X_validate, y_validate))"
   ]
  },
  {
   "cell_type": "code",
   "execution_count": 38,
   "metadata": {},
   "outputs": [
    {
     "name": "stdout",
     "output_type": "stream",
     "text": [
      "Ridge picked 37 features and eliminated the other 0 features\n"
     ]
    },
    {
     "data": {
      "image/png": "[encoded data removed]",
      "text/plain": [
       "<Figure size 1008x432 with 1 Axes>"
      ]
     },
     "metadata": {},
     "output_type": "display_data"
    }
   ],
   "source": [
    "# Plot important coefficients\n",
    "fig, ax = plt.subplots(figsize=(14,6))\n",
    "coefs = pd.Series(np.squeeze(ridge.coef_), index = df_train_validate.columns[[1,2,4,5,6,7,8,9,10,11,12,13,14,15,16,17,18,19,20,21,22,23,24,25,26,27,27,29,30,31,32,33,34,35,36, 37, 38]]) # Check this\n",
    "print(\"Ridge picked \" + str(sum(coefs != 0)) + \" features and eliminated the other \" +  \\\n",
    "      str(sum(coefs == 0)) + \" features\")\n",
    "imp_coefs = pd.concat([coefs.sort_values().head(10),\n",
    "                     coefs.sort_values().tail(10)])\n",
    "imp_coefs.plot(kind = \"barh\")\n",
    "plt.title(\"Coefficients in the Ridge Model\")\n",
    "plt.show()\n",
    "fig.savefig('ridge_co.png', bbox_inches='tight')"
   ]
  },
  {
   "cell_type": "markdown",
   "metadata": {},
   "source": [
    "## 2.4 Elastic Net"
   ]
  },
  {
   "cell_type": "code",
   "execution_count": 27,
   "metadata": {},
   "outputs": [
    {
     "name": "stdout",
     "output_type": "stream",
     "text": [
      "Best l1_ratio : 1.0\n",
      "Best alpha : 0.03\n",
      "Try again for more precision with l1_ratio centered around 1.0\n",
      "Best l1_ratio : 1.0\n",
      "Best alpha : 0.03\n",
      "Now try again for more precision on alpha, with l1_ratio fixed at 1.0 and alpha centered around 0.03\n",
      "Best l1_ratio : 1.0\n",
      "Best alpha : 0.034499999999999996\n",
      "CPU times: user 28.2 s, sys: 286 ms, total: 28.4 s\n",
      "Wall time: 7.11 s\n"
     ]
    }
   ],
   "source": [
    "%%time\n",
    "elasticNet = ElasticNetCV(l1_ratio = [0.1, 0.3, 0.5, 0.6, 0.7, 0.8, 0.85, 0.9, 0.95, 1],\n",
    "                          alphas = [0.0001, 0.0003, 0.0006, 0.001, 0.003, 0.006, \n",
    "                                    0.01, 0.03, 0.06, 0.1, 0.3, 0.6, 1, 3, 6], \n",
    "                          max_iter = 50000, cv = 10)\n",
    "elasticNet.fit(X_train, y_train)\n",
    "alpha = elasticNet.alpha_\n",
    "ratio = elasticNet.l1_ratio_\n",
    "print(\"Best l1_ratio :\", ratio)\n",
    "print(\"Best alpha :\", alpha )\n",
    "\n",
    "print(\"Try again for more precision with l1_ratio centered around \" + str(ratio))\n",
    "elasticNet = ElasticNetCV(l1_ratio = [ratio * .85, ratio * .9, ratio * .95, ratio, ratio * 1.05, ratio * 1.1, ratio * 1.15],\n",
    "                          alphas = [0.0001, 0.0003, 0.0006, 0.001, 0.003, 0.006, 0.01, 0.03, 0.06, 0.1, 0.3, 0.6, 1, 3, 6], \n",
    "                          max_iter = 50000, cv = 10)\n",
    "elasticNet.fit(X_train, y_train)\n",
    "if (elasticNet.l1_ratio_ > 1):\n",
    "    elasticNet.l1_ratio_ = 1    \n",
    "alpha = elasticNet.alpha_\n",
    "ratio = elasticNet.l1_ratio_\n",
    "print(\"Best l1_ratio :\", ratio)\n",
    "print(\"Best alpha :\", alpha )\n",
    "\n",
    "print(\"Now try again for more precision on alpha, with l1_ratio fixed at \" + str(ratio) + \n",
    "      \" and alpha centered around \" + str(alpha))\n",
    "elasticNet = ElasticNetCV(l1_ratio = ratio,\n",
    "                          alphas = [alpha * .6, alpha * .65, alpha * .7, alpha * .75, alpha * .8, alpha * .85, alpha * .9, \n",
    "                                    alpha * .95, alpha, alpha * 1.05, alpha * 1.1, alpha * 1.15, alpha * 1.25, alpha * 1.3, \n",
    "                                    alpha * 1.35, alpha * 1.4], \n",
    "                          max_iter = 50000, cv = 10)\n",
    "elasticNet.fit(X_train, y_train)\n",
    "if (elasticNet.l1_ratio_ > 1):\n",
    "    elasticNet.l1_ratio_ = 1    \n",
    "alpha = elasticNet.alpha_\n",
    "ratio = elasticNet.l1_ratio_\n",
    "print(\"Best l1_ratio :\", ratio)\n",
    "print(\"Best alpha :\", alpha )\n"
   ]
  },
  {
   "cell_type": "code",
   "execution_count": 28,
   "metadata": {},
   "outputs": [],
   "source": [
    "# # Find the validation score\n",
    "# print(\"Elastic Net MAPE on Validation set :\", mape_no_cv(elasticNet, X_validate, y_validate))\n",
    "# print(\"Elastic Net MAE on Validation set :\", mae_no_cv(elasticNet, X_validate, y_validate))"
   ]
  },
  {
   "cell_type": "code",
   "execution_count": 39,
   "metadata": {},
   "outputs": [
    {
     "name": "stdout",
     "output_type": "stream",
     "text": [
      "Elastic Net picked 34 features and eliminated the other 3 features\n"
     ]
    },
    {
     "data": {
      "image/png": "[encoded data removed]",
      "text/plain": [
       "<Figure size 1008x432 with 1 Axes>"
      ]
     },
     "metadata": {},
     "output_type": "display_data"
    }
   ],
   "source": [
    "# Plot important coefficients\n",
    "fig, ax = plt.subplots(figsize=(14,6))\n",
    "coefs = pd.Series(np.squeeze(elasticNet.coef_), index = df_train_validate.columns[[1,2,4,5,6,7,8,9,10,11,12,13,14,15,16,17,18,19,20,21,22,23,24,25,26,27,27,29,30,31,32,33,34,35,36, 37, 38]]) # Check this\n",
    "print(\"Elastic Net picked \" + str(sum(coefs != 0)) + \" features and eliminated the other \" +  \\\n",
    "      str(sum(coefs == 0)) + \" features\")\n",
    "imp_coefs = pd.concat([coefs.sort_values().head(10),\n",
    "                     coefs.sort_values().tail(10)])\n",
    "imp_coefs.plot(kind = \"barh\")\n",
    "plt.title(\"Coefficients in the Elastic Net Model\")\n",
    "plt.show()\n",
    "fig.savefig('en_co.png', bbox_inches='tight')"
   ]
  },
  {
   "cell_type": "markdown",
   "metadata": {},
   "source": [
    "# 3. Model Evaluation\n",
    "Using the test data"
   ]
  },
  {
   "cell_type": "code",
   "execution_count": 30,
   "metadata": {},
   "outputs": [
    {
     "name": "stdout",
     "output_type": "stream",
     "text": [
      "Ridge MAPE on Test set : 0.015361230002436022\n",
      "Rige MAE on Test set : 19.52592980391452\n"
     ]
    }
   ],
   "source": [
    "# Find the validation score\n",
    "print(\"Ridge MAPE on Test set :\", mape_no_cv(ridge, X_test, y_test))\n",
    "print(\"Rige MAE on Test set :\", mae_no_cv(ridge, X_test, y_test))"
   ]
  },
  {
   "cell_type": "code",
   "execution_count": 31,
   "metadata": {},
   "outputs": [],
   "source": [
    "# Calculate the predictions \n",
    "predictions_ridge = np.squeeze(ridge.predict(X_train))\n",
    "\n",
    "# Calculate the residuals\n",
    "residuals_ridge = np.squeeze(y_train) - predictions_ridge\n",
    "\n",
    "# Create dataframe\n",
    "d = {'y_train': np.squeeze(y_train), 'predictions': predictions_ridge, 'residuals_ridge': residuals_ridge}\n",
    "df_residuals_ridge = pd.DataFrame(data=d, index=train_index)\n",
    "\n",
    "# Left join the period\n",
    "df_residuals_ridge['period'] = df_train_validate['period']\n",
    "\n",
    "df_residuals_ridge.shape\n",
    "\n",
    "# Write to a csv file\n",
    "df_residuals_ridge.to_csv('residuals_ridge_train_181028.csv', index_label='train_index')"
   ]
  },
  {
   "cell_type": "code",
   "execution_count": 32,
   "metadata": {},
   "outputs": [],
   "source": [
    "# Calculate the predictions \n",
    "predictions_ridge = np.squeeze(ridge.predict(X_test))\n",
    "\n",
    "# Calculate the residuals\n",
    "residuals_ridge = np.squeeze(y_test) - predictions_ridge\n",
    "\n",
    "# Create dataframe\n",
    "d = {'y_test': np.squeeze(y_test), 'predictions': predictions_ridge, 'residuals_ridge': residuals_ridge}\n",
    "df_residuals_ridge = pd.DataFrame(data=d, index=test_index)\n",
    "\n",
    "# Left join the period\n",
    "df_residuals_ridge['period'] = df_test['period']\n",
    "\n",
    "df_residuals_ridge.shape\n",
    "\n",
    "# Write to a csv file\n",
    "df_residuals_ridge.to_csv('residuals_ridge_test_181028.csv', index_label='test_index')"
   ]
  },
  {
   "cell_type": "code",
   "execution_count": null,
   "metadata": {},
   "outputs": [],
   "source": []
  },
  {
   "cell_type": "code",
   "execution_count": null,
   "metadata": {},
   "outputs": [],
   "source": []
  },
  {
   "cell_type": "code",
   "execution_count": null,
   "metadata": {},
   "outputs": [],
   "source": []
  },
  {
   "cell_type": "code",
   "execution_count": null,
   "metadata": {},
   "outputs": [],
   "source": []
  },
  {
   "cell_type": "code",
   "execution_count": null,
   "metadata": {},
   "outputs": [],
   "source": []
  },
  {
   "cell_type": "code",
   "execution_count": null,
   "metadata": {},
   "outputs": [],
   "source": []
  },
  {
   "cell_type": "code",
   "execution_count": null,
   "metadata": {},
   "outputs": [],
   "source": []
  }
 ],
 "metadata": {
  "kernelspec": {
   "display_name": "Python 3",
   "language": "python",
   "name": "python3"
  },
  "language_info": {
   "codemirror_mode": {
    "name": "ipython",
    "version": 3
   },
   "file_extension": ".py",
   "mimetype": "text/x-python",
   "name": "python",
   "nbconvert_exporter": "python",
   "pygments_lexer": "ipython3",
   "version": "3.7.1"
  }
 },
 "nbformat": 4,
 "nbformat_minor": 2
}

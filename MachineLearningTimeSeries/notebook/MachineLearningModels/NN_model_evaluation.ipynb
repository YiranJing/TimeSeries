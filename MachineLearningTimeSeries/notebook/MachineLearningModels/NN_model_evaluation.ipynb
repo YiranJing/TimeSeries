{
 "cells": [
  {
   "cell_type": "markdown",
   "metadata": {},
   "source": [
    "### Title: NN Model Evaluation\n",
    "\n",
    "Author: Rhys Kilian\n",
    "\n",
    "Date: 31-10-2018\n",
    "\n",
    "We perform model evluation on the best linear and NN model."
   ]
  },
  {
   "cell_type": "code",
   "execution_count": 1,
   "metadata": {},
   "outputs": [
    {
     "name": "stderr",
     "output_type": "stream",
     "text": [
      "/home/rhys/anaconda3/lib/python3.6/site-packages/h5py/__init__.py:36: FutureWarning: Conversion of the second argument of issubdtype from `float` to `np.floating` is deprecated. In future, it will be treated as `np.float64 == np.dtype(float).type`.\n",
      "  from ._conv import register_converters as _register_converters\n",
      "Using TensorFlow backend.\n"
     ]
    }
   ],
   "source": [
    "from numpy.random import seed\n",
    "seed(1)\n",
    "from tensorflow import set_random_seed\n",
    "set_random_seed(2)\n",
    "\n",
    "import pandas as pd\n",
    "pd.options.display.max_columns = 999\n",
    "\n",
    "from sklearn.model_selection import train_test_split\n",
    "from sklearn.preprocessing import StandardScaler\n",
    "from sklearn.preprocessing import MinMaxScaler\n",
    "from sklearn.preprocessing import MaxAbsScaler\n",
    "from sklearn.preprocessing import RobustScaler\n",
    "from sklearn.metrics import mean_squared_error\n",
    "\n",
    "import matplotlib.pyplot as plt\n",
    "\n",
    "# Import models from scikit learn module\n",
    "from sklearn.linear_model import Ridge, RidgeCV, ElasticNet, LassoCV, LassoLarsCV\n",
    "from sklearn.model_selection import cross_val_score\n",
    "from sklearn.metrics import mean_absolute_error\n",
    "from sklearn.model_selection import GridSearchCV\n",
    "from sklearn.model_selection import RandomizedSearchCV\n",
    "from keras.wrappers.scikit_learn import KerasRegressor\n",
    "\n",
    "import warnings\n",
    "warnings.filterwarnings('ignore')\n",
    "\n",
    "from keras.models import Sequential\n",
    "from keras.layers import Dense\n",
    "from keras import models\n",
    "from keras import layers\n",
    "from keras.layers import Dropout\n",
    "from keras.constraints import maxnorm\n",
    "\n",
    "import numpy as np"
   ]
  },
  {
   "cell_type": "markdown",
   "metadata": {},
   "source": [
    "# 1. Data Preparation"
   ]
  },
  {
   "cell_type": "code",
   "execution_count": 2,
   "metadata": {},
   "outputs": [
    {
     "data": {
      "text/html": [
       "<div>\n",
       "<style scoped>\n",
       "    .dataframe tbody tr th:only-of-type {\n",
       "        vertical-align: middle;\n",
       "    }\n",
       "\n",
       "    .dataframe tbody tr th {\n",
       "        vertical-align: top;\n",
       "    }\n",
       "\n",
       "    .dataframe thead th {\n",
       "        text-align: right;\n",
       "    }\n",
       "</style>\n",
       "<table border=\"1\" class=\"dataframe\">\n",
       "  <thead>\n",
       "    <tr style=\"text-align: right;\">\n",
       "      <th></th>\n",
       "      <th>period</th>\n",
       "      <th>air_temp</th>\n",
       "      <th>price</th>\n",
       "      <th>demand</th>\n",
       "      <th>lag_1</th>\n",
       "      <th>lag_2</th>\n",
       "      <th>lag_3</th>\n",
       "      <th>lag_4</th>\n",
       "      <th>lag_5</th>\n",
       "      <th>lag_6</th>\n",
       "      <th>lag_7</th>\n",
       "      <th>lag_45</th>\n",
       "      <th>lag_46</th>\n",
       "      <th>lag_47</th>\n",
       "      <th>lag_48</th>\n",
       "      <th>lag_49</th>\n",
       "      <th>lag_50</th>\n",
       "      <th>lag_51</th>\n",
       "      <th>lag_334</th>\n",
       "      <th>lag_335</th>\n",
       "      <th>lag_336</th>\n",
       "      <th>lag_337</th>\n",
       "      <th>lag_338</th>\n",
       "      <th>lag_1006</th>\n",
       "      <th>lag_1007</th>\n",
       "      <th>lag_1008</th>\n",
       "      <th>lag_1009</th>\n",
       "      <th>lag_1010</th>\n",
       "      <th>lag_1679</th>\n",
       "      <th>lag_1680</th>\n",
       "      <th>lag_1681</th>\n",
       "      <th>lag_287</th>\n",
       "      <th>lag_288</th>\n",
       "      <th>lag_289</th>\n",
       "      <th>dummy_Balckout</th>\n",
       "      <th>dummy_HeatWaves</th>\n",
       "      <th>dummy_Winter</th>\n",
       "      <th>dummy_Spring</th>\n",
       "      <th>dummy_Summer</th>\n",
       "    </tr>\n",
       "  </thead>\n",
       "  <tbody>\n",
       "    <tr>\n",
       "      <th>0</th>\n",
       "      <td>2016-05-01 00:30:00</td>\n",
       "      <td>16.65</td>\n",
       "      <td>8.96</td>\n",
       "      <td>1243.54</td>\n",
       "      <td>NaN</td>\n",
       "      <td>NaN</td>\n",
       "      <td>NaN</td>\n",
       "      <td>NaN</td>\n",
       "      <td>NaN</td>\n",
       "      <td>NaN</td>\n",
       "      <td>NaN</td>\n",
       "      <td>NaN</td>\n",
       "      <td>NaN</td>\n",
       "      <td>NaN</td>\n",
       "      <td>NaN</td>\n",
       "      <td>NaN</td>\n",
       "      <td>NaN</td>\n",
       "      <td>NaN</td>\n",
       "      <td>NaN</td>\n",
       "      <td>NaN</td>\n",
       "      <td>NaN</td>\n",
       "      <td>NaN</td>\n",
       "      <td>NaN</td>\n",
       "      <td>NaN</td>\n",
       "      <td>NaN</td>\n",
       "      <td>NaN</td>\n",
       "      <td>NaN</td>\n",
       "      <td>NaN</td>\n",
       "      <td>NaN</td>\n",
       "      <td>NaN</td>\n",
       "      <td>NaN</td>\n",
       "      <td>NaN</td>\n",
       "      <td>NaN</td>\n",
       "      <td>NaN</td>\n",
       "      <td>0</td>\n",
       "      <td>0</td>\n",
       "      <td>0</td>\n",
       "      <td>0</td>\n",
       "      <td>0</td>\n",
       "    </tr>\n",
       "    <tr>\n",
       "      <th>1</th>\n",
       "      <td>2016-05-01 01:00:00</td>\n",
       "      <td>16.90</td>\n",
       "      <td>5.54</td>\n",
       "      <td>1167.92</td>\n",
       "      <td>1243.54</td>\n",
       "      <td>NaN</td>\n",
       "      <td>NaN</td>\n",
       "      <td>NaN</td>\n",
       "      <td>NaN</td>\n",
       "      <td>NaN</td>\n",
       "      <td>NaN</td>\n",
       "      <td>NaN</td>\n",
       "      <td>NaN</td>\n",
       "      <td>NaN</td>\n",
       "      <td>NaN</td>\n",
       "      <td>NaN</td>\n",
       "      <td>NaN</td>\n",
       "      <td>NaN</td>\n",
       "      <td>NaN</td>\n",
       "      <td>NaN</td>\n",
       "      <td>NaN</td>\n",
       "      <td>NaN</td>\n",
       "      <td>NaN</td>\n",
       "      <td>NaN</td>\n",
       "      <td>NaN</td>\n",
       "      <td>NaN</td>\n",
       "      <td>NaN</td>\n",
       "      <td>NaN</td>\n",
       "      <td>NaN</td>\n",
       "      <td>NaN</td>\n",
       "      <td>NaN</td>\n",
       "      <td>NaN</td>\n",
       "      <td>NaN</td>\n",
       "      <td>NaN</td>\n",
       "      <td>0</td>\n",
       "      <td>0</td>\n",
       "      <td>0</td>\n",
       "      <td>0</td>\n",
       "      <td>0</td>\n",
       "    </tr>\n",
       "    <tr>\n",
       "      <th>2</th>\n",
       "      <td>2016-05-01 01:30:00</td>\n",
       "      <td>17.00</td>\n",
       "      <td>-0.07</td>\n",
       "      <td>1098.86</td>\n",
       "      <td>1167.92</td>\n",
       "      <td>1243.54</td>\n",
       "      <td>NaN</td>\n",
       "      <td>NaN</td>\n",
       "      <td>NaN</td>\n",
       "      <td>NaN</td>\n",
       "      <td>NaN</td>\n",
       "      <td>NaN</td>\n",
       "      <td>NaN</td>\n",
       "      <td>NaN</td>\n",
       "      <td>NaN</td>\n",
       "      <td>NaN</td>\n",
       "      <td>NaN</td>\n",
       "      <td>NaN</td>\n",
       "      <td>NaN</td>\n",
       "      <td>NaN</td>\n",
       "      <td>NaN</td>\n",
       "      <td>NaN</td>\n",
       "      <td>NaN</td>\n",
       "      <td>NaN</td>\n",
       "      <td>NaN</td>\n",
       "      <td>NaN</td>\n",
       "      <td>NaN</td>\n",
       "      <td>NaN</td>\n",
       "      <td>NaN</td>\n",
       "      <td>NaN</td>\n",
       "      <td>NaN</td>\n",
       "      <td>NaN</td>\n",
       "      <td>NaN</td>\n",
       "      <td>NaN</td>\n",
       "      <td>0</td>\n",
       "      <td>0</td>\n",
       "      <td>0</td>\n",
       "      <td>0</td>\n",
       "      <td>0</td>\n",
       "    </tr>\n",
       "    <tr>\n",
       "      <th>3</th>\n",
       "      <td>2016-05-01 02:00:00</td>\n",
       "      <td>17.10</td>\n",
       "      <td>-13.21</td>\n",
       "      <td>1032.27</td>\n",
       "      <td>1098.86</td>\n",
       "      <td>1167.92</td>\n",
       "      <td>1243.54</td>\n",
       "      <td>NaN</td>\n",
       "      <td>NaN</td>\n",
       "      <td>NaN</td>\n",
       "      <td>NaN</td>\n",
       "      <td>NaN</td>\n",
       "      <td>NaN</td>\n",
       "      <td>NaN</td>\n",
       "      <td>NaN</td>\n",
       "      <td>NaN</td>\n",
       "      <td>NaN</td>\n",
       "      <td>NaN</td>\n",
       "      <td>NaN</td>\n",
       "      <td>NaN</td>\n",
       "      <td>NaN</td>\n",
       "      <td>NaN</td>\n",
       "      <td>NaN</td>\n",
       "      <td>NaN</td>\n",
       "      <td>NaN</td>\n",
       "      <td>NaN</td>\n",
       "      <td>NaN</td>\n",
       "      <td>NaN</td>\n",
       "      <td>NaN</td>\n",
       "      <td>NaN</td>\n",
       "      <td>NaN</td>\n",
       "      <td>NaN</td>\n",
       "      <td>NaN</td>\n",
       "      <td>NaN</td>\n",
       "      <td>0</td>\n",
       "      <td>0</td>\n",
       "      <td>0</td>\n",
       "      <td>0</td>\n",
       "      <td>0</td>\n",
       "    </tr>\n",
       "    <tr>\n",
       "      <th>4</th>\n",
       "      <td>2016-05-01 02:30:00</td>\n",
       "      <td>17.15</td>\n",
       "      <td>-33.19</td>\n",
       "      <td>963.98</td>\n",
       "      <td>1032.27</td>\n",
       "      <td>1098.86</td>\n",
       "      <td>1167.92</td>\n",
       "      <td>1243.54</td>\n",
       "      <td>NaN</td>\n",
       "      <td>NaN</td>\n",
       "      <td>NaN</td>\n",
       "      <td>NaN</td>\n",
       "      <td>NaN</td>\n",
       "      <td>NaN</td>\n",
       "      <td>NaN</td>\n",
       "      <td>NaN</td>\n",
       "      <td>NaN</td>\n",
       "      <td>NaN</td>\n",
       "      <td>NaN</td>\n",
       "      <td>NaN</td>\n",
       "      <td>NaN</td>\n",
       "      <td>NaN</td>\n",
       "      <td>NaN</td>\n",
       "      <td>NaN</td>\n",
       "      <td>NaN</td>\n",
       "      <td>NaN</td>\n",
       "      <td>NaN</td>\n",
       "      <td>NaN</td>\n",
       "      <td>NaN</td>\n",
       "      <td>NaN</td>\n",
       "      <td>NaN</td>\n",
       "      <td>NaN</td>\n",
       "      <td>NaN</td>\n",
       "      <td>NaN</td>\n",
       "      <td>0</td>\n",
       "      <td>0</td>\n",
       "      <td>0</td>\n",
       "      <td>0</td>\n",
       "      <td>0</td>\n",
       "    </tr>\n",
       "  </tbody>\n",
       "</table>\n",
       "</div>"
      ],
      "text/plain": [
       "               period  air_temp  price   demand    lag_1    lag_2    lag_3  \\\n",
       "0 2016-05-01 00:30:00     16.65   8.96  1243.54      NaN      NaN      NaN   \n",
       "1 2016-05-01 01:00:00     16.90   5.54  1167.92  1243.54      NaN      NaN   \n",
       "2 2016-05-01 01:30:00     17.00  -0.07  1098.86  1167.92  1243.54      NaN   \n",
       "3 2016-05-01 02:00:00     17.10 -13.21  1032.27  1098.86  1167.92  1243.54   \n",
       "4 2016-05-01 02:30:00     17.15 -33.19   963.98  1032.27  1098.86  1167.92   \n",
       "\n",
       "     lag_4  lag_5  lag_6  lag_7  lag_45  lag_46  lag_47  lag_48  lag_49  \\\n",
       "0      NaN    NaN    NaN    NaN     NaN     NaN     NaN     NaN     NaN   \n",
       "1      NaN    NaN    NaN    NaN     NaN     NaN     NaN     NaN     NaN   \n",
       "2      NaN    NaN    NaN    NaN     NaN     NaN     NaN     NaN     NaN   \n",
       "3      NaN    NaN    NaN    NaN     NaN     NaN     NaN     NaN     NaN   \n",
       "4  1243.54    NaN    NaN    NaN     NaN     NaN     NaN     NaN     NaN   \n",
       "\n",
       "   lag_50  lag_51  lag_334  lag_335  lag_336  lag_337  lag_338  lag_1006  \\\n",
       "0     NaN     NaN      NaN      NaN      NaN      NaN      NaN       NaN   \n",
       "1     NaN     NaN      NaN      NaN      NaN      NaN      NaN       NaN   \n",
       "2     NaN     NaN      NaN      NaN      NaN      NaN      NaN       NaN   \n",
       "3     NaN     NaN      NaN      NaN      NaN      NaN      NaN       NaN   \n",
       "4     NaN     NaN      NaN      NaN      NaN      NaN      NaN       NaN   \n",
       "\n",
       "   lag_1007  lag_1008  lag_1009  lag_1010  lag_1679  lag_1680  lag_1681  \\\n",
       "0       NaN       NaN       NaN       NaN       NaN       NaN       NaN   \n",
       "1       NaN       NaN       NaN       NaN       NaN       NaN       NaN   \n",
       "2       NaN       NaN       NaN       NaN       NaN       NaN       NaN   \n",
       "3       NaN       NaN       NaN       NaN       NaN       NaN       NaN   \n",
       "4       NaN       NaN       NaN       NaN       NaN       NaN       NaN   \n",
       "\n",
       "   lag_287  lag_288  lag_289  dummy_Balckout  dummy_HeatWaves  dummy_Winter  \\\n",
       "0      NaN      NaN      NaN               0                0             0   \n",
       "1      NaN      NaN      NaN               0                0             0   \n",
       "2      NaN      NaN      NaN               0                0             0   \n",
       "3      NaN      NaN      NaN               0                0             0   \n",
       "4      NaN      NaN      NaN               0                0             0   \n",
       "\n",
       "   dummy_Spring  dummy_Summer  \n",
       "0             0             0  \n",
       "1             0             0  \n",
       "2             0             0  \n",
       "3             0             0  \n",
       "4             0             0  "
      ]
     },
     "execution_count": 2,
     "metadata": {},
     "output_type": "execute_result"
    }
   ],
   "source": [
    "# Read in the data\n",
    "df = pd.read_csv('../../../0. Data/dataset_add_dummy_seasonal_181021.csv')\n",
    "df['period'] = pd.to_datetime(df['period'], format='%d/%m/%Y %H:%M')\n",
    "df.sort_values(by='period', ascending=True, inplace=True)\n",
    "df.head()"
   ]
  },
  {
   "cell_type": "markdown",
   "metadata": {},
   "source": [
    "We now have to remove the 1681 rows which contain NaN values. Otherwise, we will get errors when trying to create our models."
   ]
  },
  {
   "cell_type": "code",
   "execution_count": 3,
   "metadata": {},
   "outputs": [],
   "source": [
    "# Remove NaN values\n",
    "df.dropna(axis=0, inplace=True)\n",
    "df.reset_index(drop=True,inplace=True)"
   ]
  },
  {
   "cell_type": "markdown",
   "metadata": {},
   "source": [
    "## 1.1 Train/Validation/Test Split"
   ]
  },
  {
   "cell_type": "markdown",
   "metadata": {},
   "source": [
    "If we want a test set of approximately 20% then we need the last two months of data which are March 2017 and April 2017. This gives us a test set of approximately 18.5%. We do the same for the validation set which is January 2017 and February 2017. "
   ]
  },
  {
   "cell_type": "code",
   "execution_count": 4,
   "metadata": {},
   "outputs": [],
   "source": [
    "# Create training and test sets\n",
    "split_point = 12910\n",
    "df_train_validate = df.iloc[0:split_point,:]\n",
    "df_test = df.iloc[split_point:,:]"
   ]
  },
  {
   "cell_type": "code",
   "execution_count": 5,
   "metadata": {},
   "outputs": [],
   "source": [
    "# Create training and validation sets\n",
    "split_point = 10078\n",
    "df_train = df_train_validate.iloc[0:split_point,:]\n",
    "df_validate = df_train_validate.iloc[split_point:,:]"
   ]
  },
  {
   "cell_type": "code",
   "execution_count": 6,
   "metadata": {},
   "outputs": [
    {
     "data": {
      "text/html": [
       "<div>\n",
       "<style scoped>\n",
       "    .dataframe tbody tr th:only-of-type {\n",
       "        vertical-align: middle;\n",
       "    }\n",
       "\n",
       "    .dataframe tbody tr th {\n",
       "        vertical-align: top;\n",
       "    }\n",
       "\n",
       "    .dataframe thead th {\n",
       "        text-align: right;\n",
       "    }\n",
       "</style>\n",
       "<table border=\"1\" class=\"dataframe\">\n",
       "  <thead>\n",
       "    <tr style=\"text-align: right;\">\n",
       "      <th></th>\n",
       "      <th>period</th>\n",
       "      <th>air_temp</th>\n",
       "      <th>price</th>\n",
       "      <th>demand</th>\n",
       "      <th>lag_1</th>\n",
       "      <th>lag_2</th>\n",
       "      <th>lag_3</th>\n",
       "      <th>lag_4</th>\n",
       "      <th>lag_5</th>\n",
       "      <th>lag_6</th>\n",
       "      <th>lag_7</th>\n",
       "      <th>lag_45</th>\n",
       "      <th>lag_46</th>\n",
       "      <th>lag_47</th>\n",
       "      <th>lag_48</th>\n",
       "      <th>lag_49</th>\n",
       "      <th>lag_50</th>\n",
       "      <th>lag_51</th>\n",
       "      <th>lag_334</th>\n",
       "      <th>lag_335</th>\n",
       "      <th>lag_336</th>\n",
       "      <th>lag_337</th>\n",
       "      <th>lag_338</th>\n",
       "      <th>lag_1006</th>\n",
       "      <th>lag_1007</th>\n",
       "      <th>lag_1008</th>\n",
       "      <th>lag_1009</th>\n",
       "      <th>lag_1010</th>\n",
       "      <th>lag_1679</th>\n",
       "      <th>lag_1680</th>\n",
       "      <th>lag_1681</th>\n",
       "      <th>lag_287</th>\n",
       "      <th>lag_288</th>\n",
       "      <th>lag_289</th>\n",
       "      <th>dummy_Balckout</th>\n",
       "      <th>dummy_HeatWaves</th>\n",
       "      <th>dummy_Winter</th>\n",
       "      <th>dummy_Spring</th>\n",
       "      <th>dummy_Summer</th>\n",
       "    </tr>\n",
       "  </thead>\n",
       "  <tbody>\n",
       "    <tr>\n",
       "      <th>12910</th>\n",
       "      <td>2017-03-01 00:00:00</td>\n",
       "      <td>34.00</td>\n",
       "      <td>46.93</td>\n",
       "      <td>1852.77</td>\n",
       "      <td>1692.17</td>\n",
       "      <td>1743.35</td>\n",
       "      <td>1850.72</td>\n",
       "      <td>1975.58</td>\n",
       "      <td>2098.78</td>\n",
       "      <td>2209.24</td>\n",
       "      <td>2291.59</td>\n",
       "      <td>1400.48</td>\n",
       "      <td>1465.08</td>\n",
       "      <td>1493.41</td>\n",
       "      <td>1599.68</td>\n",
       "      <td>1429.60</td>\n",
       "      <td>1480.51</td>\n",
       "      <td>1540.91</td>\n",
       "      <td>1205.58</td>\n",
       "      <td>1261.73</td>\n",
       "      <td>1344.08</td>\n",
       "      <td>1175.69</td>\n",
       "      <td>1192.87</td>\n",
       "      <td>1362.40</td>\n",
       "      <td>1388.73</td>\n",
       "      <td>1491.46</td>\n",
       "      <td>1348.77</td>\n",
       "      <td>1355.61</td>\n",
       "      <td>1311.26</td>\n",
       "      <td>1418.21</td>\n",
       "      <td>1244.27</td>\n",
       "      <td>1201.42</td>\n",
       "      <td>1275.00</td>\n",
       "      <td>1100.42</td>\n",
       "      <td>0</td>\n",
       "      <td>0</td>\n",
       "      <td>0</td>\n",
       "      <td>0</td>\n",
       "      <td>0</td>\n",
       "    </tr>\n",
       "    <tr>\n",
       "      <th>12911</th>\n",
       "      <td>2017-03-01 00:30:00</td>\n",
       "      <td>33.80</td>\n",
       "      <td>70.58</td>\n",
       "      <td>1698.09</td>\n",
       "      <td>1852.77</td>\n",
       "      <td>1692.17</td>\n",
       "      <td>1743.35</td>\n",
       "      <td>1850.72</td>\n",
       "      <td>1975.58</td>\n",
       "      <td>2098.78</td>\n",
       "      <td>2209.24</td>\n",
       "      <td>1356.33</td>\n",
       "      <td>1400.48</td>\n",
       "      <td>1465.08</td>\n",
       "      <td>1493.41</td>\n",
       "      <td>1599.68</td>\n",
       "      <td>1429.60</td>\n",
       "      <td>1480.51</td>\n",
       "      <td>1133.37</td>\n",
       "      <td>1205.58</td>\n",
       "      <td>1261.73</td>\n",
       "      <td>1344.08</td>\n",
       "      <td>1175.69</td>\n",
       "      <td>1294.11</td>\n",
       "      <td>1362.40</td>\n",
       "      <td>1388.73</td>\n",
       "      <td>1491.46</td>\n",
       "      <td>1348.77</td>\n",
       "      <td>1243.51</td>\n",
       "      <td>1311.26</td>\n",
       "      <td>1418.21</td>\n",
       "      <td>1142.83</td>\n",
       "      <td>1201.42</td>\n",
       "      <td>1275.00</td>\n",
       "      <td>0</td>\n",
       "      <td>0</td>\n",
       "      <td>0</td>\n",
       "      <td>0</td>\n",
       "      <td>0</td>\n",
       "    </tr>\n",
       "    <tr>\n",
       "      <th>12912</th>\n",
       "      <td>2017-03-01 01:00:00</td>\n",
       "      <td>33.60</td>\n",
       "      <td>119.52</td>\n",
       "      <td>1629.32</td>\n",
       "      <td>1698.09</td>\n",
       "      <td>1852.77</td>\n",
       "      <td>1692.17</td>\n",
       "      <td>1743.35</td>\n",
       "      <td>1850.72</td>\n",
       "      <td>1975.58</td>\n",
       "      <td>2098.78</td>\n",
       "      <td>1357.86</td>\n",
       "      <td>1356.33</td>\n",
       "      <td>1400.48</td>\n",
       "      <td>1465.08</td>\n",
       "      <td>1493.41</td>\n",
       "      <td>1599.68</td>\n",
       "      <td>1429.60</td>\n",
       "      <td>1090.07</td>\n",
       "      <td>1133.37</td>\n",
       "      <td>1205.58</td>\n",
       "      <td>1261.73</td>\n",
       "      <td>1344.08</td>\n",
       "      <td>1250.07</td>\n",
       "      <td>1294.11</td>\n",
       "      <td>1362.40</td>\n",
       "      <td>1388.73</td>\n",
       "      <td>1491.46</td>\n",
       "      <td>1186.26</td>\n",
       "      <td>1243.51</td>\n",
       "      <td>1311.26</td>\n",
       "      <td>1063.67</td>\n",
       "      <td>1142.83</td>\n",
       "      <td>1201.42</td>\n",
       "      <td>0</td>\n",
       "      <td>0</td>\n",
       "      <td>0</td>\n",
       "      <td>0</td>\n",
       "      <td>0</td>\n",
       "    </tr>\n",
       "    <tr>\n",
       "      <th>12913</th>\n",
       "      <td>2017-03-01 01:30:00</td>\n",
       "      <td>32.25</td>\n",
       "      <td>105.58</td>\n",
       "      <td>1546.72</td>\n",
       "      <td>1629.32</td>\n",
       "      <td>1698.09</td>\n",
       "      <td>1852.77</td>\n",
       "      <td>1692.17</td>\n",
       "      <td>1743.35</td>\n",
       "      <td>1850.72</td>\n",
       "      <td>1975.58</td>\n",
       "      <td>1345.53</td>\n",
       "      <td>1357.86</td>\n",
       "      <td>1356.33</td>\n",
       "      <td>1400.48</td>\n",
       "      <td>1465.08</td>\n",
       "      <td>1493.41</td>\n",
       "      <td>1599.68</td>\n",
       "      <td>1070.76</td>\n",
       "      <td>1090.07</td>\n",
       "      <td>1133.37</td>\n",
       "      <td>1205.58</td>\n",
       "      <td>1261.73</td>\n",
       "      <td>1216.36</td>\n",
       "      <td>1250.07</td>\n",
       "      <td>1294.11</td>\n",
       "      <td>1362.40</td>\n",
       "      <td>1388.73</td>\n",
       "      <td>1147.69</td>\n",
       "      <td>1186.26</td>\n",
       "      <td>1243.51</td>\n",
       "      <td>1004.65</td>\n",
       "      <td>1063.67</td>\n",
       "      <td>1142.83</td>\n",
       "      <td>0</td>\n",
       "      <td>0</td>\n",
       "      <td>0</td>\n",
       "      <td>0</td>\n",
       "      <td>0</td>\n",
       "    </tr>\n",
       "    <tr>\n",
       "      <th>12914</th>\n",
       "      <td>2017-03-01 02:00:00</td>\n",
       "      <td>30.90</td>\n",
       "      <td>139.16</td>\n",
       "      <td>1511.15</td>\n",
       "      <td>1546.72</td>\n",
       "      <td>1629.32</td>\n",
       "      <td>1698.09</td>\n",
       "      <td>1852.77</td>\n",
       "      <td>1692.17</td>\n",
       "      <td>1743.35</td>\n",
       "      <td>1850.72</td>\n",
       "      <td>1320.15</td>\n",
       "      <td>1345.53</td>\n",
       "      <td>1357.86</td>\n",
       "      <td>1356.33</td>\n",
       "      <td>1400.48</td>\n",
       "      <td>1465.08</td>\n",
       "      <td>1493.41</td>\n",
       "      <td>1060.36</td>\n",
       "      <td>1070.76</td>\n",
       "      <td>1090.07</td>\n",
       "      <td>1133.37</td>\n",
       "      <td>1205.58</td>\n",
       "      <td>1226.75</td>\n",
       "      <td>1216.36</td>\n",
       "      <td>1250.07</td>\n",
       "      <td>1294.11</td>\n",
       "      <td>1362.40</td>\n",
       "      <td>1137.57</td>\n",
       "      <td>1147.69</td>\n",
       "      <td>1186.26</td>\n",
       "      <td>1008.12</td>\n",
       "      <td>1004.65</td>\n",
       "      <td>1063.67</td>\n",
       "      <td>0</td>\n",
       "      <td>0</td>\n",
       "      <td>0</td>\n",
       "      <td>0</td>\n",
       "      <td>0</td>\n",
       "    </tr>\n",
       "  </tbody>\n",
       "</table>\n",
       "</div>"
      ],
      "text/plain": [
       "                   period  air_temp   price   demand    lag_1    lag_2  \\\n",
       "12910 2017-03-01 00:00:00     34.00   46.93  1852.77  1692.17  1743.35   \n",
       "12911 2017-03-01 00:30:00     33.80   70.58  1698.09  1852.77  1692.17   \n",
       "12912 2017-03-01 01:00:00     33.60  119.52  1629.32  1698.09  1852.77   \n",
       "12913 2017-03-01 01:30:00     32.25  105.58  1546.72  1629.32  1698.09   \n",
       "12914 2017-03-01 02:00:00     30.90  139.16  1511.15  1546.72  1629.32   \n",
       "\n",
       "         lag_3    lag_4    lag_5    lag_6    lag_7   lag_45   lag_46   lag_47  \\\n",
       "12910  1850.72  1975.58  2098.78  2209.24  2291.59  1400.48  1465.08  1493.41   \n",
       "12911  1743.35  1850.72  1975.58  2098.78  2209.24  1356.33  1400.48  1465.08   \n",
       "12912  1692.17  1743.35  1850.72  1975.58  2098.78  1357.86  1356.33  1400.48   \n",
       "12913  1852.77  1692.17  1743.35  1850.72  1975.58  1345.53  1357.86  1356.33   \n",
       "12914  1698.09  1852.77  1692.17  1743.35  1850.72  1320.15  1345.53  1357.86   \n",
       "\n",
       "        lag_48   lag_49   lag_50   lag_51  lag_334  lag_335  lag_336  lag_337  \\\n",
       "12910  1599.68  1429.60  1480.51  1540.91  1205.58  1261.73  1344.08  1175.69   \n",
       "12911  1493.41  1599.68  1429.60  1480.51  1133.37  1205.58  1261.73  1344.08   \n",
       "12912  1465.08  1493.41  1599.68  1429.60  1090.07  1133.37  1205.58  1261.73   \n",
       "12913  1400.48  1465.08  1493.41  1599.68  1070.76  1090.07  1133.37  1205.58   \n",
       "12914  1356.33  1400.48  1465.08  1493.41  1060.36  1070.76  1090.07  1133.37   \n",
       "\n",
       "       lag_338  lag_1006  lag_1007  lag_1008  lag_1009  lag_1010  lag_1679  \\\n",
       "12910  1192.87   1362.40   1388.73   1491.46   1348.77   1355.61   1311.26   \n",
       "12911  1175.69   1294.11   1362.40   1388.73   1491.46   1348.77   1243.51   \n",
       "12912  1344.08   1250.07   1294.11   1362.40   1388.73   1491.46   1186.26   \n",
       "12913  1261.73   1216.36   1250.07   1294.11   1362.40   1388.73   1147.69   \n",
       "12914  1205.58   1226.75   1216.36   1250.07   1294.11   1362.40   1137.57   \n",
       "\n",
       "       lag_1680  lag_1681  lag_287  lag_288  lag_289  dummy_Balckout  \\\n",
       "12910   1418.21   1244.27  1201.42  1275.00  1100.42               0   \n",
       "12911   1311.26   1418.21  1142.83  1201.42  1275.00               0   \n",
       "12912   1243.51   1311.26  1063.67  1142.83  1201.42               0   \n",
       "12913   1186.26   1243.51  1004.65  1063.67  1142.83               0   \n",
       "12914   1147.69   1186.26  1008.12  1004.65  1063.67               0   \n",
       "\n",
       "       dummy_HeatWaves  dummy_Winter  dummy_Spring  dummy_Summer  \n",
       "12910                0             0             0             0  \n",
       "12911                0             0             0             0  \n",
       "12912                0             0             0             0  \n",
       "12913                0             0             0             0  \n",
       "12914                0             0             0             0  "
      ]
     },
     "execution_count": 6,
     "metadata": {},
     "output_type": "execute_result"
    }
   ],
   "source": [
    "df_test.head()"
   ]
  },
  {
   "cell_type": "code",
   "execution_count": 7,
   "metadata": {},
   "outputs": [],
   "source": [
    "# Shuffle \n",
    "from sklearn.utils import shuffle\n",
    "df_train = shuffle(df_train)\n",
    "df_validate = shuffle(df_validate)\n",
    "df_test = shuffle(df_test)"
   ]
  },
  {
   "cell_type": "markdown",
   "metadata": {},
   "source": [
    "## 1.2 Convert Data"
   ]
  },
  {
   "cell_type": "code",
   "execution_count": 8,
   "metadata": {},
   "outputs": [
    {
     "name": "stdout",
     "output_type": "stream",
     "text": [
      "Dimensions of y: (10078, 1)\n",
      "Dimensions of X: (10078, 37)\n"
     ]
    }
   ],
   "source": [
    "# Convert the data\n",
    "X_train = df_train[[\"air_temp\", \"price\", \"lag_1\", \"lag_2\", \"lag_3\", \"lag_4\", \"lag_5\", \"lag_6\", \"lag_7\", \"lag_45\", \"lag_46\", \"lag_47\", \"lag_48\", \"lag_49\", \"lag_50\", \"lag_51\", \"lag_334\", \"lag_335\", \"lag_336\", \"lag_337\", \"lag_338\", \"lag_1006\", \"lag_1007\", \"lag_1008\", \"lag_1009\", \"lag_1010\", \"lag_1679\", \"lag_1680\", \"lag_1681\", \"lag_287\", \"lag_288\", \"lag_289\", \"dummy_Balckout\", \"dummy_HeatWaves\", \"dummy_Winter\", \"dummy_Spring\", \"dummy_Summer\"]]\n",
    "y_train = df_train[['demand']]\n",
    "\n",
    "# Print the dimensions of X and y \n",
    "print(\"Dimensions of y: {}\".format(y_train.shape))\n",
    "print(\"Dimensions of X: {}\".format(X_train.shape))"
   ]
  },
  {
   "cell_type": "code",
   "execution_count": 9,
   "metadata": {},
   "outputs": [
    {
     "name": "stdout",
     "output_type": "stream",
     "text": [
      "Dimensions of y: (2832, 1)\n",
      "Dimensions of X: (2832, 37)\n"
     ]
    }
   ],
   "source": [
    "# Convert the data\n",
    "X_validate = df_validate[[\"air_temp\", \"price\", \"lag_1\", \"lag_2\", \"lag_3\", \"lag_4\", \"lag_5\", \"lag_6\", \"lag_7\", \"lag_45\", \"lag_46\", \"lag_47\", \"lag_48\", \"lag_49\", \"lag_50\", \"lag_51\", \"lag_334\", \"lag_335\", \"lag_336\", \"lag_337\", \"lag_338\", \"lag_1006\", \"lag_1007\", \"lag_1008\", \"lag_1009\", \"lag_1010\", \"lag_1679\", \"lag_1680\", \"lag_1681\", \"lag_287\", \"lag_288\", \"lag_289\", \"dummy_Balckout\", \"dummy_HeatWaves\", \"dummy_Winter\", \"dummy_Spring\", \"dummy_Summer\"]]\n",
    "y_validate = df_validate[['demand']]\n",
    "\n",
    "# Print the dimensions of X and y \n",
    "print(\"Dimensions of y: {}\".format(y_validate.shape))\n",
    "print(\"Dimensions of X: {}\".format(X_validate.shape))"
   ]
  },
  {
   "cell_type": "code",
   "execution_count": 10,
   "metadata": {},
   "outputs": [
    {
     "name": "stdout",
     "output_type": "stream",
     "text": [
      "Dimensions of y: (2909, 1)\n",
      "Dimensions of X: (2909, 37)\n"
     ]
    }
   ],
   "source": [
    "# Convert the data\n",
    "X_test = df_test[[\"air_temp\", \"price\", \"lag_1\", \"lag_2\", \"lag_3\", \"lag_4\", \"lag_5\", \"lag_6\", \"lag_7\", \"lag_45\", \"lag_46\", \"lag_47\", \"lag_48\", \"lag_49\", \"lag_50\", \"lag_51\", \"lag_334\", \"lag_335\", \"lag_336\", \"lag_337\", \"lag_338\", \"lag_1006\", \"lag_1007\", \"lag_1008\", \"lag_1009\", \"lag_1010\", \"lag_1679\", \"lag_1680\", \"lag_1681\", \"lag_287\", \"lag_288\", \"lag_289\", \"dummy_Balckout\", \"dummy_HeatWaves\", \"dummy_Winter\", \"dummy_Spring\", \"dummy_Summer\"]]\n",
    "y_test = df_test[['demand']]\n",
    "\n",
    "#X_test = df_test[[\"air_temp\", \"price\", \"lag_1\", \"lag_2\", \"lag_3\", \"lag_4\", \"lag_5\", \"lag_6\", \"lag_7\", \"lag_45\", \"lag_46\", \"lag_47\", \"lag_48\", \"lag_49\", \"lag_50\", \"lag_51\", \"lag_334\", \"lag_335\", \"lag_336\", \"lag_337\", \"lag_338\", \"lag_1006\", \"lag_1007\", \"lag_1008\", \"lag_1009\", \"lag_1010\", \"lag_1679\", \"lag_1680\", \"lag_1681\", \"lag_287\", \"lag_288\", \"lag_289\"]]\n",
    "#y_test = df_test[['demand']]\n",
    "\n",
    "# Print the dimensions of X and y \n",
    "print(\"Dimensions of y: {}\".format(y_test.shape))\n",
    "print(\"Dimensions of X: {}\".format(X_test.shape))"
   ]
  },
  {
   "cell_type": "markdown",
   "metadata": {},
   "source": [
    "## 1.3 Data Transformation\n",
    "Making sure we only transform the numerical features and not the two dummy variables."
   ]
  },
  {
   "cell_type": "code",
   "execution_count": 11,
   "metadata": {},
   "outputs": [],
   "source": [
    "# We now create a list of numerical variables which will later be transformed\n",
    "categorical = ['dummy_Balckout', 'dummy_HeatWaves', 'dummy_Winter', 'dummy_Spring', 'dummy_Summer']\n",
    "exclude = categorical\n",
    "numerical=[x for x in list(X_train.columns) if x not in exclude]"
   ]
  },
  {
   "cell_type": "code",
   "execution_count": 12,
   "metadata": {},
   "outputs": [],
   "source": [
    "# Create numerical and categorical subsets of the data\n",
    "X_train_numerical=X_train[numerical]\n",
    "X_validate_numerical=X_validate[numerical]\n",
    "X_test_numerical=X_test[numerical]\n",
    "\n",
    "X_train_categorical=X_train[categorical]\n",
    "X_validate_categorical=X_validate[categorical]\n",
    "X_test_categorical=X_test[categorical]"
   ]
  },
  {
   "cell_type": "code",
   "execution_count": 13,
   "metadata": {},
   "outputs": [],
   "source": [
    "# Use StandardScaler to transform numerical data\n",
    "sc = StandardScaler().fit(X_train_numerical)\n",
    "X_train_numerical_sc = sc.transform(X_train_numerical)\n",
    "X_validate_numerical_sc = sc.transform(X_validate_numerical)\n",
    "X_test_numerical_sc = sc.transform(X_test_numerical)\n",
    "\n",
    "# Add others here later"
   ]
  },
  {
   "cell_type": "code",
   "execution_count": 14,
   "metadata": {},
   "outputs": [],
   "source": [
    "# Get the index from the previous numerical df\n",
    "train_index = X_train_numerical.index\n",
    "validate_index = X_validate_numerical.index\n",
    "test_index = X_test_numerical.index\n",
    "\n",
    "# Create dataframe\n",
    "X_train_numerical_sc = pd.DataFrame(X_train_numerical_sc, columns=numerical, index=train_index)\n",
    "X_validate_numerical_sc = pd.DataFrame(X_validate_numerical_sc, columns=numerical, index=validate_index)\n",
    "X_test_numerical_sc = pd.DataFrame(X_test_numerical_sc, columns=numerical, index=test_index)\n",
    "\n",
    "# Combine the data again to form the complete data set\n",
    "X_train = pd.concat([X_train_numerical_sc, X_train_categorical], axis=1)\n",
    "X_validate = pd.concat([X_validate_numerical_sc, X_validate_categorical], axis=1)\n",
    "X_test = pd.concat([X_test_numerical_sc, X_test_categorical], axis=1)"
   ]
  },
  {
   "cell_type": "code",
   "execution_count": 15,
   "metadata": {},
   "outputs": [],
   "source": [
    "# Convert to arrays for modelling\n",
    "X_train = X_train.values\n",
    "X_validate = X_validate.values\n",
    "X_test = X_test.values\n",
    "\n",
    "y_train = y_train.values\n",
    "y_validate = y_validate.values\n",
    "y_test = y_test.values"
   ]
  },
  {
   "cell_type": "markdown",
   "metadata": {},
   "source": [
    "# 2. Modelling\n",
    "## 2.1 NN\n",
    "We fit the best NN model"
   ]
  },
  {
   "cell_type": "code",
   "execution_count": null,
   "metadata": {},
   "outputs": [],
   "source": [
    "# Find the size of the input\n",
    "n_input = X_train.shape[1]\n",
    "\n",
    "# Define the model\n",
    "model1 = Sequential()\n",
    "model1.add(Dense(25, input_dim=n_input, activation='relu', kernel_initializer='he_normal'))\n",
    "model1.add(Dropout(0))\n",
    "model1.add(Dense(20, activation='relu', kernel_initializer='he_normal'))\n",
    "model1.add(Dropout(0))\n",
    "model1.add(Dense(1, activation='linear', kernel_initializer='he_normal')) \n",
    "\n",
    "# Compile the model\n",
    "model1.compile(loss='mean_squared_error', optimizer='nadam', metrics=['mean_absolute_error','mean_absolute_percentage_error'])\n",
    "\n",
    "# Fit the model\n",
    "validation_data = (X_test, y_test)\n",
    "history1 = model1.fit(X_train, y_train, epochs=800, batch_size=25, validation_data=validation_data)\n",
    "\n",
    "# Calculate the scores\n",
    "scores1 = model1.evaluate(X_test, y_test)"
   ]
  },
  {
   "cell_type": "markdown",
   "metadata": {},
   "source": [
    "## 2.2 Residuals\n",
    "We also obtain the residuals for the best NN model (using the training data)"
   ]
  },
  {
   "cell_type": "code",
   "execution_count": null,
   "metadata": {},
   "outputs": [],
   "source": []
  },
  {
   "cell_type": "markdown",
   "metadata": {},
   "source": [
    "## 2.2 Ridge\n",
    "We also fit the best linear regression model"
   ]
  },
  {
   "cell_type": "code",
   "execution_count": 17,
   "metadata": {},
   "outputs": [
    {
     "name": "stdout",
     "output_type": "stream",
     "text": [
      "Best alpha : 1.0\n"
     ]
    }
   ],
   "source": [
    "# Find from default hyperparameters \n",
    "ridge = RidgeCV(cv=5)\n",
    "ridge.fit(X_train, y_train)\n",
    "alpha = ridge.alpha_\n",
    "print(\"Best alpha :\", alpha)"
   ]
  },
  {
   "cell_type": "code",
   "execution_count": 18,
   "metadata": {},
   "outputs": [
    {
     "name": "stdout",
     "output_type": "stream",
     "text": [
      "Try again for more precision with alphas centered around 1.0\n",
      "Best alpha : 1.4\n"
     ]
    }
   ],
   "source": [
    "# Find from more refined list\n",
    "print(\"Try again for more precision with alphas centered around \" + str(alpha))\n",
    "ridge = RidgeCV(alphas = [alpha * .6, alpha * .65, alpha * .7, alpha * .75, alpha * .8, \n",
    "                          alpha * .85, alpha * .9, alpha * .95, alpha, alpha * 1.05, \n",
    "                          alpha * 1.1, alpha * 1.15, alpha * 1.25, alpha * 1.3, alpha * 1.35, \n",
    "                          alpha * 1.4], cv = 5)\n",
    "ridge.fit(X_train, y_train)\n",
    "alpha = ridge.alpha_\n",
    "print(\"Best alpha :\", alpha)"
   ]
  },
  {
   "cell_type": "markdown",
   "metadata": {},
   "source": [
    "## 2.3 Industry Model\n",
    "We also fit the baseline linear regression known as the industry model.\n",
    "\n",
    "We do this below as to not affect my current calcualtions."
   ]
  },
  {
   "cell_type": "markdown",
   "metadata": {},
   "source": [
    "# 3. Model Evaluation\n",
    "For this section we have selected the best machine learning models (one linear regression model and one NN model)."
   ]
  },
  {
   "cell_type": "markdown",
   "metadata": {},
   "source": [
    "## 3.1 Scores\n",
    "### 3.1.1 NN\n",
    "Clearly, the NN has been overfit to the training data. This makes it unsuitable for further evaluation."
   ]
  },
  {
   "cell_type": "code",
   "execution_count": 19,
   "metadata": {},
   "outputs": [
    {
     "data": {
      "image/png": "[encoded data removed]",
      "text/plain": [
       "<Figure size 432x288 with 1 Axes>"
      ]
     },
     "metadata": {},
     "output_type": "display_data"
    }
   ],
   "source": [
    "# summarize history for loss\n",
    "plt.plot(history1.history['mean_absolute_percentage_error'])\n",
    "plt.plot(history1.history['val_mean_absolute_percentage_error'])\n",
    "#plt.ylim(0, 10)\n",
    "plt.title('MAPE vs Epoch')\n",
    "plt.ylabel('MAPE')\n",
    "plt.xlabel('epoch')\n",
    "plt.legend(['train', 'validate'], loc='upper right')\n",
    "plt.show()"
   ]
  },
  {
   "cell_type": "code",
   "execution_count": 20,
   "metadata": {},
   "outputs": [
    {
     "name": "stdout",
     "output_type": "stream",
     "text": [
      "\n",
      "mean_absolute_percentage_error: 43.67%\n"
     ]
    }
   ],
   "source": [
    "print(\"\\n%s: %.2f%%\" % (model1.metrics_names[2], scores1[2]))"
   ]
  },
  {
   "cell_type": "code",
   "execution_count": 21,
   "metadata": {},
   "outputs": [
    {
     "name": "stdout",
     "output_type": "stream",
     "text": [
      "\n",
      "mean_absolute_error: 551.51(MW)\n"
     ]
    }
   ],
   "source": [
    "print(\"\\n%s: %.2f(MW)\" % (model1.metrics_names[1], scores1[1])) "
   ]
  },
  {
   "cell_type": "markdown",
   "metadata": {},
   "source": [
    "### 3.1.2 Ridge"
   ]
  },
  {
   "cell_type": "code",
   "execution_count": 22,
   "metadata": {},
   "outputs": [],
   "source": [
    "def rmse_cv_train(model):\n",
    "    rmse= np.sqrt(-cross_val_score(model, X_train, y_train, scoring=\"neg_mean_squared_error\", cv = 5))\n",
    "    return(rmse)\n",
    "\n",
    "def rmse_cv_test(model):\n",
    "    rmse= np.sqrt(-cross_val_score(model, X_test, y_test, scoring=\"neg_mean_squared_error\", cv = 5))\n",
    "    return(rmse)\n",
    "\n",
    "def mae_cv_train(model):\n",
    "    mae= -cross_val_score(model, X_train, y_train, scoring=\"neg_mean_absolute_error\", cv = 5)\n",
    "    return(mae)\n",
    "\n",
    "def mae_cv_test(model):\n",
    "    mae= -cross_val_score(model, X_test, y_test, scoring=\"neg_mean_absolute_error\", cv = 5)\n",
    "    return(mae)\n",
    "\n",
    "def mape_no_cv(model, X, y):\n",
    "    y_pred = model.predict(X)\n",
    "    mape = np.abs((y-y_pred))/np.abs(y) # Check this definition\n",
    "    return np.mean(mape)\n",
    "    \n",
    "def mae_no_cv(model, X, y):\n",
    "    y_pred = model.predict(X)\n",
    "    return mean_absolute_error(y, y_pred) # Check the order of the inputs here"
   ]
  },
  {
   "cell_type": "code",
   "execution_count": 23,
   "metadata": {},
   "outputs": [
    {
     "name": "stdout",
     "output_type": "stream",
     "text": [
      "Ridge MAPE on Test set : 0.015608664969769518\n",
      "Rige MAE on Test set : 19.864581901686797\n"
     ]
    }
   ],
   "source": [
    "# Find the validation score\n",
    "mape_ridge = mape_no_cv(ridge, X_test, y_test)\n",
    "mae_ridge = mae_no_cv(ridge, X_test, y_test)\n",
    "print(\"Ridge MAPE on Test set :\", mape_ridge)\n",
    "print(\"Rige MAE on Test set :\", mae_ridge)"
   ]
  },
  {
   "cell_type": "markdown",
   "metadata": {},
   "source": [
    "## 3.2 Bootstrapping the MAPE and MAE\n",
    "We directly resample the observations from the test data. "
   ]
  },
  {
   "cell_type": "code",
   "execution_count": 24,
   "metadata": {},
   "outputs": [],
   "source": [
    "# Function to plot the distribution\n",
    "import seaborn as sns\n",
    "\n",
    "def hist(series):\n",
    "    fig, ax = plt.subplots()\n",
    "    sns.distplot(series, ax=ax, hist_kws={'alpha': 0.9, 'edgecolor':'black', 'color': sns.color_palette('Blues')[-1]},  \n",
    "                 kde_kws={'color': 'black', 'alpha': 0.7})\n",
    "    return fig, ax"
   ]
  },
  {
   "cell_type": "code",
   "execution_count": 25,
   "metadata": {},
   "outputs": [
    {
     "name": "stdout",
     "output_type": "stream",
     "text": [
      "CPU times: user 12.9 s, sys: 62.4 ms, total: 13 s\n",
      "Wall time: 3.24 s\n"
     ]
    }
   ],
   "source": [
    "%%time\n",
    "\n",
    "\n",
    "# Settings\n",
    "S = 10000 # Number of bootstrap replications (start small!)\n",
    "n = len(y_test) # It is useful to store the size of the data\n",
    "\n",
    "# Generating the bootstrap samples\n",
    "# The bootstrap sample has the same size as the original sample\n",
    "\n",
    "mape_boot = []\n",
    "mae_boot = []\n",
    "\n",
    "for i in range(S):\n",
    "    \n",
    "    # Get the boostrap random indexes\n",
    "    bootstrap_index = np.random.randint(n, size=n)\n",
    "    \n",
    "    # draws a sample of size n from X_test and y_test with replacement\n",
    "    X_test_bootstrap_sample = X_test[bootstrap_index]\n",
    "    y_test_bootstrap_sample = y_test[bootstrap_index]\n",
    "    \n",
    "    # Now, we have our bootstrap sample. Lets fit the model and find the error metrics\n",
    "    y_pred = ridge.predict(X_test_bootstrap_sample)\n",
    "    \n",
    "    # Find the MAPE and MAE\n",
    "    mape = np.mean(np.abs((y_test_bootstrap_sample-y_pred))/np.abs(y_test_bootstrap_sample))\n",
    "    mae = mean_absolute_error(y_test_bootstrap_sample, y_pred)\n",
    "    \n",
    "    # Bootstrap  statistic\n",
    "    mape_boot.append(mape)\n",
    "    mae_boot.append(mae)"
   ]
  },
  {
   "cell_type": "code",
   "execution_count": 26,
   "metadata": {},
   "outputs": [
    {
     "data": {
      "image/png": "[encoded data removed]",
      "text/plain": [
       "<Figure size 432x432 with 1 Axes>"
      ]
     },
     "metadata": {},
     "output_type": "display_data"
    }
   ],
   "source": [
    "fig, ax = plt.subplots(figsize=(6,6))\n",
    "sns.distplot(mape_boot, ax=ax, hist_kws={'alpha': 0.9, 'edgecolor':'black', 'color': sns.color_palette('Blues')[-1]},  \n",
    "                 kde_kws={'color': 'black', 'alpha': 0.7})\n",
    "\n",
    "plt.title('Bootstrapped MAPE on Test Data')\n",
    "plt.ylabel('frequency')\n",
    "plt.xlabel('mape')\n",
    "plt.show()\n",
    "#fig.savefig('model15_bootstrapped_rmse_instantaneous_combined.png', bbox_inches='tight')"
   ]
  },
  {
   "cell_type": "code",
   "execution_count": 27,
   "metadata": {},
   "outputs": [
    {
     "data": {
      "image/png": "[encoded data removed]",
      "text/plain": [
       "<Figure size 432x432 with 1 Axes>"
      ]
     },
     "metadata": {},
     "output_type": "display_data"
    }
   ],
   "source": [
    "fig, ax = plt.subplots(figsize=(6,6))\n",
    "sns.distplot(mae_boot, ax=ax, hist_kws={'alpha': 0.9, 'edgecolor':'black', 'color': sns.color_palette('Blues')[-1]},  \n",
    "                 kde_kws={'color': 'black', 'alpha': 0.7})\n",
    "\n",
    "plt.title('Bootstrapped MAE on Test Data')\n",
    "plt.ylabel('frequency')\n",
    "plt.xlabel('mae')\n",
    "plt.show()\n",
    "#fig.savefig('model15_bootstrapped_rmse_instantaneous_combined.png', bbox_inches='tight')"
   ]
  },
  {
   "cell_type": "markdown",
   "metadata": {},
   "source": [
    "### 3.2.1 95% CI\n",
    "#### 3.2.1.1 Pivotal CI\n",
    "We can now use a bootstrap pivotal confidence interval to find the 95% CI"
   ]
  },
  {
   "cell_type": "code",
   "execution_count": 28,
   "metadata": {},
   "outputs": [
    {
     "name": "stdout",
     "output_type": "stream",
     "text": [
      "The lower interval for MAPE is:  0.01620819361638261\n",
      "The upper interval for MAPE is:  0.016455729210856387\n"
     ]
    }
   ],
   "source": [
    "print('The lower interval for MAPE is: ', 2*mape_ridge-np.percentile(mape_boot, 0.975))\n",
    "print('The upper interval for MAPE is: ', 2*mape_ridge-np.percentile(mape_boot, 0.025))"
   ]
  },
  {
   "cell_type": "code",
   "execution_count": 29,
   "metadata": {},
   "outputs": [
    {
     "name": "stdout",
     "output_type": "stream",
     "text": [
      "The lower interval for MAE is:  20.5925069948142\n",
      "The upper interval for MAE is:  20.93208141056983\n"
     ]
    }
   ],
   "source": [
    "print('The lower interval for MAE is: ', 2*mae_ridge-np.percentile(mae_boot, 0.975))\n",
    "print('The upper interval for MAE is: ', 2*mae_ridge-np.percentile(mae_boot, 0.025))"
   ]
  },
  {
   "cell_type": "markdown",
   "metadata": {},
   "source": [
    "#### 3.2.1.2 Percentile Interval"
   ]
  },
  {
   "cell_type": "code",
   "execution_count": 30,
   "metadata": {},
   "outputs": [
    {
     "name": "stdout",
     "output_type": "stream",
     "text": [
      "The lower interval for MAPE is:  0.014761600728682649\n",
      "The upper interval for MAPE is:  0.015009136323156425\n"
     ]
    }
   ],
   "source": [
    "print('The lower interval for MAPE is: ', np.percentile(mape_boot, 0.025))\n",
    "print('The upper interval for MAPE is: ', np.percentile(mape_boot, 0.975))"
   ]
  },
  {
   "cell_type": "code",
   "execution_count": 31,
   "metadata": {},
   "outputs": [
    {
     "name": "stdout",
     "output_type": "stream",
     "text": [
      "The lower interval for MAE is:  18.797082392803766\n",
      "The upper interval for MAE is:  19.136656808559394\n"
     ]
    }
   ],
   "source": [
    "print('The lower interval for MAE is: ', np.percentile(mae_boot, 0.025))\n",
    "print('The upper interval for MAE is: ', np.percentile(mae_boot, 0.975))"
   ]
  },
  {
   "cell_type": "markdown",
   "metadata": {},
   "source": [
    "## 3.3 Bootstrapping Improvement over Industry Model"
   ]
  },
  {
   "cell_type": "code",
   "execution_count": null,
   "metadata": {},
   "outputs": [],
   "source": [
    "# Read in the data\n",
    "df_industry = pd.read_csv('../../../0. Data/demand_lagged_industry_181017.csv')\n",
    "#df['period'] = pd.to_datetime(df['time'], format='%Y-%m-%d %H:%M')\n",
    "df_industry.sort_values(by='time', ascending=True, inplace=True)\n",
    "\n",
    "# Remove NaN values\n",
    "df_industry.dropna(axis=0, inplace=True)\n",
    "df_industry.reset_index(drop=True,inplace=True)\n",
    "\n",
    "# Create training and test sets\n",
    "split_point_industry = 14251\n",
    "df_train_validate_industry = df_industry.iloc[0:split_point_industry,:]\n",
    "df_test_industry = df_industry.iloc[split_point_industry:,:]\n",
    "\n",
    "\n",
    "# Create training and validation sets\n",
    "split_point_industry = 11419\n",
    "df_train_industry = df_train_validate_industry.iloc[0:split_point_industry,:]\n",
    "df_validate_industry = df_train_validate_industry.iloc[split_point_industry:,:]\n",
    "\n",
    "\n",
    "# Shuffle \n",
    "from sklearn.utils import shuffle\n",
    "df_train_industry = shuffle(df_train_industry)\n",
    "df_validate_industry = shuffle(df_validate_industry)\n",
    "df_test_industry = shuffle(df_test_industry)\n",
    "\n",
    "\n",
    "# Convert the data\n",
    "X_train_industry = df_train_industry[[\"log_1_2\", \"log_2_3\", \"log_3_4\", \"log_4_5\", \"log_336_337\", \"log_337_338\", \"log_338_339\", \"log_339_340\"]].values\n",
    "y_train_industry = df_train_industry[['demand']].values\n",
    "\n",
    "\n",
    "# Convert the data\n",
    "X_validate_industry = df_validate_industry[[\"log_1_2\", \"log_2_3\", \"log_3_4\", \"log_4_5\", \"log_336_337\", \"log_337_338\", \"log_338_339\", \"log_339_340\"]].values\n",
    "y_validate_industry = df_validate_industry[['demand']].values\n",
    "\n",
    "\n",
    "# Convert the data\n",
    "X_test_industry = df_test_industry[[\"log_1_2\", \"log_2_3\", \"log_3_4\", \"log_4_5\", \"log_336_337\", \"log_337_338\", \"log_338_339\", \"log_339_340\"]].values\n",
    "y_test_industry = df_test_industry[['demand']].values\n",
    "\n",
    "# Standardise the input\n",
    "sc_industry = StandardScaler().fit(X_train_industry)\n",
    "X_train_industry = sc_industry.transform(X_train_industry)\n",
    "X_validate_industry = sc_industry.transform(X_validate_industry)\n",
    "X_test_industry = sc_industry.transform(X_test_industry)\n",
    "\n",
    "\n",
    "# Find the size of the input\n",
    "n_input = X_train_industry.shape[1]\n",
    "\n",
    "model3 = Sequential()\n",
    "model3.add(Dense(16, input_dim=n_input, activation='relu'))\n",
    "model3.add(Dense(8, activation='relu'))\n",
    "model3.add(Dense(1, activation='linear')) # Regression problem so we want linear output\n",
    "\n",
    "\n",
    "# ## 2.3 Compile the Model\n",
    "model3.compile(loss='mean_absolute_percentage_error', optimizer='adam', metrics=['mean_absolute_error','mean_squared_error'])\n",
    "\n",
    "# Create a tuple of the test data\n",
    "validation_data_industry = (X_test_industry, y_test_industry)\n",
    "\n",
    "# Fit the model\n",
    "history3 = model3.fit(X_train_industry, y_train_industry, epochs=500, batch_size=32, validation_data=validation_data_industry)"
   ]
  },
  {
   "cell_type": "code",
   "execution_count": null,
   "metadata": {},
   "outputs": [],
   "source": [
    "# Calculate the scores\n",
    "scores3 = model3.evaluate(X_test_industry, y_test_industry)\n",
    "print(\"\\n%s: %.2f%%\" % (model3.metrics_names[0], scores3[0]))\n",
    "print(\"\\n%s: %.2f(MW)\" % (model3.metrics_names[1], scores3[1])) "
   ]
  },
  {
   "cell_type": "code",
   "execution_count": null,
   "metadata": {},
   "outputs": [],
   "source": [
    "%%time\n",
    "\n",
    "\n",
    "# Settings\n",
    "S = 5000 # Number of bootstrap replications (start small!)\n",
    "n = len(y_test) # It is useful to store the size of the data\n",
    "n_industry = len(y_test_industry)\n",
    "\n",
    "# Generating the bootstrap samples\n",
    "# The bootstrap sample has the same size as the original sample\n",
    "\n",
    "mape_boot_diff = []\n",
    "mae_boot_diff = []\n",
    "\n",
    "for i in range(S):\n",
    "    \n",
    "    # Get the boostrap random indexes\n",
    "    bootstrap_index = np.random.randint(n, size=n)\n",
    "    bootstrap_index_industry = np.random.randint(n_industry, size=n_industry)\n",
    "    \n",
    "    # draws a sample of size n from X_test and y_test with replacement\n",
    "    X_test_bootstrap_sample = X_test[bootstrap_index]\n",
    "    y_test_bootstrap_sample = y_test[bootstrap_index]\n",
    "    X_test_bootstrap_sample_industry = X_test_industry[bootstrap_index_industry]\n",
    "    y_test_bootstrap_sample_industry = y_test_industry[bootstrap_index_industry]\n",
    "    \n",
    "    # Now, we have our bootstrap sample. Lets fit the model and find the error metrics\n",
    "    y_pred_ridge = ridge.predict(X_test_bootstrap_sample)\n",
    "    y_pred_industry = model3.predict(X_test_bootstrap_sample_industry)\n",
    "    \n",
    "    # Find the MAPE and MAE\n",
    "    mape_ridge = np.mean(np.abs((y_test_bootstrap_sample-y_pred_ridge))/np.abs(y_test_bootstrap_sample))\n",
    "    mae_ridge = mean_absolute_error(y_test_bootstrap_sample, y_pred_ridge)\n",
    "    \n",
    "    mape_industry = np.mean(np.abs((y_test_bootstrap_sample_industry-y_pred_industry))/np.abs(y_test_bootstrap_sample_industry))\n",
    "    mae_industry = mean_absolute_error(y_test_bootstrap_sample_industry, y_pred_industry)\n",
    "    \n",
    "    # Bootstrap  statistic\n",
    "    mape_boot_diff.append(mape_industry-mape_ridge)\n",
    "    mae_boot_diff.append(mae_industry-mae_ridge)"
   ]
  },
  {
   "cell_type": "code",
   "execution_count": null,
   "metadata": {},
   "outputs": [],
   "source": [
    "fig, ax = plt.subplots(figsize=(6,6))\n",
    "sns.distplot(mape_boot_diff, ax=ax, hist_kws={'alpha': 0.9, 'edgecolor':'black', 'color': sns.color_palette('Blues')[-1]},  \n",
    "                 kde_kws={'color': 'black', 'alpha': 0.7})\n",
    "\n",
    "plt.title('Bootstrapped MAPE Difference on Test Data')\n",
    "plt.ylabel('frequency')\n",
    "plt.xlabel('mape difference')\n",
    "plt.show()\n",
    "#fig.savefig('model15_bootstrapped_rmse_instantaneous_combined.png', bbox_inches='tight')"
   ]
  },
  {
   "cell_type": "code",
   "execution_count": null,
   "metadata": {},
   "outputs": [],
   "source": [
    "fig, ax = plt.subplots(figsize=(6,6))\n",
    "sns.distplot(mae_boot_diff, ax=ax, hist_kws={'alpha': 0.9, 'edgecolor':'black', 'color': sns.color_palette('Blues')[-1]},  \n",
    "                 kde_kws={'color': 'black', 'alpha': 0.7})\n",
    "\n",
    "plt.title('Bootstrapped MAE Difference on Test Data')\n",
    "plt.ylabel('frequency')\n",
    "plt.xlabel('mae difference')\n",
    "plt.show()\n",
    "#fig.savefig('model15_bootstrapped_rmse_instantaneous_combined.png', bbox_inches='tight')"
   ]
  },
  {
   "cell_type": "markdown",
   "metadata": {},
   "source": [
    "### 3.3.1 95% CI"
   ]
  },
  {
   "cell_type": "code",
   "execution_count": null,
   "metadata": {},
   "outputs": [],
   "source": [
    "mape_diff = scores3[0]/100 - mape_ridge\n",
    "mae_diff = scores3[1] - mae_ridge"
   ]
  },
  {
   "cell_type": "markdown",
   "metadata": {},
   "source": [
    "#### 3.3.1.1 Pivotal"
   ]
  },
  {
   "cell_type": "code",
   "execution_count": null,
   "metadata": {},
   "outputs": [],
   "source": [
    "print('The lower interval for MAPE Difference is: ', 2*mape_diff-np.percentile(mape_boot_diff, 0.975))\n",
    "print('The upper interval for MAPE Difference is: ', 2*mape_diff-np.percentile(mape_boot_diff, 0.025))"
   ]
  },
  {
   "cell_type": "code",
   "execution_count": null,
   "metadata": {},
   "outputs": [],
   "source": [
    "print('The lower interval for MAE Difference is: ', 2*mae_diff-np.percentile(mae_boot_diff, 0.975))\n",
    "print('The upper interval for MAE Difference is: ', 2*mae_diff-np.percentile(mae_boot_diff, 0.025))"
   ]
  },
  {
   "cell_type": "markdown",
   "metadata": {},
   "source": [
    "#### 3.3.1.2 Pivotal"
   ]
  },
  {
   "cell_type": "code",
   "execution_count": null,
   "metadata": {},
   "outputs": [],
   "source": [
    "print('The lower interval for MAPE Difference is: ', np.percentile(mape_boot_diff, 0.025))\n",
    "print('The upper interval for MAPE Difference is: ', np.percentile(mape_boot_diff, 0.975))"
   ]
  },
  {
   "cell_type": "code",
   "execution_count": null,
   "metadata": {},
   "outputs": [],
   "source": [
    "print('The lower interval for MAE Difference is: ', np.percentile(mae_boot_diff, 0.025))\n",
    "print('The upper interval for MAE Difference is: ', np.percentile(mae_boot_diff, 0.975))"
   ]
  },
  {
   "cell_type": "code",
   "execution_count": null,
   "metadata": {},
   "outputs": [],
   "source": []
  }
 ],
 "metadata": {
  "kernelspec": {
   "display_name": "Python 3",
   "language": "python",
   "name": "python3"
  },
  "language_info": {
   "codemirror_mode": {
    "name": "ipython",
    "version": 3
   },
   "file_extension": ".py",
   "mimetype": "text/x-python",
   "name": "python",
   "nbconvert_exporter": "python",
   "pygments_lexer": "ipython3",
   "version": "3.7.1"
  }
 },
 "nbformat": 4,
 "nbformat_minor": 2
}

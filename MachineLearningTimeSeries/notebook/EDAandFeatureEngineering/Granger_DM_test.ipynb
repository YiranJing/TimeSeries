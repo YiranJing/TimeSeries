{
 "cells": [
  {
   "cell_type": "markdown",
   "metadata": {},
   "source": [
    "## Title: Hypothesis Tests for Time Series Model\n",
    "\n",
    "##### Note:  We do the following tests with reasoning, but cannot make decision simply based on hypothesis test\n",
    "\n",
    "### 1 Test  for Granger Causality\n",
    "https://www.rdocumentation.org/packages/lmtest/versions/0.9-36/topics/grangertest\n",
    "\n",
    "### 2. Diebold-Mariano Test For Predictive Accuracy\n",
    "https://www.rdocumentation.org/packages/forecast/versions/8.4/topics/dm.test\n",
    "\n",
    "\n",
    "Author: Yiran Jing\n",
    "\n",
    "Date: 26-10-2018\n",
    "\n",
    "\n"
   ]
  },
  {
   "cell_type": "code",
   "execution_count": 2,
   "metadata": {},
   "outputs": [],
   "source": [
    "library(ggplot2)\n",
    "library(forecast)\n",
    "library(vars)\n",
    "require(ggfortify)\n",
    "require(ggplot2)\n",
    "require(forecast)\n",
    "library(urca)"
   ]
  },
  {
   "cell_type": "code",
   "execution_count": 3,
   "metadata": {},
   "outputs": [],
   "source": [
    "power = read.csv(\"../data/shorter_clean_data_26_10_2018.csv\") # 17451\n",
    "train_set= power[ c(1:14542), ]\n",
    "\n",
    "AR_best_fit = read.csv('../data/SAR_train_data.csv',)\n",
    "AR_336_fit = read.csv(\"../data/AR336_train_data.csv\")\n",
    "\n"
   ]
  },
  {
   "cell_type": "code",
   "execution_count": 17,
   "metadata": {},
   "outputs": [],
   "source": [
    "AR_336_fit_residual = AR_336_fit[,2][337:(length(AR_336_fit[,2]))] - power[,2][337:(length(AR_best_fit[,2]))]\n",
    "\n",
    "AR_best_fit_residual = AR_best_fit[,2][337:(length(AR_best_fit[,2]))] - power[,2][337:(length(AR_best_fit[,2]))]\n",
    "RW_one_step_resid = power[,2][336:(length(AR_best_fit[,2])-1)] - power[,2][337:(length(AR_best_fit[,2]))]"
   ]
  },
  {
   "cell_type": "markdown",
   "metadata": {},
   "source": [
    "### Granger Causality Test\n",
    "Test For bavriate Granger Causality\n",
    "##### Motivation:\n",
    "\n",
    "- Grander Test like **Variale selection**\n",
    "\n",
    "Granger test on whether to combine variables? Since Granger is just seeing if it adding another variable z would be useful for helping forecast x\n",
    "\n",
    "i.e. If demand and price/temperature are not **‘cointegrated’**, a regress of them is **‘spurious’** and tells us nothing!\n",
    "\n",
    "**Cointegration** tell about how in long run, there is a relationship between two non-stationary variables. (In economics, it is like if they can achieve to a long-run equilirium relationship)\n",
    "\n",
    "To be specific, we do can have cointegrated relationship between two variables, i.e. Regress two non-stationary time series, get I(0) result! \n",
    "\n",
    "we are checking to see if including x is useful for predicting y when y's own history is already being used for prediction. That is, do not miss the fact the x has to be useful beyond (or extra to) the own history of y."
   ]
  },
  {
   "cell_type": "markdown",
   "metadata": {},
   "source": [
    "\n",
    "##### Details:\n",
    "Model 1 is the unrestricted model that includes the Granger-causal terms. \n",
    "\n",
    "Model 2 is the restricted model where the Granger-causal terms are omitted.\n",
    "\n",
    "The test is a Wald test that assesses whether using the restricted Model 2 in place of Model 1 makes statistical sense (roughly speaking).\n",
    "\n",
    "H0: no Granger causality\n",
    "\n",
    "As Pr(>F)< 0.01, we reject H0. "
   ]
  },
  {
   "cell_type": "code",
   "execution_count": 42,
   "metadata": {},
   "outputs": [],
   "source": [
    "data = read.csv(\"../data/shorter_clean_data_26_10_2018.csv\")"
   ]
  },
  {
   "cell_type": "code",
   "execution_count": 37,
   "metadata": {},
   "outputs": [],
   "source": [
    "test_variales = data[,2:4]  # 3 variales, demand, price, air temp"
   ]
  },
  {
   "cell_type": "markdown",
   "metadata": {},
   "source": [
    "##### Demand and air temp"
   ]
  },
  {
   "cell_type": "code",
   "execution_count": 56,
   "metadata": {},
   "outputs": [],
   "source": [
    "gre1 = grangertest(data[,2], data[,3], 48)"
   ]
  },
  {
   "cell_type": "code",
   "execution_count": 57,
   "metadata": {},
   "outputs": [
    {
     "data": {
      "text/html": [
       "<table>\n",
       "<thead><tr><th scope=col>Res.Df</th><th scope=col>Df</th><th scope=col>F</th><th scope=col>Pr(&gt;F)</th></tr></thead>\n",
       "<tbody>\n",
       "\t<tr><td>17306      </td><td> NA        </td><td>      NA   </td><td>         NA</td></tr>\n",
       "\t<tr><td>17354      </td><td>-48        </td><td>6.583543   </td><td>1.13782e-40</td></tr>\n",
       "</tbody>\n",
       "</table>\n"
      ],
      "text/latex": [
       "\\begin{tabular}{r|llll}\n",
       " Res.Df & Df & F & Pr(>F)\\\\\n",
       "\\hline\n",
       "\t 17306       &  NA         &       NA    &          NA\\\\\n",
       "\t 17354       & -48         & 6.583543    & 1.13782e-40\\\\\n",
       "\\end{tabular}\n"
      ],
      "text/markdown": [
       "\n",
       "Res.Df | Df | F | Pr(>F) | \n",
       "|---|---|\n",
       "| 17306       |  NA         |       NA    |          NA | \n",
       "| 17354       | -48         | 6.583543    | 1.13782e-40 | \n",
       "\n",
       "\n"
      ],
      "text/plain": [
       "  Res.Df Df  F        Pr(>F)     \n",
       "1 17306   NA       NA          NA\n",
       "2 17354  -48 6.583543 1.13782e-40"
      ]
     },
     "metadata": {},
     "output_type": "display_data"
    }
   ],
   "source": [
    "gre1"
   ]
  },
  {
   "cell_type": "markdown",
   "metadata": {},
   "source": [
    "##### Demand and price"
   ]
  },
  {
   "cell_type": "code",
   "execution_count": 45,
   "metadata": {},
   "outputs": [],
   "source": [
    "gre2 =grangertest(data[,2], data[,4], 336)"
   ]
  },
  {
   "cell_type": "code",
   "execution_count": 49,
   "metadata": {},
   "outputs": [
    {
     "data": {
      "text/html": [
       "<table>\n",
       "<thead><tr><th scope=col>Res.Df</th><th scope=col>Df</th><th scope=col>F</th><th scope=col>Pr(&gt;F)</th></tr></thead>\n",
       "<tbody>\n",
       "\t<tr><td>16442       </td><td>  NA        </td><td>     NA     </td><td>          NA</td></tr>\n",
       "\t<tr><td>16778       </td><td>-336        </td><td>2.47233     </td><td>3.204935e-42</td></tr>\n",
       "</tbody>\n",
       "</table>\n"
      ],
      "text/latex": [
       "\\begin{tabular}{r|llll}\n",
       " Res.Df & Df & F & Pr(>F)\\\\\n",
       "\\hline\n",
       "\t 16442        &   NA         &      NA      &           NA\\\\\n",
       "\t 16778        & -336         & 2.47233      & 3.204935e-42\\\\\n",
       "\\end{tabular}\n"
      ],
      "text/markdown": [
       "\n",
       "Res.Df | Df | F | Pr(>F) | \n",
       "|---|---|\n",
       "| 16442        |   NA         |      NA      |           NA | \n",
       "| 16778        | -336         | 2.47233      | 3.204935e-42 | \n",
       "\n",
       "\n"
      ],
      "text/plain": [
       "  Res.Df Df   F       Pr(>F)      \n",
       "1 16442    NA      NA           NA\n",
       "2 16778  -336 2.47233 3.204935e-42"
      ]
     },
     "metadata": {},
     "output_type": "display_data"
    }
   ],
   "source": [
    "gre2"
   ]
  },
  {
   "cell_type": "code",
   "execution_count": 52,
   "metadata": {},
   "outputs": [
    {
     "data": {
      "text/html": [
       "FALSE"
      ],
      "text/latex": [
       "FALSE"
      ],
      "text/markdown": [
       "FALSE"
      ],
      "text/plain": [
       "[1] FALSE"
      ]
     },
     "metadata": {},
     "output_type": "display_data"
    }
   ],
   "source": [
    "3.204935e-42 >0.05\n"
   ]
  },
  {
   "cell_type": "markdown",
   "metadata": {},
   "source": [
    "As these two tests both have quite small p_value, so we reject h0, and say there is ???"
   ]
  },
  {
   "cell_type": "markdown",
   "metadata": {},
   "source": [
    "\n",
    "\n",
    "###  DM test\n",
    "\n",
    "##### Motivation:\n",
    "- DM test **model selection**\n",
    "\n",
    "The Diebold-Mariano test compares the forecast accuracy of two forecast methods.\n",
    "\n",
    "The null hypothesis is that the two methods have the same forecast accuracy. \n",
    "\n",
    "For alternative=\"less\", the alternative hypothesis is that method 2 is less accurate than method 1. \n",
    "\n",
    "method 1 is benchmark, method 2 is our suggested model\n",
    "\n",
    "In empirical applications it is often the case that two or more time series models are available for forecasting a particular variable of interest.\n",
    "\n",
    "**Question: Are the forecasts equally good?**\n",
    "\n",
    "actual values {yt;t = 1,...,T}\n",
    "\n",
    "two forecasts: {yˆ ;t = 1,...,T} {yˆ ;t = 1,...,T}\n",
    "\n",
    "https://otexts.org/fpp2/AR.html"
   ]
  },
  {
   "cell_type": "markdown",
   "metadata": {},
   "source": [
    "### 1. DM Test for RW_one step ahead with AR(336) model"
   ]
  },
  {
   "cell_type": "code",
   "execution_count": 21,
   "metadata": {},
   "outputs": [
    {
     "data": {
      "text/plain": [
       "\n",
       "\tDiebold-Mariano Test\n",
       "\n",
       "data:  RW_one_step_residAR_336_fit_residual\n",
       "DM = -257.34, Forecast horizon = 1, Loss function power = 2, p-value <\n",
       "2.2e-16\n",
       "alternative hypothesis: less\n"
      ]
     },
     "metadata": {},
     "output_type": "display_data"
    }
   ],
   "source": [
    "dm.test(RW_one_step_resid,AR_336_fit_residual,\n",
    "        alternative = \"less\",\n",
    "        h=1) # The forecast horizon used in calculating e1 and e2"
   ]
  },
  {
   "cell_type": "markdown",
   "metadata": {},
   "source": [
    "**As p_value close to 0, so reject H0, that is the AR(336) do help to get higher forecast accuracy than RW one step ahead, that is good! as we win benckmark!\n",
    "**"
   ]
  },
  {
   "cell_type": "markdown",
   "metadata": {},
   "source": [
    "### 2. DM Test for AR(48) with AR(336) model"
   ]
  },
  {
   "cell_type": "code",
   "execution_count": 19,
   "metadata": {},
   "outputs": [
    {
     "data": {
      "text/plain": [
       "\n",
       "\tDiebold-Mariano Test\n",
       "\n",
       "data:  AR_best_fit_residualAR_336_fit_residual\n",
       "DM = -2.0527, Forecast horizon = 1, Loss function power = 2, p-value =\n",
       "0.02006\n",
       "alternative hypothesis: less\n"
      ]
     },
     "metadata": {},
     "output_type": "display_data"
    }
   ],
   "source": [
    "dm.test(AR_best_fit_residual,AR_336_fit_residual,\n",
    "        alternative = \"less\",\n",
    "        h=1) # The forecast horizon used in calculating e1 and e2"
   ]
  },
  {
   "cell_type": "markdown",
   "metadata": {},
   "source": [
    "**As p_value = 0.02 < 0.05 at the 5% level, so reject H0, that is the AR(336) do help to get higher forecast accuracy than AR(41)**\n",
    "\n",
    "but Note that, if at 1% level, we will cannot reject hupothesis! "
   ]
  },
  {
   "cell_type": "markdown",
   "metadata": {},
   "source": [
    "### 3. DM Test for ridge with NN"
   ]
  },
  {
   "cell_type": "code",
   "execution_count": 23,
   "metadata": {},
   "outputs": [],
   "source": [
    "ridge_res_train = read.csv('../data/residuals_ridge_train_181023.csv',)\n",
    "nn_res_train = read.csv('../data/residuals_nn_train_181027.csv',)"
   ]
  },
  {
   "cell_type": "code",
   "execution_count": 17,
   "metadata": {},
   "outputs": [
    {
     "data": {
      "text/html": [
       "12910"
      ],
      "text/latex": [
       "12910"
      ],
      "text/markdown": [
       "12910"
      ],
      "text/plain": [
       "[1] 12910"
      ]
     },
     "metadata": {},
     "output_type": "display_data"
    }
   ],
   "source": [
    "length(nn_res_train[,1])"
   ]
  },
  {
   "cell_type": "code",
   "execution_count": 18,
   "metadata": {},
   "outputs": [
    {
     "data": {
      "text/html": [
       "12910"
      ],
      "text/latex": [
       "12910"
      ],
      "text/markdown": [
       "12910"
      ],
      "text/plain": [
       "[1] 12910"
      ]
     },
     "metadata": {},
     "output_type": "display_data"
    }
   ],
   "source": [
    "length(ridge_res_train[,1])"
   ]
  },
  {
   "cell_type": "code",
   "execution_count": null,
   "metadata": {},
   "outputs": [],
   "source": []
  },
  {
   "cell_type": "code",
   "execution_count": null,
   "metadata": {},
   "outputs": [],
   "source": []
  },
  {
   "cell_type": "code",
   "execution_count": null,
   "metadata": {},
   "outputs": [],
   "source": []
  },
  {
   "cell_type": "code",
   "execution_count": 70,
   "metadata": {},
   "outputs": [],
   "source": [
    "ridge_res_train.index = ridge_res_train['train_index']"
   ]
  },
  {
   "cell_type": "code",
   "execution_count": 75,
   "metadata": {},
   "outputs": [],
   "source": [
    "nn_res_train.index = ridge_res_train['train_index']"
   ]
  },
  {
   "cell_type": "code",
   "execution_count": 76,
   "metadata": {},
   "outputs": [
    {
     "data": {
      "text/plain": [
       "\n",
       "\tDiebold-Mariano Test\n",
       "\n",
       "data:  ridge_res_train[, 3]nn_res_train[, 3]\n",
       "DM = -7.2224, Forecast horizon = 1, Loss function power = 2, p-value =\n",
       "2.697e-13\n",
       "alternative hypothesis: less\n"
      ]
     },
     "metadata": {},
     "output_type": "display_data"
    }
   ],
   "source": [
    "dm.test(ridge_res_train[,3],nn_res_train[,3],\n",
    "        alternative = \"less\",\n",
    "        h=1)"
   ]
  },
  {
   "cell_type": "markdown",
   "metadata": {},
   "source": [
    "As p_value close to 0 < 0.05 at the 5% level, so reject H0, that is the NN do help to get higher forecast accuracy than ridge model! \n",
    "but Note that, if at 1% level, we will cannot reject hupothesis!"
   ]
  },
  {
   "cell_type": "code",
   "execution_count": null,
   "metadata": {},
   "outputs": [],
   "source": []
  }
 ],
 "metadata": {
  "kernelspec": {
   "display_name": "R",
   "language": "R",
   "name": "ir"
  },
  "language_info": {
   "codemirror_mode": "r",
   "file_extension": ".r",
   "mimetype": "text/x-r-source",
   "name": "R",
   "pygments_lexer": "r",
   "version": "3.5.1"
  }
 },
 "nbformat": 4,
 "nbformat_minor": 2
}
